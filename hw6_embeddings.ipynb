{
 "cells": [
  {
   "cell_type": "code",
   "execution_count": 1,
   "metadata": {
    "id": "1aed5eae"
   },
   "outputs": [],
   "source": [
    "import tensorflow as tf\n",
    "import gensim\n",
    "import numpy as np\n",
    "import pandas as pd\n",
    "from string import punctuation\n",
    "from sklearn.model_selection import train_test_split\n",
    "from collections import Counter\n",
    "import matplotlib.pyplot as plt\n",
    "from sklearn.metrics.pairwise import cosine_distances\n",
    "import random"
   ]
  },
  {
   "cell_type": "markdown",
   "metadata": {
    "id": "ayzkIMKC8so9"
   },
   "source": [
    "Корпус с Wikipedia в качестве обучающих данных"
   ]
  },
  {
   "cell_type": "code",
   "execution_count": 2,
   "metadata": {
    "id": "b6omBBP48sQ1"
   },
   "outputs": [],
   "source": [
    "wiki_texts = open('wiki_data.txt').read().split('\\n')"
   ]
  },
  {
   "cell_type": "markdown",
   "metadata": {
    "id": "9c422aa0"
   },
   "source": [
    "# Задание 1 (3 балла)"
   ]
  },
  {
   "cell_type": "markdown",
   "metadata": {
    "id": "e4a72790"
   },
   "source": [
    "Обучите word2vec модели с негативным семплированием (cbow и skip-gram) с помощью tensorflow аналогично тому, как это было сделано в семинаре. Вам нужно изменить следующие пункты: \n",
    "1) добавьте лемматизацию в предобработку (любым способом)  \n",
    "2) измените размер окна на 6 для cbow и 12 для skip gram (обратите внимание, что размер окна = #слов слева + #слов справа, в gen_batches в семинаре window не так используется)  \n",
    "3) измените часть с np.random.randint(vocab_size) так, чтобы случайные негативные примеры выбирались обратно пропорционально частотностям слов (частотные должны выбираться реже, а редкие чаще)\n",
    "\n",
    "Выберете несколько не похожих по смыслу слов, и протестируйте полученные эмбединги (найдите ближайшие слова и оцените правильность, как в семинаре)"
   ]
  },
  {
   "cell_type": "code",
   "execution_count": 3,
   "metadata": {
    "id": "cde5fd96"
   },
   "outputs": [],
   "source": [
    "from pymorphy2 import MorphAnalyzer"
   ]
  },
  {
   "cell_type": "code",
   "execution_count": 4,
   "metadata": {
    "id": "6SUzocPu_Kt6"
   },
   "outputs": [],
   "source": [
    "morph = MorphAnalyzer()\n",
    "# предобработка -> токенизация + лемматизация\n",
    "def preprocess(text):\n",
    "    tokens = text.lower().split()\n",
    "    tokens = [token.strip(punctuation) for token in tokens]\n",
    "    # лемматизируем с pymorphy\n",
    "    tokens = [morph.parse(token)[0].normal_form for token in tokens]\n",
    "    return(tokens)"
   ]
  },
  {
   "cell_type": "code",
   "execution_count": 5,
   "metadata": {},
   "outputs": [],
   "source": [
    "import pickle\n",
    "\n",
    "texts_preprocessed = [preprocess(text) for text in wiki_texts]"
   ]
  },
  {
   "cell_type": "code",
   "execution_count": 6,
   "metadata": {},
   "outputs": [],
   "source": [
    "with open('wiki_texts_preprocessed.pickle', 'wb') as handle:\n",
    "    pickle.dump(texts_preprocessed, handle, protocol=pickle.HIGHEST_PROTOCOL)"
   ]
  },
  {
   "cell_type": "code",
   "execution_count": 17,
   "metadata": {
    "id": "HauaOJjhZWb0"
   },
   "outputs": [],
   "source": [
    "vocab = Counter()\n",
    "\n",
    "for text in wiki_texts:\n",
    "    vocab.update(preprocess(text))"
   ]
  },
  {
   "cell_type": "code",
   "execution_count": 18,
   "metadata": {
    "id": "FNLZRnT1Z2ut"
   },
   "outputs": [],
   "source": [
    "filtered_vocab = set()\n",
    "\n",
    "for word in vocab:\n",
    "    if vocab[word] > 30:\n",
    "        filtered_vocab.add(word)"
   ]
  },
  {
   "cell_type": "code",
   "execution_count": 19,
   "metadata": {
    "colab": {
     "base_uri": "https://localhost:8080/"
    },
    "id": "WfYLaqZDaKDb",
    "outputId": "89c04ecd-6bd7-4b30-8803-5af565d89579"
   },
   "outputs": [
    {
     "data": {
      "text/plain": [
       "7191"
      ]
     },
     "execution_count": 19,
     "metadata": {},
     "output_type": "execute_result"
    }
   ],
   "source": [
    "len(filtered_vocab)"
   ]
  },
  {
   "cell_type": "markdown",
   "metadata": {
    "id": "X-LxKJ99ayxM"
   },
   "source": [
    "Создаем словарь с индексами слов"
   ]
  },
  {
   "cell_type": "code",
   "execution_count": 20,
   "metadata": {
    "id": "qr7CfpfqaKJW"
   },
   "outputs": [],
   "source": [
    "word2id = { 'PAD':0}\n",
    "\n",
    "for word in filtered_vocab:\n",
    "    word2id[word] = len(word2id)\n",
    "    \n",
    "id2word = {i:word for word, i in word2id.items()}"
   ]
  },
  {
   "cell_type": "code",
   "execution_count": 21,
   "metadata": {
    "id": "LUeVNvB-aeKl"
   },
   "outputs": [],
   "source": [
    "sentences = []\n",
    "\n",
    "for text in wiki_texts:\n",
    "    tokens = preprocess(text)\n",
    "    ids = [word2id[token] for token in tokens if token in word2id]\n",
    "    sentences.append(ids)"
   ]
  },
  {
   "cell_type": "markdown",
   "metadata": {
    "id": "oUaXs9sOxmex"
   },
   "source": [
    "Создадим словарь из пар *id_слова + частота*, чтобы учитывать частоту слов при выборе отрицательных примеров для negative sampling:"
   ]
  },
  {
   "cell_type": "code",
   "execution_count": 22,
   "metadata": {
    "id": "jLTYV-vRreLt"
   },
   "outputs": [],
   "source": [
    "filtered_vocab_counts = {}\n",
    "\n",
    "for key in vocab.keys():\n",
    "    if key in filtered_vocab:\n",
    "        filtered_vocab_counts[key] = vocab[key]"
   ]
  },
  {
   "cell_type": "code",
   "execution_count": 23,
   "metadata": {
    "colab": {
     "base_uri": "https://localhost:8080/"
    },
    "id": "b23B1KIdyvfI",
    "outputId": "3eb476ed-f2ad-4bf3-fbfa-a3d07e2f06ee"
   },
   "outputs": [
    {
     "data": {
      "text/plain": [
       "[('южный', 1100),\n",
       " ('побережье', 331),\n",
       " ('фамилия', 215),\n",
       " ('распространение', 196),\n",
       " ('российский', 1518)]"
      ]
     },
     "execution_count": 23,
     "metadata": {},
     "output_type": "execute_result"
    }
   ],
   "source": [
    "list(filtered_vocab_counts.items())[150:155]"
   ]
  },
  {
   "cell_type": "code",
   "execution_count": 24,
   "metadata": {
    "id": "nbVq1-_DrmBl"
   },
   "outputs": [],
   "source": [
    "filtered_vocab_probs_ids= {}\n",
    "\n",
    "n = len(filtered_vocab_counts)\n",
    "for key in filtered_vocab_counts:\n",
    "    if key in word2id.keys():\n",
    "        filtered_vocab_probs_ids[word2id[key]] = filtered_vocab_counts[key]/n"
   ]
  },
  {
   "cell_type": "code",
   "execution_count": 25,
   "metadata": {
    "colab": {
     "base_uri": "https://localhost:8080/"
    },
    "id": "sppXK5HKykbm",
    "outputId": "06aaee84-a8f8-43ea-a827-7fdff89e37f2"
   },
   "outputs": [
    {
     "data": {
      "text/plain": [
       "[(5088, 0.15296898901404535),\n",
       " (1168, 0.046029759421499096),\n",
       " (547, 0.02989848421638159),\n",
       " (3123, 0.027256292587957167),\n",
       " (6154, 0.21109720483938257)]"
      ]
     },
     "execution_count": 25,
     "metadata": {},
     "output_type": "execute_result"
    }
   ],
   "source": [
    "list(filtered_vocab_probs_ids.items())[150:155]"
   ]
  },
  {
   "cell_type": "markdown",
   "metadata": {
    "id": "XK8JSAMnbXtS"
   },
   "source": [
    "### Skip Gram Negative Sampling"
   ]
  },
  {
   "cell_type": "code",
   "execution_count": 26,
   "metadata": {
    "id": "b5Pkecf8eIMJ"
   },
   "outputs": [],
   "source": [
    "# skip gram, генерируем обучающие примеры батчами\n",
    "def gen_batches_sg(sentences, window, batch_size=1000):\n",
    "    \n",
    "    while True:\n",
    "        X_target = []\n",
    "        X_context = []\n",
    "        y = []\n",
    "\n",
    "        for sent in sentences:\n",
    "            for i in range(len(sent)-1):\n",
    "                word = sent[i]\n",
    "\n",
    "                # задаем контекст, делим размер окна на 2 \n",
    "                context = sent[max(0, i-window//2):i] + sent[i+1:i+window//2]\n",
    "\n",
    "                for context_word in context:\n",
    "                    # генерируем положительные примеры\n",
    "                    X_target.append(word)\n",
    "                    X_context.append(context_word)\n",
    "                    y.append(1)\n",
    "                    \n",
    "                    # генерируем отрицательные примеры\n",
    "                    X_target.append(word)    \n",
    "                    # генерируем 50 рандомных индексов с учетом частот\n",
    "                    id_based_on_frequency = random.choices(list(filtered_vocab_probs_ids.keys()), \n",
    "                                                           weights=filtered_vocab_probs_ids.values(), \n",
    "                                                           k=50)[np.random.randint(50)] # берем один рандомный индекс из 50-ти\n",
    "                    X_context.append(id_based_on_frequency) \n",
    "                    y.append(0)\n",
    "                    \n",
    "                    if len(X_target) >= batch_size:\n",
    "                        X_target = np.array(X_target)\n",
    "                        X_context = np.array(X_context)\n",
    "                        y = np.array(y)\n",
    "                        yield ((X_target, X_context), y)\n",
    "                        X_target = []\n",
    "                        X_context = []\n",
    "                        y = []"
   ]
  },
  {
   "cell_type": "code",
   "execution_count": 27,
   "metadata": {
    "id": "aclRI5uQeneP"
   },
   "outputs": [],
   "source": [
    "inputs_target = tf.keras.layers.Input(shape=(1,)) # input для целевого слова\n",
    "inputs_context = tf.keras.layers.Input(shape=(1,)) # input для контекстного слова\n",
    "\n",
    "\n",
    "embeddings_target = tf.keras.layers.Embedding(input_dim=len(word2id), output_dim=300)(inputs_target, )\n",
    "embeddings_context = tf.keras.layers.Embedding(input_dim=len(word2id), output_dim=300)(inputs_context, )\n",
    "\n",
    "target = tf.keras.layers.Flatten()(embeddings_target)\n",
    "context = tf.keras.layers.Flatten()(embeddings_context)\n",
    "\n",
    "dot = tf.keras.layers.Dot(1)([target, context])\n",
    "outputs = tf.keras.layers.Activation(activation='sigmoid')(dot)\n",
    "\n",
    "skipgram_neg_smp_model = tf.keras.Model(inputs=[inputs_target, inputs_context], \n",
    "                       outputs=outputs)\n",
    "optimizer = tf.keras.optimizers.Adam(learning_rate=0.001)\n",
    "skipgram_neg_smp_model.compile(optimizer=optimizer,\n",
    "              loss='binary_crossentropy',\n",
    "              metrics=['accuracy'])"
   ]
  },
  {
   "cell_type": "code",
   "execution_count": null,
   "metadata": {
    "id": "_wahtg_zzunh"
   },
   "outputs": [],
   "source": [
    "skipgram_neg_smp_model.fit(gen_batches_sg(sentences[:19000], window=12),\n",
    "          validation_data=gen_batches_sg(sentences[19000:],  window=12),\n",
    "          batch_size=1000,\n",
    "          steps_per_epoch=10000,\n",
    "          validation_steps=30,\n",
    "          epochs=2)"
   ]
  },
  {
   "cell_type": "markdown",
   "metadata": {
    "id": "XlwEPrZg0Jqv"
   },
   "source": [
    "### CBOW negative sampling"
   ]
  },
  {
   "cell_type": "code",
   "execution_count": 28,
   "metadata": {
    "id": "t32U5WrB0M6m"
   },
   "outputs": [],
   "source": [
    "# cbow \n",
    "def gen_batches_cbow(sentences, window, batch_size=1000):\n",
    "    while True:\n",
    "        X_target = []\n",
    "        X_context = []\n",
    "        y = []\n",
    "\n",
    "        for sent in sentences:\n",
    "            for i in range(len(sent)-1):\n",
    "                word = sent[i]\n",
    "                context = sent[max(0, i-window//2):i] + sent[i+1:i+window//2]\n",
    "\n",
    "                X_target.append(word)\n",
    "                X_context.append(context)\n",
    "                y.append(1)\n",
    "                \n",
    "                id_based_on_frequency = random.choices(list(filtered_vocab_probs_ids.keys()), \n",
    "                                                           weights=filtered_vocab_probs_ids.values(), \n",
    "                                                           k=50)[np.random.randint(50)]\n",
    "                X_target.append(np.random.randint(id_based_on_frequency))\n",
    "                X_context.append(context)\n",
    "                y.append(0)\n",
    "\n",
    "                if len(X_target) == batch_size:\n",
    "                    X_target = np.array(X_target)\n",
    "                    X_context = tf.keras.preprocessing.sequence.pad_sequences(X_context, maxlen=window*2)\n",
    "                    y = np.array(y)\n",
    "                    yield ((X_target, X_context), y)\n",
    "                    X_target = []\n",
    "                    X_context = []\n",
    "                    y = []"
   ]
  },
  {
   "cell_type": "code",
   "execution_count": 29,
   "metadata": {
    "id": "mm13BsFM0c7v"
   },
   "outputs": [],
   "source": [
    "#cbow negative sampling\n",
    "inputs_target = tf.keras.layers.Input(shape=(1,))\n",
    "inputs_context = tf.keras.layers.Input(shape=(10,))\n",
    "\n",
    "\n",
    "embeddings_target = tf.keras.layers.Embedding(input_dim=len(word2id), output_dim=300)(inputs_target, )\n",
    "embeddings_context = tf.keras.layers.Embedding(input_dim=len(word2id), output_dim=300)(inputs_context, )\n",
    "\n",
    "target = tf.keras.layers.Flatten()(embeddings_target)\n",
    "context = tf.keras.layers.Lambda(lambda x: tf.keras.backend.sum(x, axis=1))(embeddings_context)\n",
    "dot = tf.keras.layers.Dot(1)([target, context])\n",
    "\n",
    "outputs = tf.keras.layers.Activation(activation='sigmoid')(dot)\n",
    "\n",
    "model = tf.keras.Model(inputs=[inputs_target, inputs_context], \n",
    "                       outputs=outputs)\n",
    "\n",
    "\n",
    "optimizer = tf.keras.optimizers.Adam(learning_rate=0.001)\n",
    "model.compile(optimizer=optimizer,\n",
    "              loss='binary_crossentropy',\n",
    "              metrics=['accuracy'])"
   ]
  },
  {
   "cell_type": "code",
   "execution_count": null,
   "metadata": {
    "colab": {
     "base_uri": "https://localhost:8080/"
    },
    "id": "EvLG_XB6EWRc",
    "outputId": "b7c7c0e1-7389-4a0b-fe07-93541649fb57"
   },
   "outputs": [
    {
     "name": "stdout",
     "output_type": "stream",
     "text": [
      "Epoch 1/2\n",
      "4408/5000 [=========================>....] - ETA: 3:28 - loss: 0.4712 - accuracy: 0.6452"
     ]
    }
   ],
   "source": [
    "model.fit(gen_batches_cbow(sentences[:19000], window=6),\n",
    "          validation_data=gen_batches_cbow(sentences[19000:],  window=6),\n",
    "          batch_size=1000,\n",
    "          steps_per_epoch=5000,\n",
    "          validation_steps=30,\n",
    "          epochs=2)"
   ]
  },
  {
   "cell_type": "markdown",
   "metadata": {
    "id": "c3b61b7c"
   },
   "source": [
    "# Задание 2 (3 балла)"
   ]
  },
  {
   "cell_type": "markdown",
   "metadata": {
    "id": "66eff080"
   },
   "source": [
    "Обучите 1 word2vec и 1 fastext модель в gensim. В каждой из модели нужно задать все параметры, которые мы разбирали на семинаре. Заданные значения должны отличаться от дефолтных и от тех, что мы использовали на семинаре."
   ]
  },
  {
   "cell_type": "code",
   "execution_count": 30,
   "metadata": {
    "id": "p7MuzivNESaO"
   },
   "outputs": [],
   "source": [
    "texts = [preprocess(text) for text in wiki_texts]"
   ]
  },
  {
   "cell_type": "markdown",
   "metadata": {
    "id": "KCN5piQVGR8e"
   },
   "source": [
    "### Word2Vec"
   ]
  },
  {
   "cell_type": "code",
   "execution_count": 31,
   "metadata": {
    "colab": {
     "base_uri": "https://localhost:8080/"
    },
    "id": "0usZk8C5Ei3H",
    "outputId": "d7658edd-3e3d-4d42-c998-ce4bbc74dae9"
   },
   "outputs": [
    {
     "name": "stdout",
     "output_type": "stream",
     "text": [
      "CPU times: user 2min 48s, sys: 230 ms, total: 2min 49s\n",
      "Wall time: 58.1 s\n"
     ]
    }
   ],
   "source": [
    "%%time\n",
    "w2v = gensim.models.Word2Vec(texts, \n",
    "                             size=128, \n",
    "                             min_count=25, \n",
    "                             max_vocab_size=11000,\n",
    "                             window=7,\n",
    "                             iter=8,\n",
    "                             sg=1,\n",
    "                             hs=0,\n",
    "                             negative=10,\n",
    "                             sample=1e-4,\n",
    "                             ns_exponent=0.5,\n",
    "                             cbow_mean=1)"
   ]
  },
  {
   "cell_type": "code",
   "execution_count": 32,
   "metadata": {
    "colab": {
     "base_uri": "https://localhost:8080/"
    },
    "id": "WOANS1aKGPYl",
    "outputId": "b29afab9-ca3c-4c42-d763-241ce7b6e997"
   },
   "outputs": [
    {
     "data": {
      "text/plain": [
       "[('вблизи', 0.5352714657783508),\n",
       " ('владение', 0.5176960229873657),\n",
       " ('сюда', 0.48518675565719604),\n",
       " ('территория', 0.47058215737342834),\n",
       " ('равнина', 0.4633858799934387),\n",
       " ('поселение', 0.45746898651123047),\n",
       " ('архипелаг', 0.45344778895378113),\n",
       " ('возвышенность', 0.4533337354660034),\n",
       " ('здесь', 0.4452474117279053),\n",
       " ('монастырский', 0.44440656900405884)]"
      ]
     },
     "execution_count": 32,
     "metadata": {},
     "output_type": "execute_result"
    }
   ],
   "source": [
    "w2v.wv.most_similar('земля')"
   ]
  },
  {
   "cell_type": "code",
   "execution_count": null,
   "metadata": {},
   "outputs": [],
   "source": [
    "w2v.wv.most_similar('yt,j')"
   ]
  },
  {
   "cell_type": "markdown",
   "metadata": {
    "id": "949YkENrGF_m"
   },
   "source": [
    "### FastText"
   ]
  },
  {
   "cell_type": "code",
   "execution_count": null,
   "metadata": {
    "id": "99AiPIqmGHYF"
   },
   "outputs": [],
   "source": [
    "ft = gensim.models.FastText(texts, min_n=4, max_n=9)"
   ]
  },
  {
   "cell_type": "code",
   "execution_count": null,
   "metadata": {
    "colab": {
     "base_uri": "https://localhost:8080/"
    },
    "id": "gMNtX0ZoGLj-",
    "outputId": "3db197fd-c00a-43ac-bce5-4791fc4df1ef"
   },
   "outputs": [
    {
     "data": {
      "text/plain": [
       "[('небо»', 0.934395432472229),\n",
       " ('«небо', 0.8608723878860474),\n",
       " ('неборак', 0.7895488739013672),\n",
       " ('ямаска', 0.7811084985733032),\n",
       " ('скала', 0.7645103931427002),\n",
       " ('ряска', 0.7569539546966553),\n",
       " ('небраска', 0.7563798427581787),\n",
       " ('холмс', 0.7518442273139954),\n",
       " ('куколь', 0.7450626492500305),\n",
       " ('поверх', 0.7448087930679321)]"
      ]
     },
     "execution_count": 28,
     "metadata": {},
     "output_type": "execute_result"
    }
   ],
   "source": [
    "ft.wv.most_similar('небо')"
   ]
  },
  {
   "cell_type": "markdown",
   "metadata": {
    "id": "e4bb928c"
   },
   "source": [
    "# Задание 3 (4 балла)"
   ]
  },
  {
   "cell_type": "markdown",
   "metadata": {
    "id": "3019b0d1"
   },
   "source": [
    "Используя датасет для классификации (labeled.csv) и простую нейронную сеть (последняя модель в семинаре), оцените качество полученных эмбедингов в задании 1 и 2 (4 набора эмбедингов), также проверьте 1 любую из предобученных моделей с rus-vectores (но только не tayga_upos_skipgram_300_2_2019). \n",
    "Какая модель показывает наилучший результат?\n",
    "\n",
    "Убедитесь, что для каждой модели вы корректно воспроизводите пайплайн предобработки (в 1 задании у вас лемматизация, не забудьте ее применить к датасету для классификации; у выбранной предобученной модели может быть своя специфичная предобработка - ее нужно воспроизвести)"
   ]
  },
  {
   "cell_type": "markdown",
   "metadata": {
    "id": "n1WtuH5bs6s1"
   },
   "source": [
    "#### Предобработка"
   ]
  },
  {
   "cell_type": "code",
   "execution_count": null,
   "metadata": {
    "id": "ed908832"
   },
   "outputs": [],
   "source": [
    "data = pd.read_csv('labeled.csv')"
   ]
  },
  {
   "cell_type": "code",
   "execution_count": null,
   "metadata": {
    "id": "60c18c5a"
   },
   "outputs": [],
   "source": [
    "# берем предобработку из задания 1\n",
    "data['norm_text'] = data.comment.apply(preprocess)"
   ]
  },
  {
   "cell_type": "code",
   "execution_count": null,
   "metadata": {
    "colab": {
     "base_uri": "https://localhost:8080/"
    },
    "id": "dd2jRmwNtD8f",
    "outputId": "83db4640-d2a5-4965-f914-5745c0e73052"
   },
   "outputs": [
    {
     "data": {
      "text/plain": [
       "6309"
      ]
     },
     "execution_count": 33,
     "metadata": {},
     "output_type": "execute_result"
    }
   ],
   "source": [
    "vocab = Counter()\n",
    "\n",
    "for text in data['norm_text']:\n",
    "    vocab.update(text)\n",
    "    \n",
    "filtered_vocab = set()\n",
    "\n",
    "for word in vocab:\n",
    "    if vocab[word] > 5:\n",
    "        filtered_vocab.add(word)\n",
    "\n",
    "len(filtered_vocab)"
   ]
  },
  {
   "cell_type": "code",
   "execution_count": null,
   "metadata": {
    "id": "YdIAxnJytcrF"
   },
   "outputs": [],
   "source": [
    "word2id2 = { 'PAD':0}\n",
    "\n",
    "for word in filtered_vocab:\n",
    "    word2id2[word] = len(word2id2)\n",
    "id2word2 = {i:word for word, i in word2id2.items()}"
   ]
  },
  {
   "cell_type": "markdown",
   "metadata": {
    "id": "CZrAyj9ut_UE"
   },
   "source": [
    "Переводим слова в индексы"
   ]
  },
  {
   "cell_type": "code",
   "execution_count": null,
   "metadata": {
    "id": "Pw-vUB_EuByh"
   },
   "outputs": [],
   "source": [
    "X = []\n",
    "\n",
    "for tokens in data['norm_text']:\n",
    "    ids = [word2id2[token] for token in tokens if token in word2id2]\n",
    "    X.append(ids)"
   ]
  },
  {
   "cell_type": "code",
   "execution_count": null,
   "metadata": {
    "id": "e3_reHSduCwy"
   },
   "outputs": [],
   "source": [
    "X = tf.keras.preprocessing.sequence.pad_sequences(X, maxlen=100)\n",
    "y = data.toxic.values"
   ]
  },
  {
   "cell_type": "markdown",
   "metadata": {
    "id": "iVljGxvGuElV"
   },
   "source": [
    "Разбиваем датасет на обучающую и тестовую выборки:"
   ]
  },
  {
   "cell_type": "code",
   "execution_count": null,
   "metadata": {
    "id": "HZSTwAKbubQi"
   },
   "outputs": [],
   "source": [
    "X_train, X_valid, y_train, y_valid = train_test_split(X, y, test_size=0.05)"
   ]
  },
  {
   "cell_type": "code",
   "execution_count": null,
   "metadata": {
    "id": "NcumPzVXuzrj"
   },
   "outputs": [],
   "source": [
    "def classify_with_embeddings(word2id, emb_model, X_train, y_train, X_valid, y_valid):\n",
    "  # создаем матрицу с векторными представлениями\n",
    "    weights = np.zeros((len(word2id), 100))\n",
    "\n",
    "    for word, i in word2id.items():\n",
    "        if word == 'PAD':\n",
    "            continue\n",
    "        try:\n",
    "            weights[i] = ft.wv[word]\n",
    "      \n",
    "      \n",
    "        except KeyError:\n",
    "            continue\n",
    "            weights[i] = ft.wv['ллалалаллала']\n",
    "\n",
    "    inputs = tf.keras.layers.Input(shape=(100,))\n",
    "\n",
    "  # передаем матрицу в эмбединг слой\n",
    "    embeddings = tf.keras.layers.Embedding(input_dim=len(word2id), output_dim=100, \n",
    "                                        trainable=False,\n",
    "                                        weights=[weights])(inputs, )\n",
    "    mean = tf.keras.layers.Lambda(lambda x: tf.keras.backend.mean(x,  axis=1))(embeddings)\n",
    "\n",
    "    outputs = tf.keras.layers.Dense(1, activation='sigmoid')(mean)\n",
    "\n",
    "    model = tf.keras.Model(inputs=inputs, outputs=outputs)\n",
    "    optimizer = tf.keras.optimizers.Adam()\n",
    "    model.compile(optimizer=optimizer,\n",
    "                loss='binary_crossentropy',\n",
    "                metrics=['accuracy'])\n",
    "  \n",
    "  # обучаем модель\n",
    "    model.fit(X_train, y_train, \n",
    "          validation_data=(X_valid, y_valid),\n",
    "          batch_size=32,\n",
    "         epochs=30)\n",
    "  \n",
    "    return model"
   ]
  },
  {
   "cell_type": "code",
   "execution_count": null,
   "metadata": {
    "id": "TAw3SE4WsnKq"
   },
   "outputs": [],
   "source": [
    "def plot_accuracy(model):\n",
    "    print(model.history.history.keys())\n",
    "    plt.plot(model.history.history['accuracy'])\n",
    "    plt.plot(model.history.history['val_accuracy'])\n",
    "    plt.title('model accuracy')\n",
    "    plt.ylabel('accuracy')\n",
    "    plt.xlabel('epoch')\n",
    "    plt.legend(['train', 'val'], loc='upper left')\n",
    "    plt.show()"
   ]
  },
  {
   "cell_type": "markdown",
   "metadata": {
    "id": "3BX184irCz_O"
   },
   "source": [
    "#### FastText classifier"
   ]
  },
  {
   "cell_type": "code",
   "execution_count": null,
   "metadata": {
    "id": "p3z1l6ZVweoe"
   },
   "outputs": [],
   "source": [
    "fasttext_classifier = classify_with_embeddings(word2id2, ft, X_train, y_train, X_valid, y_valid)"
   ]
  },
  {
   "cell_type": "code",
   "execution_count": null,
   "metadata": {
    "colab": {
     "base_uri": "https://localhost:8080/"
    },
    "id": "OqyX9LZGCgWu",
    "outputId": "36f771c9-66a4-48c6-850f-e6e6f3fa51dd"
   },
   "outputs": [
    {
     "data": {
      "text/plain": [
       "0.7227375507354736"
      ]
     },
     "execution_count": 73,
     "metadata": {},
     "output_type": "execute_result"
    }
   ],
   "source": [
    "fasttext_classifier.history.history['accuracy'][29]"
   ]
  },
  {
   "cell_type": "code",
   "execution_count": null,
   "metadata": {
    "colab": {
     "base_uri": "https://localhost:8080/",
     "height": 312
    },
    "id": "Vcg06mSa9BzR",
    "outputId": "9522e7e4-7e61-4449-965f-6a237b9693ca"
   },
   "outputs": [
    {
     "name": "stdout",
     "output_type": "stream",
     "text": [
      "dict_keys(['loss', 'accuracy', 'val_loss', 'val_accuracy'])\n"
     ]
    },
    {
     "data": {
      "image/png": "[encoded data removed]",
      "text/plain": [
       "<Figure size 432x288 with 1 Axes>"
      ]
     },
     "metadata": {
      "needs_background": "light"
     },
     "output_type": "display_data"
    }
   ],
   "source": [
    "plot_accuracy(fasttext_classifier)"
   ]
  },
  {
   "cell_type": "markdown",
   "metadata": {
    "id": "Gv3PCRLqCrWj"
   },
   "source": [
    "#### Word2Vec Classifier"
   ]
  },
  {
   "cell_type": "code",
   "execution_count": null,
   "metadata": {
    "id": "UFj5rwqOwzq2"
   },
   "outputs": [],
   "source": [
    "word2vec_classifier = classify_with_embeddings(word2id2, w2v, X_train, y_train, X_valid, y_valid)"
   ]
  },
  {
   "cell_type": "code",
   "execution_count": null,
   "metadata": {
    "colab": {
     "base_uri": "https://localhost:8080/"
    },
    "id": "KpAbj6ivCbGq",
    "outputId": "12e6c3f6-818c-4e45-a7cd-e373a4e5343b"
   },
   "outputs": [
    {
     "data": {
      "text/plain": [
       "0.7222262620925903"
      ]
     },
     "execution_count": 72,
     "metadata": {},
     "output_type": "execute_result"
    }
   ],
   "source": [
    "word2vec_classifier.history.history['accuracy'][29]"
   ]
  },
  {
   "cell_type": "code",
   "execution_count": null,
   "metadata": {
    "colab": {
     "base_uri": "https://localhost:8080/",
     "height": 312
    },
    "id": "HP-XknBR97N2",
    "outputId": "ae4381de-2ec7-435b-b965-728bda0654da"
   },
   "outputs": [
    {
     "name": "stdout",
     "output_type": "stream",
     "text": [
      "dict_keys(['loss', 'accuracy', 'val_loss', 'val_accuracy'])\n"
     ]
    },
    {
     "data": {
      "image/png": "[encoded data removed]",
      "text/plain": [
       "<Figure size 432x288 with 1 Axes>"
      ]
     },
     "metadata": {
      "needs_background": "light"
     },
     "output_type": "display_data"
    }
   ],
   "source": [
    "plot_accuracy(word2vec_classifier)"
   ]
  },
  {
   "cell_type": "markdown",
   "metadata": {
    "id": "4bEXlUj_BKT-"
   },
   "source": [
    "#### CBOW Negative Sampling Classifier"
   ]
  },
  {
   "cell_type": "code",
   "execution_count": null,
   "metadata": {
    "id": "qMA2MZAPAind"
   },
   "outputs": [],
   "source": [
    "cbow_classifier = classify_with_embeddings(word2id2, model, X_train, y_train, X_valid, y_valid)"
   ]
  },
  {
   "cell_type": "code",
   "execution_count": null,
   "metadata": {
    "colab": {
     "base_uri": "https://localhost:8080/"
    },
    "id": "aJHJTNQVCPl6",
    "outputId": "3145aab1-1fd4-4fdf-b488-885157feb308"
   },
   "outputs": [
    {
     "data": {
      "text/plain": [
       "0.7225184440612793"
      ]
     },
     "execution_count": 71,
     "metadata": {},
     "output_type": "execute_result"
    }
   ],
   "source": [
    "cbow_classifier.history.history['accuracy'][29]"
   ]
  },
  {
   "cell_type": "code",
   "execution_count": null,
   "metadata": {
    "colab": {
     "base_uri": "https://localhost:8080/",
     "height": 312
    },
    "id": "sAlrFK6pCKLO",
    "outputId": "7605a609-5fba-4af1-9fe9-3f45f503fcca"
   },
   "outputs": [
    {
     "name": "stdout",
     "output_type": "stream",
     "text": [
      "dict_keys(['loss', 'accuracy', 'val_loss', 'val_accuracy'])\n"
     ]
    },
    {
     "data": {
      "image/png": "[encoded data removed]",
      "text/plain": [
       "<Figure size 432x288 with 1 Axes>"
      ]
     },
     "metadata": {
      "needs_background": "light"
     },
     "output_type": "display_data"
    }
   ],
   "source": [
    "plot_accuracy(cbow_classifier)"
   ]
  }
 ],
 "metadata": {
  "accelerator": "GPU",
  "colab": {
   "collapsed_sections": [],
   "name": "hw6_embeddings.ipynb",
   "provenance": []
  },
  "kernelspec": {
   "display_name": "Python 3",
   "language": "python",
   "name": "python3"
  },
  "language_info": {
   "codemirror_mode": {
    "name": "ipython",
    "version": 3
   },
   "file_extension": ".py",
   "mimetype": "text/x-python",
   "name": "python",
   "nbconvert_exporter": "python",
   "pygments_lexer": "ipython3",
   "version": "3.8.5"
  }
 },
 "nbformat": 4,
 "nbformat_minor": 5
}
