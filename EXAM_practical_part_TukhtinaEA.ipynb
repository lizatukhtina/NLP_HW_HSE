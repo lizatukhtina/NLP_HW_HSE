{
  "cells": [
    {
      "cell_type": "markdown",
      "metadata": {
        "id": "TsXYi5itP96O"
      },
      "source": [
        "## Задание 1\n",
        "\n",
        "Опеределите части речи слов в этом тексте, используя пайморфи. В форму запишите слова, которым приписан тэг VERB. "
      ],
      "id": "TsXYi5itP96O"
    },
    {
      "cell_type": "code",
      "execution_count": null,
      "metadata": {
        "id": "AKmWXjzNP96S"
      },
      "outputs": [],
      "source": [
        "text = \"Зонды будут запущены в космос в 2029 году и отправятся ко второй точке Лагранжа в системе Солнце\""
      ],
      "id": "AKmWXjzNP96S"
    },
    {
      "cell_type": "code",
      "execution_count": null,
      "metadata": {
        "id": "CDpRIwUMP96V"
      },
      "outputs": [],
      "source": [
        "from pymorphy2 import MorphAnalyzer\n",
        "morph = MorphAnalyzer()"
      ],
      "id": "CDpRIwUMP96V"
    },
    {
      "cell_type": "code",
      "execution_count": null,
      "metadata": {
        "id": "V0ZqHt09P96W",
        "outputId": "8299e2b0-400c-4adc-b74c-443fb159fa26"
      },
      "outputs": [
        {
          "name": "stdout",
          "output_type": "stream",
          "text": [
            "Зонды:NOUN\n",
            "будут:VERB\n",
            "запущены:PRTS\n",
            "в:PREP\n",
            "космос:NOUN\n",
            "в:PREP\n",
            "2029:None\n",
            "году:NOUN\n",
            "и:CONJ\n",
            "отправятся:VERB\n",
            "ко:PREP\n",
            "второй:ADJF\n",
            "точке:NOUN\n",
            "Лагранжа:NOUN\n",
            "в:PREP\n",
            "системе:NOUN\n",
            "Солнце:NOUN\n"
          ]
        }
      ],
      "source": [
        "for w in text.split():\n",
        "    p = morph.parse(w)[0]\n",
        "    print(f'{w}:{p.tag.POS}')"
      ],
      "id": "V0ZqHt09P96W"
    },
    {
      "cell_type": "markdown",
      "metadata": {
        "id": "JLnNTtpqP96X"
      },
      "source": [
        "## Задание 2"
      ],
      "id": "JLnNTtpqP96X"
    },
    {
      "cell_type": "markdown",
      "metadata": {
        "id": "wLh2Hwp0P96X"
      },
      "source": [
        "На данных предложениях обучите TFIDF векторайзер из sklearn (с дефолтными параметрами). Найдите слово с самым высоким коэффициентом tfidf в первом тексте. Вставьте его в форму."
      ],
      "id": "wLh2Hwp0P96X"
    },
    {
      "cell_type": "code",
      "execution_count": null,
      "metadata": {
        "id": "HfLfpvl9P96Y"
      },
      "outputs": [],
      "source": [
        "import requests\n",
        "from sklearn.feature_extraction.text import TfidfVectorizer\n",
        "\n",
        "r = requests.get(\n",
        "    'https://raw.githubusercontent.com/mannefedov/compling_nlp_hse_course/master/data/anna_karenina.txt'\n",
        ")\n",
        "\n",
        "# работайте с этими предложениями\n",
        "sentences = r.text.split('\\n')\n",
        "sentences = [sent for sent in sentences if len(sent) > 10]"
      ],
      "id": "HfLfpvl9P96Y"
    },
    {
      "cell_type": "code",
      "execution_count": null,
      "metadata": {
        "id": "8Z_xAz3ZP96Z"
      },
      "outputs": [],
      "source": [
        "tf = TfidfVectorizer()\n",
        "tfidf_matrix = tf.fit_transform(sentences)"
      ],
      "id": "8Z_xAz3ZP96Z"
    },
    {
      "cell_type": "code",
      "execution_count": null,
      "metadata": {
        "id": "YkfPzykQP96Z"
      },
      "outputs": [],
      "source": [
        "feature_names = tf.get_feature_names()"
      ],
      "id": "YkfPzykQP96Z"
    },
    {
      "cell_type": "code",
      "execution_count": null,
      "metadata": {
        "id": "pXf3eCGHP96a"
      },
      "outputs": [],
      "source": [
        "doc = 0 # берем первый текст\n",
        "feature_index = tfidf_matrix[doc,:].nonzero()[1]\n",
        "tfidf_scores = zip(feature_index, [tfidf_matrix[doc, x] for x in feature_index])\n",
        "\n",
        "my_dict = {}\n",
        "for w, s in [(feature_names[i], s) for (i, s) in tfidf_scores]:\n",
        "    my_dict[w] = s"
      ],
      "id": "pXf3eCGHP96a"
    },
    {
      "cell_type": "code",
      "execution_count": null,
      "metadata": {
        "id": "jut2_pspP96b",
        "outputId": "277a2b7f-bd2b-48e9-e28a-221eca66fab4"
      },
      "outputs": [
        {
          "data": {
            "text/plain": [
              "{'вырождается': 0.19671514407338786,\n",
              " 'устои': 0.19671514407338786,\n",
              " 'ослабевают': 0.19671514407338786,\n",
              " 'нравы': 0.19671514407338786,\n",
              " 'падают': 0.19671514407338786,\n",
              " 'буржуазного': 0.19671514407338786,\n",
              " 'натиском': 0.19671514407338786,\n",
              " 'уклада': 0.19671514407338786,\n",
              " 'патриархального': 0.19671514407338786,\n",
              " 'рушатся': 0.19671514407338786,\n",
              " 'страницах': 0.19671514407338786,\n",
              " 'приметами': 0.19671514407338786,\n",
              " 'насыщенное': 0.19671514407338786,\n",
              " 'остропроблемное': 0.19671514407338786,\n",
              " 'психологически': 0.19671514407338786,\n",
              " 'аристократия': 0.18807778290532548,\n",
              " 'прогресса': 0.18807778290532548,\n",
              " 'произведения': 0.18807778290532548,\n",
              " 'утонченное': 0.18807778290532548,\n",
              " 'остатки': 0.1819494776291046,\n",
              " 'произведение': 0.1819494776291046,\n",
              " 'сложное': 0.1819494776291046,\n",
              " 'толстой': 0.17331211646104222,\n",
              " 'показывает': 0.1700283441478517,\n",
              " 'семейные': 0.16243032831667098,\n",
              " 'россии': 0.13832880029899972,\n",
              " 'каренина': 0.1318596500912228,\n",
              " 'времени': 0.12128437592213807,\n",
              " 'как': 0.10254114162968206,\n",
              " 'под': 0.10004588423276102,\n",
              " 'жизни': 0.09850793329775373,\n",
              " 'анна': 0.08152965818592199,\n",
              " 'это': 0.0550210069981116,\n",
              " 'на': 0.04767910703476529}"
            ]
          },
          "execution_count": 76,
          "metadata": {},
          "output_type": "execute_result"
        }
      ],
      "source": [
        "import operator\n",
        "sorted_d = dict( sorted(my_dict.items(), key=operator.itemgetter(1),reverse=True))\n",
        "sorted_d"
      ],
      "id": "jut2_pspP96b"
    },
    {
      "cell_type": "markdown",
      "metadata": {
        "id": "cBPpkv4XP96b"
      },
      "source": [
        "## Задание 3"
      ],
      "id": "cBPpkv4XP96b"
    },
    {
      "cell_type": "markdown",
      "metadata": {
        "id": "8IxF5FCWP96b"
      },
      "source": [
        "Токенизируйте текст Анны Карениной с помощью библиотеки раздел, привидите все к нижнему регистру. Рассчитайте статистики биграммов и униграммов. Найдите наиболее вероятное продолжение \"красный ...\". Вставьте наиболее веротяное следующее слово в форму."
      ],
      "id": "8IxF5FCWP96b"
    },
    {
      "cell_type": "code",
      "execution_count": null,
      "metadata": {
        "id": "i3fkV2MpP96c"
      },
      "outputs": [],
      "source": [
        "! pip install razdel\n",
        "from razdel import tokenize\n",
        "import gensim\n",
        "from collections import Counter"
      ],
      "id": "i3fkV2MpP96c"
    },
    {
      "cell_type": "code",
      "execution_count": 32,
      "metadata": {
        "id": "Q5vxVxWjP96d"
      },
      "outputs": [],
      "source": [
        "def tokenize_via_razdel(texts):\n",
        "  tokenized = []\n",
        "  for t in texts:\n",
        "    tokens = list(tokenize(t))\n",
        "    tokens = [_.text for _ in tokens]\n",
        "    tokenized.extend(tokens)\n",
        "  return tokenized"
      ],
      "id": "Q5vxVxWjP96d"
    },
    {
      "cell_type": "code",
      "source": [
        "sent_tokenized = tokenize_via_razdel(sentences)"
      ],
      "metadata": {
        "id": "ddR-grrDTLF7"
      },
      "id": "ddR-grrDTLF7",
      "execution_count": 33,
      "outputs": []
    },
    {
      "cell_type": "code",
      "source": [
        "vocab = Counter(sent_tokenized)"
      ],
      "metadata": {
        "id": "0YB165WUTOfm"
      },
      "id": "0YB165WUTOfm",
      "execution_count": 34,
      "outputs": []
    },
    {
      "cell_type": "code",
      "source": [
        "# ищем кол-во вхождений каждой n-граммы\n",
        "def ngrammer(tokens, n):\n",
        "    ngrams = []\n",
        "    # проходимся по токенам\n",
        "    for i in range(0,len(tokens)-n+1):\n",
        "        ngrams.append(' '.join(tokens[i:i+n]))\n",
        "    return ngrams"
      ],
      "metadata": {
        "id": "FUpdjrWlVaCK"
      },
      "id": "FUpdjrWlVaCK",
      "execution_count": 36,
      "outputs": []
    },
    {
      "cell_type": "code",
      "source": [
        "unigrams = vocab\n",
        "bigrams = Counter(ngrammer(sent_tokenized,2))"
      ],
      "metadata": {
        "id": "Lt_7nwG8Vd5Q"
      },
      "id": "Lt_7nwG8Vd5Q",
      "execution_count": 41,
      "outputs": []
    },
    {
      "cell_type": "code",
      "source": [
        "probas_uni = Counter({word:c/len(sent_tokenized) for word, c in unigrams.items()})\n",
        "probas_bi = Counter({word:c/len(sent_tokenized) for word, c in bigrams.items()})"
      ],
      "metadata": {
        "id": "tIYx3xC7WSYk"
      },
      "id": "tIYx3xC7WSYk",
      "execution_count": 42,
      "outputs": []
    },
    {
      "cell_type": "code",
      "source": [
        "probas_bi = dict(probas_bi)"
      ],
      "metadata": {
        "id": "PwJyknTEW_UD"
      },
      "id": "PwJyknTEW_UD",
      "execution_count": 48,
      "outputs": []
    },
    {
      "cell_type": "code",
      "source": [
        "res = [ v for k,v in probas_bi.items() if k.startswith('красный')]"
      ],
      "metadata": {
        "id": "UuZ1UOO5X8WJ"
      },
      "id": "UuZ1UOO5X8WJ",
      "execution_count": 54,
      "outputs": []
    },
    {
      "cell_type": "code",
      "source": [
        "max(res)"
      ],
      "metadata": {
        "colab": {
          "base_uri": "https://localhost:8080/"
        },
        "id": "INC_jZZoX_Sn",
        "outputId": "43f32e26-e459-4fc7-edbb-190b71522aca"
      },
      "id": "INC_jZZoX_Sn",
      "execution_count": 57,
      "outputs": [
        {
          "output_type": "execute_result",
          "data": {
            "text/plain": [
              "1.447995250575578e-05"
            ]
          },
          "metadata": {},
          "execution_count": 57
        }
      ]
    },
    {
      "cell_type": "code",
      "source": [
        "res = [ [k,v] for k,v in probas_bi.items() if k.startswith('красный')]"
      ],
      "metadata": {
        "id": "ImDVskPyXi46"
      },
      "id": "ImDVskPyXi46",
      "execution_count": 52,
      "outputs": []
    },
    {
      "cell_type": "code",
      "source": [
        "res"
      ],
      "metadata": {
        "colab": {
          "base_uri": "https://localhost:8080/"
        },
        "id": "xqzexZT7Xwg2",
        "outputId": "57289ff4-557d-4956-e6dc-eb25f466168d"
      },
      "id": "xqzexZT7Xwg2",
      "execution_count": 53,
      "outputs": [
        {
          "output_type": "execute_result",
          "data": {
            "text/plain": [
              "[['красный мешочек', 1.447995250575578e-05],\n",
              " ['красный огонь', 2.895990501151156e-06],\n",
              " ['красный ,', 5.791981002302312e-06],\n",
              " ['красный платок', 2.895990501151156e-06],\n",
              " ['красный .', 2.895990501151156e-06]]"
            ]
          },
          "metadata": {},
          "execution_count": 53
        }
      ]
    },
    {
      "cell_type": "markdown",
      "metadata": {
        "id": "iNzup4s1P96d"
      },
      "source": [
        "## Задание 4"
      ],
      "id": "iNzup4s1P96d"
    },
    {
      "cell_type": "markdown",
      "metadata": {
        "id": "fuBtAIGEP96d"
      },
      "source": [
        "Расчитайте ненормализованное растояние Дамерау-Левенштейна и ненормализованное растояние Левенштейна между этими словами (каждое с каждым), найдите пару слов, для которых эти расстояния отличаются. Вставьте эти слова в форму"
      ],
      "id": "fuBtAIGEP96d"
    },
    {
      "cell_type": "code",
      "execution_count": null,
      "metadata": {
        "id": "rhdpMHa5P96d"
      },
      "outputs": [],
      "source": [
        "words = [\"решение\",\"ршеение\",\"ренешик\",\"рещиние\",\"ришение\"]\n",
        "import itertools\n",
        "pairs = [list(p) for p in itertools.product(words, repeat=2)]"
      ],
      "id": "rhdpMHa5P96d"
    },
    {
      "cell_type": "code",
      "execution_count": null,
      "metadata": {
        "id": "y3tu_XZqP96e",
        "outputId": "1e85946b-a512-48d1-df75-bf61d209b3be"
      },
      "outputs": [
        {
          "name": "stdout",
          "output_type": "stream",
          "text": [
            "['решение', 'ршеение']\n",
            "['ршеение', 'решение']\n"
          ]
        }
      ],
      "source": [
        "import textdistance\n",
        "\n",
        "res1 = []\n",
        "for p in pairs:\n",
        "    res1 = textdistance.damerau_levenshtein(p[0], p[1])\n",
        "    res2 = textdistance.levenshtein(p[0], p[1])\n",
        "    if res1 != res2:\n",
        "        print(p)"
      ],
      "id": "y3tu_XZqP96e"
    },
    {
      "cell_type": "markdown",
      "metadata": {
        "id": "HYdlXs9SP96e"
      },
      "source": [
        "## Задание 5\n",
        "\n",
        "Загрузите токенизатор distilbert-base-uncased из huggingface. Токенизируйте предложения из Анны Карениной с помощью предобученного токенизатора и обучите Fastext модель со следующими параметрами: cbow, размер вектора 300, размер окна 5, минимальный размер символьного нграмма - 2, максимальный размер символьного нграмма - 7. Найдите ближайшее слово к слову \"каренина\", вставьте его в форму."
      ],
      "id": "HYdlXs9SP96e"
    },
    {
      "cell_type": "code",
      "execution_count": null,
      "metadata": {
        "id": "ab38kAsAP96e"
      },
      "outputs": [],
      "source": [
        "# ! pip install transformers\n",
        "import tensorflow as tf\n",
        "from transformers import TFAutoModel\n",
        "from transformers import AutoTokenizer"
      ],
      "id": "ab38kAsAP96e"
    },
    {
      "cell_type": "code",
      "execution_count": null,
      "metadata": {
        "colab": {
          "base_uri": "https://localhost:8080/",
          "height": 145,
          "referenced_widgets": [
            "4afa4f84010445f3ba55541e42694b50",
            "80f67d2929824e43b92ff65132ad8563",
            "fba817597c9a41a0bbeab8bfd45939dd",
            "1653a784a56d48f5aa80960226ebbaa7",
            "7f23be01ec9b45bf845a9fbfe457f9d1",
            "443c1393426b44bfb08023a8a2f071fe",
            "a9dcec2689b046f0b471cefe895532c3",
            "0fbcd8f36ebf4f28a4fc62517ebe8fb9",
            "013492be3008471eb809c9f62fd7915b",
            "b67fce40319a4050ab7c6d05a90d3ec1",
            "b37281ff6e2d4b8a8f7ab26afcdf4040",
            "b094db670e9c4fe8bc07c9c01ce11e6c",
            "fcc095856c264dec9ad0126cb1b99af7",
            "1a529227b9dc4540ade1763f38b9a5f1",
            "ca1717ff5224415a86dc5d1e41390318",
            "ac8f9364dde845dd804586d0834d2c61",
            "56154e7033c241699b8d93a06b06df30",
            "3dde50d69f9845aca261aa46016a89bf",
            "91ace94ab5f649518d4eae2ac5cd2f2b",
            "c0703be88f6e4e6da6fc5e76bee7fe32",
            "434a798b388f431dbb7b699aa630dd72",
            "c53af1ec32654e06aa5673094a8ff247",
            "3794dcda870b4d5caf70c62030cf0a6d",
            "6b19903217e348b4b225b5a9baa464f8",
            "ad66a155a09e4e1ebfaffd46c4bb7c23",
            "5f873e02534341ce933cb52ac8d4b8bb",
            "425aa759fc8c4521860dff494572e685",
            "218382885c3845a0bdfa12e4986fa36f",
            "996537c0b0cb4bf9893d3be4f995efaa",
            "2a2bfbcd22ba4ac4a6b9c888d72d777a",
            "6a4d018310214402838323105387865b",
            "75d081f12a3d4922a0a3fd62d2be9f06",
            "9d5c5abea4474b269eb21f55fe12f152",
            "55650e4d32544dd18c44160938d3ff82",
            "99ec0df37601439d9379166d8f19f636",
            "aa121153f007417d994402118e7d287d",
            "970a9b9ec89342bf9fc537e20a93f317",
            "44140853f5d8403dbffe0ec78d2f758a",
            "a67631edd5b1446a8e3859a3b671a08a",
            "84d85861f0d24c069db16a1db847452d",
            "f272dde492da4490800b502720302e2d",
            "502132f7704240f2971129f18e0a83ee",
            "5623ff94a9e44a03b2658873e1f62487",
            "0c81c4dcac734be99b86bb34d919bbe4"
          ]
        },
        "id": "hJHr0GxjP96f",
        "outputId": "7c689325-23d0-4398-9f34-fa76e18dca82"
      },
      "outputs": [
        {
          "output_type": "display_data",
          "data": {
            "text/plain": [
              "Downloading:   0%|          | 0.00/28.0 [00:00<?, ?B/s]"
            ],
            "application/vnd.jupyter.widget-view+json": {
              "version_major": 2,
              "version_minor": 0,
              "model_id": "4afa4f84010445f3ba55541e42694b50"
            }
          },
          "metadata": {}
        },
        {
          "output_type": "display_data",
          "data": {
            "text/plain": [
              "Downloading:   0%|          | 0.00/483 [00:00<?, ?B/s]"
            ],
            "application/vnd.jupyter.widget-view+json": {
              "version_major": 2,
              "version_minor": 0,
              "model_id": "b094db670e9c4fe8bc07c9c01ce11e6c"
            }
          },
          "metadata": {}
        },
        {
          "output_type": "display_data",
          "data": {
            "text/plain": [
              "Downloading:   0%|          | 0.00/226k [00:00<?, ?B/s]"
            ],
            "application/vnd.jupyter.widget-view+json": {
              "version_major": 2,
              "version_minor": 0,
              "model_id": "3794dcda870b4d5caf70c62030cf0a6d"
            }
          },
          "metadata": {}
        },
        {
          "output_type": "display_data",
          "data": {
            "text/plain": [
              "Downloading:   0%|          | 0.00/455k [00:00<?, ?B/s]"
            ],
            "application/vnd.jupyter.widget-view+json": {
              "version_major": 2,
              "version_minor": 0,
              "model_id": "55650e4d32544dd18c44160938d3ff82"
            }
          },
          "metadata": {}
        }
      ],
      "source": [
        "tokenizer = AutoTokenizer.from_pretrained(\"distilbert-base-uncased\")"
      ],
      "id": "hJHr0GxjP96f"
    },
    {
      "cell_type": "code",
      "execution_count": null,
      "metadata": {
        "id": "5oPbkVkFP96f"
      },
      "outputs": [],
      "source": [
        "sents_tokenized_bert = []\n",
        "\n",
        "for sent in sentences:\n",
        "    tokens = tokenizer.tokenize(sent)\n",
        "    sents_tokenized_bert.append(tokens)"
      ],
      "id": "5oPbkVkFP96f"
    },
    {
      "cell_type": "code",
      "execution_count": null,
      "metadata": {
        "id": "rdEQd2XmP96g"
      },
      "outputs": [],
      "source": [
        "from gensim.models import FastText"
      ],
      "id": "rdEQd2XmP96g"
    },
    {
      "cell_type": "code",
      "source": [
        "ft = FastText(sents_tokenized_bert, size=300, window=5, min_n=2, max_n=7, sg=0)"
      ],
      "metadata": {
        "id": "x8Xv34nbRKox"
      },
      "id": "x8Xv34nbRKox",
      "execution_count": null,
      "outputs": []
    },
    {
      "cell_type": "code",
      "source": [
        "ft.wv.most_similar('каренина')"
      ],
      "metadata": {
        "colab": {
          "base_uri": "https://localhost:8080/"
        },
        "id": "8-6OkmKRRvDS",
        "outputId": "8e25f023-ee76-47bf-aae0-8990e029ab08"
      },
      "id": "8-6OkmKRRvDS",
      "execution_count": null,
      "outputs": [
        {
          "output_type": "execute_result",
          "data": {
            "text/plain": [
              "[('##на', 0.6452010869979858),\n",
              " ('##ка', 0.6099033951759338),\n",
              " (')', 0.4820539057254791),\n",
              " ('landau', 0.3349595069885254),\n",
              " ('–', 0.2926204204559326),\n",
              " ('##ович', 0.270717978477478),\n",
              " ('right', 0.27019062638282776),\n",
              " ('pardon', 0.23741167783737183),\n",
              " ('cher', 0.23715996742248535),\n",
              " ('»', 0.20935595035552979)]"
            ]
          },
          "metadata": {},
          "execution_count": 21
        }
      ]
    }
  ],
  "metadata": {
    "kernelspec": {
      "display_name": "Python 3",
      "language": "python",
      "name": "python3"
    },
    "language_info": {
      "codemirror_mode": {
        "name": "ipython",
        "version": 3
      },
      "file_extension": ".py",
      "mimetype": "text/x-python",
      "name": "python",
      "nbconvert_exporter": "python",
      "pygments_lexer": "ipython3",
      "version": "3.8.5"
    },
    "colab": {
      "name": "EXAM_practical_part_TukhtinaEA.ipynb",
      "provenance": [],
      "collapsed_sections": []
    },
    "widgets": {
      "application/vnd.jupyter.widget-state+json": {
        "4afa4f84010445f3ba55541e42694b50": {
          "model_module": "@jupyter-widgets/controls",
          "model_name": "HBoxModel",
          "model_module_version": "1.5.0",
          "state": {
            "_dom_classes": [],
            "_model_module": "@jupyter-widgets/controls",
            "_model_module_version": "1.5.0",
            "_model_name": "HBoxModel",
            "_view_count": null,
            "_view_module": "@jupyter-widgets/controls",
            "_view_module_version": "1.5.0",
            "_view_name": "HBoxView",
            "box_style": "",
            "children": [
              "IPY_MODEL_80f67d2929824e43b92ff65132ad8563",
              "IPY_MODEL_fba817597c9a41a0bbeab8bfd45939dd",
              "IPY_MODEL_1653a784a56d48f5aa80960226ebbaa7"
            ],
            "layout": "IPY_MODEL_7f23be01ec9b45bf845a9fbfe457f9d1"
          }
        },
        "80f67d2929824e43b92ff65132ad8563": {
          "model_module": "@jupyter-widgets/controls",
          "model_name": "HTMLModel",
          "model_module_version": "1.5.0",
          "state": {
            "_dom_classes": [],
            "_model_module": "@jupyter-widgets/controls",
            "_model_module_version": "1.5.0",
            "_model_name": "HTMLModel",
            "_view_count": null,
            "_view_module": "@jupyter-widgets/controls",
            "_view_module_version": "1.5.0",
            "_view_name": "HTMLView",
            "description": "",
            "description_tooltip": null,
            "layout": "IPY_MODEL_443c1393426b44bfb08023a8a2f071fe",
            "placeholder": "​",
            "style": "IPY_MODEL_a9dcec2689b046f0b471cefe895532c3",
            "value": "Downloading: 100%"
          }
        },
        "fba817597c9a41a0bbeab8bfd45939dd": {
          "model_module": "@jupyter-widgets/controls",
          "model_name": "FloatProgressModel",
          "model_module_version": "1.5.0",
          "state": {
            "_dom_classes": [],
            "_model_module": "@jupyter-widgets/controls",
            "_model_module_version": "1.5.0",
            "_model_name": "FloatProgressModel",
            "_view_count": null,
            "_view_module": "@jupyter-widgets/controls",
            "_view_module_version": "1.5.0",
            "_view_name": "ProgressView",
            "bar_style": "success",
            "description": "",
            "description_tooltip": null,
            "layout": "IPY_MODEL_0fbcd8f36ebf4f28a4fc62517ebe8fb9",
            "max": 28,
            "min": 0,
            "orientation": "horizontal",
            "style": "IPY_MODEL_013492be3008471eb809c9f62fd7915b",
            "value": 28
          }
        },
        "1653a784a56d48f5aa80960226ebbaa7": {
          "model_module": "@jupyter-widgets/controls",
          "model_name": "HTMLModel",
          "model_module_version": "1.5.0",
          "state": {
            "_dom_classes": [],
            "_model_module": "@jupyter-widgets/controls",
            "_model_module_version": "1.5.0",
            "_model_name": "HTMLModel",
            "_view_count": null,
            "_view_module": "@jupyter-widgets/controls",
            "_view_module_version": "1.5.0",
            "_view_name": "HTMLView",
            "description": "",
            "description_tooltip": null,
            "layout": "IPY_MODEL_b67fce40319a4050ab7c6d05a90d3ec1",
            "placeholder": "​",
            "style": "IPY_MODEL_b37281ff6e2d4b8a8f7ab26afcdf4040",
            "value": " 28.0/28.0 [00:00&lt;00:00, 262B/s]"
          }
        },
        "7f23be01ec9b45bf845a9fbfe457f9d1": {
          "model_module": "@jupyter-widgets/base",
          "model_name": "LayoutModel",
          "model_module_version": "1.2.0",
          "state": {
            "_model_module": "@jupyter-widgets/base",
            "_model_module_version": "1.2.0",
            "_model_name": "LayoutModel",
            "_view_count": null,
            "_view_module": "@jupyter-widgets/base",
            "_view_module_version": "1.2.0",
            "_view_name": "LayoutView",
            "align_content": null,
            "align_items": null,
            "align_self": null,
            "border": null,
            "bottom": null,
            "display": null,
            "flex": null,
            "flex_flow": null,
            "grid_area": null,
            "grid_auto_columns": null,
            "grid_auto_flow": null,
            "grid_auto_rows": null,
            "grid_column": null,
            "grid_gap": null,
            "grid_row": null,
            "grid_template_areas": null,
            "grid_template_columns": null,
            "grid_template_rows": null,
            "height": null,
            "justify_content": null,
            "justify_items": null,
            "left": null,
            "margin": null,
            "max_height": null,
            "max_width": null,
            "min_height": null,
            "min_width": null,
            "object_fit": null,
            "object_position": null,
            "order": null,
            "overflow": null,
            "overflow_x": null,
            "overflow_y": null,
            "padding": null,
            "right": null,
            "top": null,
            "visibility": null,
            "width": null
          }
        },
        "443c1393426b44bfb08023a8a2f071fe": {
          "model_module": "@jupyter-widgets/base",
          "model_name": "LayoutModel",
          "model_module_version": "1.2.0",
          "state": {
            "_model_module": "@jupyter-widgets/base",
            "_model_module_version": "1.2.0",
            "_model_name": "LayoutModel",
            "_view_count": null,
            "_view_module": "@jupyter-widgets/base",
            "_view_module_version": "1.2.0",
            "_view_name": "LayoutView",
            "align_content": null,
            "align_items": null,
            "align_self": null,
            "border": null,
            "bottom": null,
            "display": null,
            "flex": null,
            "flex_flow": null,
            "grid_area": null,
            "grid_auto_columns": null,
            "grid_auto_flow": null,
            "grid_auto_rows": null,
            "grid_column": null,
            "grid_gap": null,
            "grid_row": null,
            "grid_template_areas": null,
            "grid_template_columns": null,
            "grid_template_rows": null,
            "height": null,
            "justify_content": null,
            "justify_items": null,
            "left": null,
            "margin": null,
            "max_height": null,
            "max_width": null,
            "min_height": null,
            "min_width": null,
            "object_fit": null,
            "object_position": null,
            "order": null,
            "overflow": null,
            "overflow_x": null,
            "overflow_y": null,
            "padding": null,
            "right": null,
            "top": null,
            "visibility": null,
            "width": null
          }
        },
        "a9dcec2689b046f0b471cefe895532c3": {
          "model_module": "@jupyter-widgets/controls",
          "model_name": "DescriptionStyleModel",
          "model_module_version": "1.5.0",
          "state": {
            "_model_module": "@jupyter-widgets/controls",
            "_model_module_version": "1.5.0",
            "_model_name": "DescriptionStyleModel",
            "_view_count": null,
            "_view_module": "@jupyter-widgets/base",
            "_view_module_version": "1.2.0",
            "_view_name": "StyleView",
            "description_width": ""
          }
        },
        "0fbcd8f36ebf4f28a4fc62517ebe8fb9": {
          "model_module": "@jupyter-widgets/base",
          "model_name": "LayoutModel",
          "model_module_version": "1.2.0",
          "state": {
            "_model_module": "@jupyter-widgets/base",
            "_model_module_version": "1.2.0",
            "_model_name": "LayoutModel",
            "_view_count": null,
            "_view_module": "@jupyter-widgets/base",
            "_view_module_version": "1.2.0",
            "_view_name": "LayoutView",
            "align_content": null,
            "align_items": null,
            "align_self": null,
            "border": null,
            "bottom": null,
            "display": null,
            "flex": null,
            "flex_flow": null,
            "grid_area": null,
            "grid_auto_columns": null,
            "grid_auto_flow": null,
            "grid_auto_rows": null,
            "grid_column": null,
            "grid_gap": null,
            "grid_row": null,
            "grid_template_areas": null,
            "grid_template_columns": null,
            "grid_template_rows": null,
            "height": null,
            "justify_content": null,
            "justify_items": null,
            "left": null,
            "margin": null,
            "max_height": null,
            "max_width": null,
            "min_height": null,
            "min_width": null,
            "object_fit": null,
            "object_position": null,
            "order": null,
            "overflow": null,
            "overflow_x": null,
            "overflow_y": null,
            "padding": null,
            "right": null,
            "top": null,
            "visibility": null,
            "width": null
          }
        },
        "013492be3008471eb809c9f62fd7915b": {
          "model_module": "@jupyter-widgets/controls",
          "model_name": "ProgressStyleModel",
          "model_module_version": "1.5.0",
          "state": {
            "_model_module": "@jupyter-widgets/controls",
            "_model_module_version": "1.5.0",
            "_model_name": "ProgressStyleModel",
            "_view_count": null,
            "_view_module": "@jupyter-widgets/base",
            "_view_module_version": "1.2.0",
            "_view_name": "StyleView",
            "bar_color": null,
            "description_width": ""
          }
        },
        "b67fce40319a4050ab7c6d05a90d3ec1": {
          "model_module": "@jupyter-widgets/base",
          "model_name": "LayoutModel",
          "model_module_version": "1.2.0",
          "state": {
            "_model_module": "@jupyter-widgets/base",
            "_model_module_version": "1.2.0",
            "_model_name": "LayoutModel",
            "_view_count": null,
            "_view_module": "@jupyter-widgets/base",
            "_view_module_version": "1.2.0",
            "_view_name": "LayoutView",
            "align_content": null,
            "align_items": null,
            "align_self": null,
            "border": null,
            "bottom": null,
            "display": null,
            "flex": null,
            "flex_flow": null,
            "grid_area": null,
            "grid_auto_columns": null,
            "grid_auto_flow": null,
            "grid_auto_rows": null,
            "grid_column": null,
            "grid_gap": null,
            "grid_row": null,
            "grid_template_areas": null,
            "grid_template_columns": null,
            "grid_template_rows": null,
            "height": null,
            "justify_content": null,
            "justify_items": null,
            "left": null,
            "margin": null,
            "max_height": null,
            "max_width": null,
            "min_height": null,
            "min_width": null,
            "object_fit": null,
            "object_position": null,
            "order": null,
            "overflow": null,
            "overflow_x": null,
            "overflow_y": null,
            "padding": null,
            "right": null,
            "top": null,
            "visibility": null,
            "width": null
          }
        },
        "b37281ff6e2d4b8a8f7ab26afcdf4040": {
          "model_module": "@jupyter-widgets/controls",
          "model_name": "DescriptionStyleModel",
          "model_module_version": "1.5.0",
          "state": {
            "_model_module": "@jupyter-widgets/controls",
            "_model_module_version": "1.5.0",
            "_model_name": "DescriptionStyleModel",
            "_view_count": null,
            "_view_module": "@jupyter-widgets/base",
            "_view_module_version": "1.2.0",
            "_view_name": "StyleView",
            "description_width": ""
          }
        },
        "b094db670e9c4fe8bc07c9c01ce11e6c": {
          "model_module": "@jupyter-widgets/controls",
          "model_name": "HBoxModel",
          "model_module_version": "1.5.0",
          "state": {
            "_dom_classes": [],
            "_model_module": "@jupyter-widgets/controls",
            "_model_module_version": "1.5.0",
            "_model_name": "HBoxModel",
            "_view_count": null,
            "_view_module": "@jupyter-widgets/controls",
            "_view_module_version": "1.5.0",
            "_view_name": "HBoxView",
            "box_style": "",
            "children": [
              "IPY_MODEL_fcc095856c264dec9ad0126cb1b99af7",
              "IPY_MODEL_1a529227b9dc4540ade1763f38b9a5f1",
              "IPY_MODEL_ca1717ff5224415a86dc5d1e41390318"
            ],
            "layout": "IPY_MODEL_ac8f9364dde845dd804586d0834d2c61"
          }
        },
        "fcc095856c264dec9ad0126cb1b99af7": {
          "model_module": "@jupyter-widgets/controls",
          "model_name": "HTMLModel",
          "model_module_version": "1.5.0",
          "state": {
            "_dom_classes": [],
            "_model_module": "@jupyter-widgets/controls",
            "_model_module_version": "1.5.0",
            "_model_name": "HTMLModel",
            "_view_count": null,
            "_view_module": "@jupyter-widgets/controls",
            "_view_module_version": "1.5.0",
            "_view_name": "HTMLView",
            "description": "",
            "description_tooltip": null,
            "layout": "IPY_MODEL_56154e7033c241699b8d93a06b06df30",
            "placeholder": "​",
            "style": "IPY_MODEL_3dde50d69f9845aca261aa46016a89bf",
            "value": "Downloading: 100%"
          }
        },
        "1a529227b9dc4540ade1763f38b9a5f1": {
          "model_module": "@jupyter-widgets/controls",
          "model_name": "FloatProgressModel",
          "model_module_version": "1.5.0",
          "state": {
            "_dom_classes": [],
            "_model_module": "@jupyter-widgets/controls",
            "_model_module_version": "1.5.0",
            "_model_name": "FloatProgressModel",
            "_view_count": null,
            "_view_module": "@jupyter-widgets/controls",
            "_view_module_version": "1.5.0",
            "_view_name": "ProgressView",
            "bar_style": "success",
            "description": "",
            "description_tooltip": null,
            "layout": "IPY_MODEL_91ace94ab5f649518d4eae2ac5cd2f2b",
            "max": 483,
            "min": 0,
            "orientation": "horizontal",
            "style": "IPY_MODEL_c0703be88f6e4e6da6fc5e76bee7fe32",
            "value": 483
          }
        },
        "ca1717ff5224415a86dc5d1e41390318": {
          "model_module": "@jupyter-widgets/controls",
          "model_name": "HTMLModel",
          "model_module_version": "1.5.0",
          "state": {
            "_dom_classes": [],
            "_model_module": "@jupyter-widgets/controls",
            "_model_module_version": "1.5.0",
            "_model_name": "HTMLModel",
            "_view_count": null,
            "_view_module": "@jupyter-widgets/controls",
            "_view_module_version": "1.5.0",
            "_view_name": "HTMLView",
            "description": "",
            "description_tooltip": null,
            "layout": "IPY_MODEL_434a798b388f431dbb7b699aa630dd72",
            "placeholder": "​",
            "style": "IPY_MODEL_c53af1ec32654e06aa5673094a8ff247",
            "value": " 483/483 [00:00&lt;00:00, 5.83kB/s]"
          }
        },
        "ac8f9364dde845dd804586d0834d2c61": {
          "model_module": "@jupyter-widgets/base",
          "model_name": "LayoutModel",
          "model_module_version": "1.2.0",
          "state": {
            "_model_module": "@jupyter-widgets/base",
            "_model_module_version": "1.2.0",
            "_model_name": "LayoutModel",
            "_view_count": null,
            "_view_module": "@jupyter-widgets/base",
            "_view_module_version": "1.2.0",
            "_view_name": "LayoutView",
            "align_content": null,
            "align_items": null,
            "align_self": null,
            "border": null,
            "bottom": null,
            "display": null,
            "flex": null,
            "flex_flow": null,
            "grid_area": null,
            "grid_auto_columns": null,
            "grid_auto_flow": null,
            "grid_auto_rows": null,
            "grid_column": null,
            "grid_gap": null,
            "grid_row": null,
            "grid_template_areas": null,
            "grid_template_columns": null,
            "grid_template_rows": null,
            "height": null,
            "justify_content": null,
            "justify_items": null,
            "left": null,
            "margin": null,
            "max_height": null,
            "max_width": null,
            "min_height": null,
            "min_width": null,
            "object_fit": null,
            "object_position": null,
            "order": null,
            "overflow": null,
            "overflow_x": null,
            "overflow_y": null,
            "padding": null,
            "right": null,
            "top": null,
            "visibility": null,
            "width": null
          }
        },
        "56154e7033c241699b8d93a06b06df30": {
          "model_module": "@jupyter-widgets/base",
          "model_name": "LayoutModel",
          "model_module_version": "1.2.0",
          "state": {
            "_model_module": "@jupyter-widgets/base",
            "_model_module_version": "1.2.0",
            "_model_name": "LayoutModel",
            "_view_count": null,
            "_view_module": "@jupyter-widgets/base",
            "_view_module_version": "1.2.0",
            "_view_name": "LayoutView",
            "align_content": null,
            "align_items": null,
            "align_self": null,
            "border": null,
            "bottom": null,
            "display": null,
            "flex": null,
            "flex_flow": null,
            "grid_area": null,
            "grid_auto_columns": null,
            "grid_auto_flow": null,
            "grid_auto_rows": null,
            "grid_column": null,
            "grid_gap": null,
            "grid_row": null,
            "grid_template_areas": null,
            "grid_template_columns": null,
            "grid_template_rows": null,
            "height": null,
            "justify_content": null,
            "justify_items": null,
            "left": null,
            "margin": null,
            "max_height": null,
            "max_width": null,
            "min_height": null,
            "min_width": null,
            "object_fit": null,
            "object_position": null,
            "order": null,
            "overflow": null,
            "overflow_x": null,
            "overflow_y": null,
            "padding": null,
            "right": null,
            "top": null,
            "visibility": null,
            "width": null
          }
        },
        "3dde50d69f9845aca261aa46016a89bf": {
          "model_module": "@jupyter-widgets/controls",
          "model_name": "DescriptionStyleModel",
          "model_module_version": "1.5.0",
          "state": {
            "_model_module": "@jupyter-widgets/controls",
            "_model_module_version": "1.5.0",
            "_model_name": "DescriptionStyleModel",
            "_view_count": null,
            "_view_module": "@jupyter-widgets/base",
            "_view_module_version": "1.2.0",
            "_view_name": "StyleView",
            "description_width": ""
          }
        },
        "91ace94ab5f649518d4eae2ac5cd2f2b": {
          "model_module": "@jupyter-widgets/base",
          "model_name": "LayoutModel",
          "model_module_version": "1.2.0",
          "state": {
            "_model_module": "@jupyter-widgets/base",
            "_model_module_version": "1.2.0",
            "_model_name": "LayoutModel",
            "_view_count": null,
            "_view_module": "@jupyter-widgets/base",
            "_view_module_version": "1.2.0",
            "_view_name": "LayoutView",
            "align_content": null,
            "align_items": null,
            "align_self": null,
            "border": null,
            "bottom": null,
            "display": null,
            "flex": null,
            "flex_flow": null,
            "grid_area": null,
            "grid_auto_columns": null,
            "grid_auto_flow": null,
            "grid_auto_rows": null,
            "grid_column": null,
            "grid_gap": null,
            "grid_row": null,
            "grid_template_areas": null,
            "grid_template_columns": null,
            "grid_template_rows": null,
            "height": null,
            "justify_content": null,
            "justify_items": null,
            "left": null,
            "margin": null,
            "max_height": null,
            "max_width": null,
            "min_height": null,
            "min_width": null,
            "object_fit": null,
            "object_position": null,
            "order": null,
            "overflow": null,
            "overflow_x": null,
            "overflow_y": null,
            "padding": null,
            "right": null,
            "top": null,
            "visibility": null,
            "width": null
          }
        },
        "c0703be88f6e4e6da6fc5e76bee7fe32": {
          "model_module": "@jupyter-widgets/controls",
          "model_name": "ProgressStyleModel",
          "model_module_version": "1.5.0",
          "state": {
            "_model_module": "@jupyter-widgets/controls",
            "_model_module_version": "1.5.0",
            "_model_name": "ProgressStyleModel",
            "_view_count": null,
            "_view_module": "@jupyter-widgets/base",
            "_view_module_version": "1.2.0",
            "_view_name": "StyleView",
            "bar_color": null,
            "description_width": ""
          }
        },
        "434a798b388f431dbb7b699aa630dd72": {
          "model_module": "@jupyter-widgets/base",
          "model_name": "LayoutModel",
          "model_module_version": "1.2.0",
          "state": {
            "_model_module": "@jupyter-widgets/base",
            "_model_module_version": "1.2.0",
            "_model_name": "LayoutModel",
            "_view_count": null,
            "_view_module": "@jupyter-widgets/base",
            "_view_module_version": "1.2.0",
            "_view_name": "LayoutView",
            "align_content": null,
            "align_items": null,
            "align_self": null,
            "border": null,
            "bottom": null,
            "display": null,
            "flex": null,
            "flex_flow": null,
            "grid_area": null,
            "grid_auto_columns": null,
            "grid_auto_flow": null,
            "grid_auto_rows": null,
            "grid_column": null,
            "grid_gap": null,
            "grid_row": null,
            "grid_template_areas": null,
            "grid_template_columns": null,
            "grid_template_rows": null,
            "height": null,
            "justify_content": null,
            "justify_items": null,
            "left": null,
            "margin": null,
            "max_height": null,
            "max_width": null,
            "min_height": null,
            "min_width": null,
            "object_fit": null,
            "object_position": null,
            "order": null,
            "overflow": null,
            "overflow_x": null,
            "overflow_y": null,
            "padding": null,
            "right": null,
            "top": null,
            "visibility": null,
            "width": null
          }
        },
        "c53af1ec32654e06aa5673094a8ff247": {
          "model_module": "@jupyter-widgets/controls",
          "model_name": "DescriptionStyleModel",
          "model_module_version": "1.5.0",
          "state": {
            "_model_module": "@jupyter-widgets/controls",
            "_model_module_version": "1.5.0",
            "_model_name": "DescriptionStyleModel",
            "_view_count": null,
            "_view_module": "@jupyter-widgets/base",
            "_view_module_version": "1.2.0",
            "_view_name": "StyleView",
            "description_width": ""
          }
        },
        "3794dcda870b4d5caf70c62030cf0a6d": {
          "model_module": "@jupyter-widgets/controls",
          "model_name": "HBoxModel",
          "model_module_version": "1.5.0",
          "state": {
            "_dom_classes": [],
            "_model_module": "@jupyter-widgets/controls",
            "_model_module_version": "1.5.0",
            "_model_name": "HBoxModel",
            "_view_count": null,
            "_view_module": "@jupyter-widgets/controls",
            "_view_module_version": "1.5.0",
            "_view_name": "HBoxView",
            "box_style": "",
            "children": [
              "IPY_MODEL_6b19903217e348b4b225b5a9baa464f8",
              "IPY_MODEL_ad66a155a09e4e1ebfaffd46c4bb7c23",
              "IPY_MODEL_5f873e02534341ce933cb52ac8d4b8bb"
            ],
            "layout": "IPY_MODEL_425aa759fc8c4521860dff494572e685"
          }
        },
        "6b19903217e348b4b225b5a9baa464f8": {
          "model_module": "@jupyter-widgets/controls",
          "model_name": "HTMLModel",
          "model_module_version": "1.5.0",
          "state": {
            "_dom_classes": [],
            "_model_module": "@jupyter-widgets/controls",
            "_model_module_version": "1.5.0",
            "_model_name": "HTMLModel",
            "_view_count": null,
            "_view_module": "@jupyter-widgets/controls",
            "_view_module_version": "1.5.0",
            "_view_name": "HTMLView",
            "description": "",
            "description_tooltip": null,
            "layout": "IPY_MODEL_218382885c3845a0bdfa12e4986fa36f",
            "placeholder": "​",
            "style": "IPY_MODEL_996537c0b0cb4bf9893d3be4f995efaa",
            "value": "Downloading: 100%"
          }
        },
        "ad66a155a09e4e1ebfaffd46c4bb7c23": {
          "model_module": "@jupyter-widgets/controls",
          "model_name": "FloatProgressModel",
          "model_module_version": "1.5.0",
          "state": {
            "_dom_classes": [],
            "_model_module": "@jupyter-widgets/controls",
            "_model_module_version": "1.5.0",
            "_model_name": "FloatProgressModel",
            "_view_count": null,
            "_view_module": "@jupyter-widgets/controls",
            "_view_module_version": "1.5.0",
            "_view_name": "ProgressView",
            "bar_style": "success",
            "description": "",
            "description_tooltip": null,
            "layout": "IPY_MODEL_2a2bfbcd22ba4ac4a6b9c888d72d777a",
            "max": 231508,
            "min": 0,
            "orientation": "horizontal",
            "style": "IPY_MODEL_6a4d018310214402838323105387865b",
            "value": 231508
          }
        },
        "5f873e02534341ce933cb52ac8d4b8bb": {
          "model_module": "@jupyter-widgets/controls",
          "model_name": "HTMLModel",
          "model_module_version": "1.5.0",
          "state": {
            "_dom_classes": [],
            "_model_module": "@jupyter-widgets/controls",
            "_model_module_version": "1.5.0",
            "_model_name": "HTMLModel",
            "_view_count": null,
            "_view_module": "@jupyter-widgets/controls",
            "_view_module_version": "1.5.0",
            "_view_name": "HTMLView",
            "description": "",
            "description_tooltip": null,
            "layout": "IPY_MODEL_75d081f12a3d4922a0a3fd62d2be9f06",
            "placeholder": "​",
            "style": "IPY_MODEL_9d5c5abea4474b269eb21f55fe12f152",
            "value": " 226k/226k [00:00&lt;00:00, 8.69kB/s]"
          }
        },
        "425aa759fc8c4521860dff494572e685": {
          "model_module": "@jupyter-widgets/base",
          "model_name": "LayoutModel",
          "model_module_version": "1.2.0",
          "state": {
            "_model_module": "@jupyter-widgets/base",
            "_model_module_version": "1.2.0",
            "_model_name": "LayoutModel",
            "_view_count": null,
            "_view_module": "@jupyter-widgets/base",
            "_view_module_version": "1.2.0",
            "_view_name": "LayoutView",
            "align_content": null,
            "align_items": null,
            "align_self": null,
            "border": null,
            "bottom": null,
            "display": null,
            "flex": null,
            "flex_flow": null,
            "grid_area": null,
            "grid_auto_columns": null,
            "grid_auto_flow": null,
            "grid_auto_rows": null,
            "grid_column": null,
            "grid_gap": null,
            "grid_row": null,
            "grid_template_areas": null,
            "grid_template_columns": null,
            "grid_template_rows": null,
            "height": null,
            "justify_content": null,
            "justify_items": null,
            "left": null,
            "margin": null,
            "max_height": null,
            "max_width": null,
            "min_height": null,
            "min_width": null,
            "object_fit": null,
            "object_position": null,
            "order": null,
            "overflow": null,
            "overflow_x": null,
            "overflow_y": null,
            "padding": null,
            "right": null,
            "top": null,
            "visibility": null,
            "width": null
          }
        },
        "218382885c3845a0bdfa12e4986fa36f": {
          "model_module": "@jupyter-widgets/base",
          "model_name": "LayoutModel",
          "model_module_version": "1.2.0",
          "state": {
            "_model_module": "@jupyter-widgets/base",
            "_model_module_version": "1.2.0",
            "_model_name": "LayoutModel",
            "_view_count": null,
            "_view_module": "@jupyter-widgets/base",
            "_view_module_version": "1.2.0",
            "_view_name": "LayoutView",
            "align_content": null,
            "align_items": null,
            "align_self": null,
            "border": null,
            "bottom": null,
            "display": null,
            "flex": null,
            "flex_flow": null,
            "grid_area": null,
            "grid_auto_columns": null,
            "grid_auto_flow": null,
            "grid_auto_rows": null,
            "grid_column": null,
            "grid_gap": null,
            "grid_row": null,
            "grid_template_areas": null,
            "grid_template_columns": null,
            "grid_template_rows": null,
            "height": null,
            "justify_content": null,
            "justify_items": null,
            "left": null,
            "margin": null,
            "max_height": null,
            "max_width": null,
            "min_height": null,
            "min_width": null,
            "object_fit": null,
            "object_position": null,
            "order": null,
            "overflow": null,
            "overflow_x": null,
            "overflow_y": null,
            "padding": null,
            "right": null,
            "top": null,
            "visibility": null,
            "width": null
          }
        },
        "996537c0b0cb4bf9893d3be4f995efaa": {
          "model_module": "@jupyter-widgets/controls",
          "model_name": "DescriptionStyleModel",
          "model_module_version": "1.5.0",
          "state": {
            "_model_module": "@jupyter-widgets/controls",
            "_model_module_version": "1.5.0",
            "_model_name": "DescriptionStyleModel",
            "_view_count": null,
            "_view_module": "@jupyter-widgets/base",
            "_view_module_version": "1.2.0",
            "_view_name": "StyleView",
            "description_width": ""
          }
        },
        "2a2bfbcd22ba4ac4a6b9c888d72d777a": {
          "model_module": "@jupyter-widgets/base",
          "model_name": "LayoutModel",
          "model_module_version": "1.2.0",
          "state": {
            "_model_module": "@jupyter-widgets/base",
            "_model_module_version": "1.2.0",
            "_model_name": "LayoutModel",
            "_view_count": null,
            "_view_module": "@jupyter-widgets/base",
            "_view_module_version": "1.2.0",
            "_view_name": "LayoutView",
            "align_content": null,
            "align_items": null,
            "align_self": null,
            "border": null,
            "bottom": null,
            "display": null,
            "flex": null,
            "flex_flow": null,
            "grid_area": null,
            "grid_auto_columns": null,
            "grid_auto_flow": null,
            "grid_auto_rows": null,
            "grid_column": null,
            "grid_gap": null,
            "grid_row": null,
            "grid_template_areas": null,
            "grid_template_columns": null,
            "grid_template_rows": null,
            "height": null,
            "justify_content": null,
            "justify_items": null,
            "left": null,
            "margin": null,
            "max_height": null,
            "max_width": null,
            "min_height": null,
            "min_width": null,
            "object_fit": null,
            "object_position": null,
            "order": null,
            "overflow": null,
            "overflow_x": null,
            "overflow_y": null,
            "padding": null,
            "right": null,
            "top": null,
            "visibility": null,
            "width": null
          }
        },
        "6a4d018310214402838323105387865b": {
          "model_module": "@jupyter-widgets/controls",
          "model_name": "ProgressStyleModel",
          "model_module_version": "1.5.0",
          "state": {
            "_model_module": "@jupyter-widgets/controls",
            "_model_module_version": "1.5.0",
            "_model_name": "ProgressStyleModel",
            "_view_count": null,
            "_view_module": "@jupyter-widgets/base",
            "_view_module_version": "1.2.0",
            "_view_name": "StyleView",
            "bar_color": null,
            "description_width": ""
          }
        },
        "75d081f12a3d4922a0a3fd62d2be9f06": {
          "model_module": "@jupyter-widgets/base",
          "model_name": "LayoutModel",
          "model_module_version": "1.2.0",
          "state": {
            "_model_module": "@jupyter-widgets/base",
            "_model_module_version": "1.2.0",
            "_model_name": "LayoutModel",
            "_view_count": null,
            "_view_module": "@jupyter-widgets/base",
            "_view_module_version": "1.2.0",
            "_view_name": "LayoutView",
            "align_content": null,
            "align_items": null,
            "align_self": null,
            "border": null,
            "bottom": null,
            "display": null,
            "flex": null,
            "flex_flow": null,
            "grid_area": null,
            "grid_auto_columns": null,
            "grid_auto_flow": null,
            "grid_auto_rows": null,
            "grid_column": null,
            "grid_gap": null,
            "grid_row": null,
            "grid_template_areas": null,
            "grid_template_columns": null,
            "grid_template_rows": null,
            "height": null,
            "justify_content": null,
            "justify_items": null,
            "left": null,
            "margin": null,
            "max_height": null,
            "max_width": null,
            "min_height": null,
            "min_width": null,
            "object_fit": null,
            "object_position": null,
            "order": null,
            "overflow": null,
            "overflow_x": null,
            "overflow_y": null,
            "padding": null,
            "right": null,
            "top": null,
            "visibility": null,
            "width": null
          }
        },
        "9d5c5abea4474b269eb21f55fe12f152": {
          "model_module": "@jupyter-widgets/controls",
          "model_name": "DescriptionStyleModel",
          "model_module_version": "1.5.0",
          "state": {
            "_model_module": "@jupyter-widgets/controls",
            "_model_module_version": "1.5.0",
            "_model_name": "DescriptionStyleModel",
            "_view_count": null,
            "_view_module": "@jupyter-widgets/base",
            "_view_module_version": "1.2.0",
            "_view_name": "StyleView",
            "description_width": ""
          }
        },
        "55650e4d32544dd18c44160938d3ff82": {
          "model_module": "@jupyter-widgets/controls",
          "model_name": "HBoxModel",
          "model_module_version": "1.5.0",
          "state": {
            "_dom_classes": [],
            "_model_module": "@jupyter-widgets/controls",
            "_model_module_version": "1.5.0",
            "_model_name": "HBoxModel",
            "_view_count": null,
            "_view_module": "@jupyter-widgets/controls",
            "_view_module_version": "1.5.0",
            "_view_name": "HBoxView",
            "box_style": "",
            "children": [
              "IPY_MODEL_99ec0df37601439d9379166d8f19f636",
              "IPY_MODEL_aa121153f007417d994402118e7d287d",
              "IPY_MODEL_970a9b9ec89342bf9fc537e20a93f317"
            ],
            "layout": "IPY_MODEL_44140853f5d8403dbffe0ec78d2f758a"
          }
        },
        "99ec0df37601439d9379166d8f19f636": {
          "model_module": "@jupyter-widgets/controls",
          "model_name": "HTMLModel",
          "model_module_version": "1.5.0",
          "state": {
            "_dom_classes": [],
            "_model_module": "@jupyter-widgets/controls",
            "_model_module_version": "1.5.0",
            "_model_name": "HTMLModel",
            "_view_count": null,
            "_view_module": "@jupyter-widgets/controls",
            "_view_module_version": "1.5.0",
            "_view_name": "HTMLView",
            "description": "",
            "description_tooltip": null,
            "layout": "IPY_MODEL_a67631edd5b1446a8e3859a3b671a08a",
            "placeholder": "​",
            "style": "IPY_MODEL_84d85861f0d24c069db16a1db847452d",
            "value": "Downloading: 100%"
          }
        },
        "aa121153f007417d994402118e7d287d": {
          "model_module": "@jupyter-widgets/controls",
          "model_name": "FloatProgressModel",
          "model_module_version": "1.5.0",
          "state": {
            "_dom_classes": [],
            "_model_module": "@jupyter-widgets/controls",
            "_model_module_version": "1.5.0",
            "_model_name": "FloatProgressModel",
            "_view_count": null,
            "_view_module": "@jupyter-widgets/controls",
            "_view_module_version": "1.5.0",
            "_view_name": "ProgressView",
            "bar_style": "success",
            "description": "",
            "description_tooltip": null,
            "layout": "IPY_MODEL_f272dde492da4490800b502720302e2d",
            "max": 466062,
            "min": 0,
            "orientation": "horizontal",
            "style": "IPY_MODEL_502132f7704240f2971129f18e0a83ee",
            "value": 466062
          }
        },
        "970a9b9ec89342bf9fc537e20a93f317": {
          "model_module": "@jupyter-widgets/controls",
          "model_name": "HTMLModel",
          "model_module_version": "1.5.0",
          "state": {
            "_dom_classes": [],
            "_model_module": "@jupyter-widgets/controls",
            "_model_module_version": "1.5.0",
            "_model_name": "HTMLModel",
            "_view_count": null,
            "_view_module": "@jupyter-widgets/controls",
            "_view_module_version": "1.5.0",
            "_view_name": "HTMLView",
            "description": "",
            "description_tooltip": null,
            "layout": "IPY_MODEL_5623ff94a9e44a03b2658873e1f62487",
            "placeholder": "​",
            "style": "IPY_MODEL_0c81c4dcac734be99b86bb34d919bbe4",
            "value": " 455k/455k [00:00&lt;00:00, 2.37MB/s]"
          }
        },
        "44140853f5d8403dbffe0ec78d2f758a": {
          "model_module": "@jupyter-widgets/base",
          "model_name": "LayoutModel",
          "model_module_version": "1.2.0",
          "state": {
            "_model_module": "@jupyter-widgets/base",
            "_model_module_version": "1.2.0",
            "_model_name": "LayoutModel",
            "_view_count": null,
            "_view_module": "@jupyter-widgets/base",
            "_view_module_version": "1.2.0",
            "_view_name": "LayoutView",
            "align_content": null,
            "align_items": null,
            "align_self": null,
            "border": null,
            "bottom": null,
            "display": null,
            "flex": null,
            "flex_flow": null,
            "grid_area": null,
            "grid_auto_columns": null,
            "grid_auto_flow": null,
            "grid_auto_rows": null,
            "grid_column": null,
            "grid_gap": null,
            "grid_row": null,
            "grid_template_areas": null,
            "grid_template_columns": null,
            "grid_template_rows": null,
            "height": null,
            "justify_content": null,
            "justify_items": null,
            "left": null,
            "margin": null,
            "max_height": null,
            "max_width": null,
            "min_height": null,
            "min_width": null,
            "object_fit": null,
            "object_position": null,
            "order": null,
            "overflow": null,
            "overflow_x": null,
            "overflow_y": null,
            "padding": null,
            "right": null,
            "top": null,
            "visibility": null,
            "width": null
          }
        },
        "a67631edd5b1446a8e3859a3b671a08a": {
          "model_module": "@jupyter-widgets/base",
          "model_name": "LayoutModel",
          "model_module_version": "1.2.0",
          "state": {
            "_model_module": "@jupyter-widgets/base",
            "_model_module_version": "1.2.0",
            "_model_name": "LayoutModel",
            "_view_count": null,
            "_view_module": "@jupyter-widgets/base",
            "_view_module_version": "1.2.0",
            "_view_name": "LayoutView",
            "align_content": null,
            "align_items": null,
            "align_self": null,
            "border": null,
            "bottom": null,
            "display": null,
            "flex": null,
            "flex_flow": null,
            "grid_area": null,
            "grid_auto_columns": null,
            "grid_auto_flow": null,
            "grid_auto_rows": null,
            "grid_column": null,
            "grid_gap": null,
            "grid_row": null,
            "grid_template_areas": null,
            "grid_template_columns": null,
            "grid_template_rows": null,
            "height": null,
            "justify_content": null,
            "justify_items": null,
            "left": null,
            "margin": null,
            "max_height": null,
            "max_width": null,
            "min_height": null,
            "min_width": null,
            "object_fit": null,
            "object_position": null,
            "order": null,
            "overflow": null,
            "overflow_x": null,
            "overflow_y": null,
            "padding": null,
            "right": null,
            "top": null,
            "visibility": null,
            "width": null
          }
        },
        "84d85861f0d24c069db16a1db847452d": {
          "model_module": "@jupyter-widgets/controls",
          "model_name": "DescriptionStyleModel",
          "model_module_version": "1.5.0",
          "state": {
            "_model_module": "@jupyter-widgets/controls",
            "_model_module_version": "1.5.0",
            "_model_name": "DescriptionStyleModel",
            "_view_count": null,
            "_view_module": "@jupyter-widgets/base",
            "_view_module_version": "1.2.0",
            "_view_name": "StyleView",
            "description_width": ""
          }
        },
        "f272dde492da4490800b502720302e2d": {
          "model_module": "@jupyter-widgets/base",
          "model_name": "LayoutModel",
          "model_module_version": "1.2.0",
          "state": {
            "_model_module": "@jupyter-widgets/base",
            "_model_module_version": "1.2.0",
            "_model_name": "LayoutModel",
            "_view_count": null,
            "_view_module": "@jupyter-widgets/base",
            "_view_module_version": "1.2.0",
            "_view_name": "LayoutView",
            "align_content": null,
            "align_items": null,
            "align_self": null,
            "border": null,
            "bottom": null,
            "display": null,
            "flex": null,
            "flex_flow": null,
            "grid_area": null,
            "grid_auto_columns": null,
            "grid_auto_flow": null,
            "grid_auto_rows": null,
            "grid_column": null,
            "grid_gap": null,
            "grid_row": null,
            "grid_template_areas": null,
            "grid_template_columns": null,
            "grid_template_rows": null,
            "height": null,
            "justify_content": null,
            "justify_items": null,
            "left": null,
            "margin": null,
            "max_height": null,
            "max_width": null,
            "min_height": null,
            "min_width": null,
            "object_fit": null,
            "object_position": null,
            "order": null,
            "overflow": null,
            "overflow_x": null,
            "overflow_y": null,
            "padding": null,
            "right": null,
            "top": null,
            "visibility": null,
            "width": null
          }
        },
        "502132f7704240f2971129f18e0a83ee": {
          "model_module": "@jupyter-widgets/controls",
          "model_name": "ProgressStyleModel",
          "model_module_version": "1.5.0",
          "state": {
            "_model_module": "@jupyter-widgets/controls",
            "_model_module_version": "1.5.0",
            "_model_name": "ProgressStyleModel",
            "_view_count": null,
            "_view_module": "@jupyter-widgets/base",
            "_view_module_version": "1.2.0",
            "_view_name": "StyleView",
            "bar_color": null,
            "description_width": ""
          }
        },
        "5623ff94a9e44a03b2658873e1f62487": {
          "model_module": "@jupyter-widgets/base",
          "model_name": "LayoutModel",
          "model_module_version": "1.2.0",
          "state": {
            "_model_module": "@jupyter-widgets/base",
            "_model_module_version": "1.2.0",
            "_model_name": "LayoutModel",
            "_view_count": null,
            "_view_module": "@jupyter-widgets/base",
            "_view_module_version": "1.2.0",
            "_view_name": "LayoutView",
            "align_content": null,
            "align_items": null,
            "align_self": null,
            "border": null,
            "bottom": null,
            "display": null,
            "flex": null,
            "flex_flow": null,
            "grid_area": null,
            "grid_auto_columns": null,
            "grid_auto_flow": null,
            "grid_auto_rows": null,
            "grid_column": null,
            "grid_gap": null,
            "grid_row": null,
            "grid_template_areas": null,
            "grid_template_columns": null,
            "grid_template_rows": null,
            "height": null,
            "justify_content": null,
            "justify_items": null,
            "left": null,
            "margin": null,
            "max_height": null,
            "max_width": null,
            "min_height": null,
            "min_width": null,
            "object_fit": null,
            "object_position": null,
            "order": null,
            "overflow": null,
            "overflow_x": null,
            "overflow_y": null,
            "padding": null,
            "right": null,
            "top": null,
            "visibility": null,
            "width": null
          }
        },
        "0c81c4dcac734be99b86bb34d919bbe4": {
          "model_module": "@jupyter-widgets/controls",
          "model_name": "DescriptionStyleModel",
          "model_module_version": "1.5.0",
          "state": {
            "_model_module": "@jupyter-widgets/controls",
            "_model_module_version": "1.5.0",
            "_model_name": "DescriptionStyleModel",
            "_view_count": null,
            "_view_module": "@jupyter-widgets/base",
            "_view_module_version": "1.2.0",
            "_view_name": "StyleView",
            "description_width": ""
          }
        }
      }
    }
  },
  "nbformat": 4,
  "nbformat_minor": 5
}