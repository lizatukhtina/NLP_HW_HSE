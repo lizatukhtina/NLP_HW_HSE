{
  "cells": [
    {
      "cell_type": "markdown",
      "id": "1dba7c0d",
      "metadata": {
        "id": "1dba7c0d"
      },
      "source": [
        "# Домашнее задание № 10. Генерация текста"
      ]
    },
    {
      "cell_type": "markdown",
      "id": "76f21d5e",
      "metadata": {
        "id": "76f21d5e"
      },
      "source": [
        "### Задание 1 (8 баллов).\n",
        "\n",
        "Попробуйте дообучать GPT на каком-то другом тексте (можете попробовать любые стихи или какие-то специфичные вещи вроде анекдотов, теорий заговоров, постов в помоечных телеграм каналах, текстов журналистов и СМИ с выразительным стилем). \n",
        "Попробуйте разные методы и параметры генерации (beam search, температура, top_k и тп). Сохраните в тетрадке несколько хороших сгенерированных текстов\n"
      ]
    },
    {
      "cell_type": "code",
      "source": [
        "! pip install transformers"
      ],
      "metadata": {
        "id": "nlz7yfKPLl3k"
      },
      "id": "nlz7yfKPLl3k",
      "execution_count": null,
      "outputs": []
    },
    {
      "cell_type": "code",
      "source": [
        "from transformers import GPT2LMHeadModel, GPT2Tokenizer\n",
        "from transformers import TextDataset, DataCollatorForLanguageModeling\n",
        "import torch\n",
        "\n",
        "DEVICE = torch.device(\"cuda:0\")"
      ],
      "metadata": {
        "id": "oI-cXECJLk4g"
      },
      "id": "oI-cXECJLk4g",
      "execution_count": 9,
      "outputs": []
    },
    {
      "cell_type": "code",
      "execution_count": 8,
      "id": "2444e3fe",
      "metadata": {
        "id": "2444e3fe",
        "colab": {
          "base_uri": "https://localhost:8080/",
          "height": 145,
          "referenced_widgets": [
            "25c0375408134c58972c55ecee984a51",
            "67911ae8c66d492b901c088fb4d08f30",
            "42080a7858884fea8beb65d9ebb3e949",
            "d1ac728a4c7e418289e643aeb0c3a4ec",
            "9ad2e31526574d9b8d5d17cc1f19430d",
            "a454d17239104dbda8d93ef7cb422fe1",
            "c6a8347711634988ad9bd8ef2d3c3cf9",
            "633355baf8b64a179e72da92388cf8d9",
            "2def719d287a42f78d2c41634c2ca2b1",
            "27756b74401b418f8fb06a05caab0934",
            "78e007d9782b412eb8859d38fe649553",
            "5b7edd368e7340b59d3112bb1fb9a2a4",
            "b92bae8aadf845e2beb5abbe077af079",
            "6aa5c88214c14d23af667d294d0187d7",
            "0ab4ef0e8aff48a89ef0671acdeb801a",
            "bdc235e54877428c9d50f6649941dfae",
            "5a517616de974ab3886338eca22a13fc",
            "fb22e92ca0d743bdba47d42564bab46b",
            "988a529d28b5451ca9357f3356335727",
            "1f3ca63faf6b4c7da9a95e9f628c554b",
            "fc307dbc9abc402e94e270c0f5d4e182",
            "f0eafccf379f47318d70e91e30452e3a",
            "c02e7aa47881484ca9971121c8dac46f",
            "e08d1d58127d467984bf039a92d32267",
            "50374cc838bf41218742cf0b64435d92",
            "810dc7ccd42a4976a939930b94cea984",
            "0a3c1d45de9b4e5783bc5c4a848e4160",
            "231b5ba821754bfe9048eb76a461ec6c",
            "bffcb7267b7f4e9a984d28adb7e3284c",
            "e55c9f798ed94a92b7e049ac921ffb7e",
            "bce616a830ea4f3e9e04a9b4a61f068b",
            "15f87fb5960549d3b3ed46a15da825ba",
            "c24069c5e887401ea1531f51187ab881",
            "07733cdbb8384123bb1dce0ab860264b",
            "574e5f94183c43ff92395600e2de1995",
            "10d238e7397146f380c42b4dd8d9a402",
            "90a5ca55fb634c3b99930a6c28fbc8b5",
            "98176a50c3f2493782d4ffa3260f0170",
            "ad848099051b4eb7ac6432ebc0af07b6",
            "1c5b829f62bf477bbb2b8542f6b3d086",
            "4c3dd2177f6740c1aa5ffd473016991e",
            "4b15f5985dda46419ee3569cfd3b6e6a",
            "35a3e14b78cb4452a7cda661357a0bee",
            "4364118f545742faa3fc4592652d741a"
          ]
        },
        "outputId": "9e0ac370-2939-4fb1-a251-dbd2c151c91a"
      },
      "outputs": [
        {
          "output_type": "display_data",
          "data": {
            "text/plain": [
              "Downloading:   0%|          | 0.00/1.63M [00:00<?, ?B/s]"
            ],
            "application/vnd.jupyter.widget-view+json": {
              "version_major": 2,
              "version_minor": 0,
              "model_id": "25c0375408134c58972c55ecee984a51"
            }
          },
          "metadata": {}
        },
        {
          "output_type": "display_data",
          "data": {
            "text/plain": [
              "Downloading:   0%|          | 0.00/1.21M [00:00<?, ?B/s]"
            ],
            "application/vnd.jupyter.widget-view+json": {
              "version_major": 2,
              "version_minor": 0,
              "model_id": "5b7edd368e7340b59d3112bb1fb9a2a4"
            }
          },
          "metadata": {}
        },
        {
          "output_type": "display_data",
          "data": {
            "text/plain": [
              "Downloading:   0%|          | 0.00/608 [00:00<?, ?B/s]"
            ],
            "application/vnd.jupyter.widget-view+json": {
              "version_major": 2,
              "version_minor": 0,
              "model_id": "c02e7aa47881484ca9971121c8dac46f"
            }
          },
          "metadata": {}
        },
        {
          "output_type": "display_data",
          "data": {
            "text/plain": [
              "Downloading:   0%|          | 0.00/526M [00:00<?, ?B/s]"
            ],
            "application/vnd.jupyter.widget-view+json": {
              "version_major": 2,
              "version_minor": 0,
              "model_id": "07733cdbb8384123bb1dce0ab860264b"
            }
          },
          "metadata": {}
        }
      ],
      "source": [
        "model_name_or_path = \"sberbank-ai/rugpt3small_based_on_gpt2\"\n",
        "tokenizer = GPT2Tokenizer.from_pretrained(model_name_or_path)\n",
        "model = GPT2LMHeadModel.from_pretrained(model_name_or_path, use_cache=False).to(DEVICE)"
      ]
    },
    {
      "cell_type": "markdown",
      "source": [
        "В качестве данных для оубчения возьмем тексты песен исполнителя **Mujuice**"
      ],
      "metadata": {
        "id": "7azxKnefOMQA"
      },
      "id": "7azxKnefOMQA"
    },
    {
      "cell_type": "code",
      "execution_count": 5,
      "id": "f07bd89b",
      "metadata": {
        "id": "f07bd89b"
      },
      "outputs": [],
      "source": [
        "with open('mujuice_texts.txt', 'r') as file:\n",
        "    text = file.read()"
      ]
    },
    {
      "cell_type": "markdown",
      "source": [
        "По сути, исходные тексты уже изначально похожи на сгенерированные...:"
      ],
      "metadata": {
        "id": "a1cDIhy2zwYq"
      },
      "id": "a1cDIhy2zwYq"
    },
    {
      "cell_type": "code",
      "source": [
        "print(text[0:305])"
      ],
      "metadata": {
        "colab": {
          "base_uri": "https://localhost:8080/"
        },
        "id": "cKqg_FOsNYp1",
        "outputId": "6f853aa2-27cd-4eb1-8b8b-b0c7e4e387cf"
      },
      "id": "cKqg_FOsNYp1",
      "execution_count": 6,
      "outputs": [
        {
          "output_type": "stream",
          "name": "stdout",
          "text": [
            "Дизели\n",
            " Ветер\n",
            " По Настроению\n",
            " Юный Вечер Убит\n",
            " Значит Я Жив\n",
            " Сердца Бит Долбит Вслед\n",
            " Пегасы И Скутеры\n",
            " Гонки Со Встречными\n",
            " Дела Как Дела\n",
            " Hola!\n",
            " Пьяные Феи\n",
            " *ah-ah*\n",
            " Пахнут Сиреневым\n",
            " Рубят Ресницами\n",
            " Головы С Плеч\n",
            " Течь\n",
            " Легко Было Ключ\n",
            " Проглотить И Пролиться\n",
            " Раскаленными Каплями\n",
            " Cool-Cool Death!\n",
            " \n"
          ]
        }
      ]
    },
    {
      "cell_type": "code",
      "source": [
        "# Создание датасета\n",
        "train_dataset = TextDataset( tokenizer=tokenizer,file_path='mujuice_texts.txt',block_size=64, \n",
        "                            overwrite_cache=True)\n",
        "  \n",
        "# специальный класс который будет подавать в модель данные в нужном ей виде\n",
        "data_collator = DataCollatorForLanguageModeling(tokenizer=tokenizer, mlm=False)"
      ],
      "metadata": {
        "id": "SLckCuaVNp4A",
        "colab": {
          "base_uri": "https://localhost:8080/"
        },
        "outputId": "4b9d703c-5948-4ee6-8e45-cffa24dff232"
      },
      "id": "SLckCuaVNp4A",
      "execution_count": 10,
      "outputs": [
        {
          "output_type": "stream",
          "name": "stderr",
          "text": [
            "/usr/local/lib/python3.7/dist-packages/transformers/data/datasets/language_modeling.py:58: FutureWarning: This dataset will be removed from the library soon, preprocessing should be handled with the 🤗 Datasets library. You can have a look at this example script for pointers: https://github.com/huggingface/transformers/blob/main/examples/pytorch/language-modeling/run_mlm.py\n",
            "  FutureWarning,\n"
          ]
        }
      ]
    },
    {
      "cell_type": "code",
      "source": [
        "from transformers import Trainer, TrainingArguments\n",
        "\n",
        "training_args = TrainingArguments( \n",
        "    output_dir= \"./finetuned\",\n",
        "    overwrite_output_dir=True,\n",
        "    num_train_epochs=100, \n",
        "    per_device_train_batch_size=32, \n",
        "    per_device_eval_batch_size=32,  \n",
        "    gradient_accumulation_steps=16, \n",
        "    )\n",
        "\n",
        "\n",
        "trainer = Trainer(\n",
        "    model=model,\n",
        "    args=training_args,\n",
        "    data_collator=data_collator,\n",
        "    train_dataset=train_dataset,\n",
        "    optimizers = (torch.optim.AdamW(model.parameters(),lr=1e-5),None) # Optimizer and lr scheduler\n",
        ")"
      ],
      "metadata": {
        "id": "Gj8YuAM5OBuk"
      },
      "id": "Gj8YuAM5OBuk",
      "execution_count": 11,
      "outputs": []
    },
    {
      "cell_type": "code",
      "source": [
        "trainer.train()"
      ],
      "metadata": {
        "colab": {
          "base_uri": "https://localhost:8080/",
          "height": 321
        },
        "id": "sFq4ol0COC9r",
        "outputId": "990879ed-5796-4964-ca16-bdc9dd1736de"
      },
      "id": "sFq4ol0COC9r",
      "execution_count": 12,
      "outputs": [
        {
          "output_type": "stream",
          "name": "stderr",
          "text": [
            "***** Running training *****\n",
            "  Num examples = 169\n",
            "  Num Epochs = 100\n",
            "  Instantaneous batch size per device = 32\n",
            "  Total train batch size (w. parallel, distributed & accumulation) = 512\n",
            "  Gradient Accumulation steps = 16\n",
            "  Total optimization steps = 100\n"
          ]
        },
        {
          "output_type": "display_data",
          "data": {
            "text/plain": [
              "<IPython.core.display.HTML object>"
            ],
            "text/html": [
              "\n",
              "    <div>\n",
              "      \n",
              "      <progress value='100' max='100' style='width:300px; height:20px; vertical-align: middle;'></progress>\n",
              "      [100/100 04:28, Epoch 100/100]\n",
              "    </div>\n",
              "    <table border=\"1\" class=\"dataframe\">\n",
              "  <thead>\n",
              " <tr style=\"text-align: left;\">\n",
              "      <th>Step</th>\n",
              "      <th>Training Loss</th>\n",
              "    </tr>\n",
              "  </thead>\n",
              "  <tbody>\n",
              "  </tbody>\n",
              "</table><p>"
            ]
          },
          "metadata": {}
        },
        {
          "output_type": "stream",
          "name": "stderr",
          "text": [
            "\n",
            "\n",
            "Training completed. Do not forget to share your model on huggingface.co/models =)\n",
            "\n",
            "\n"
          ]
        },
        {
          "output_type": "execute_result",
          "data": {
            "text/plain": [
              "TrainOutput(global_step=100, training_loss=1.0202462005615234, metrics={'train_runtime': 271.4328, 'train_samples_per_second': 62.262, 'train_steps_per_second': 0.368, 'total_flos': 551979417600000.0, 'train_loss': 1.0202462005615234, 'epoch': 100.0})"
            ]
          },
          "metadata": {},
          "execution_count": 12
        }
      ]
    },
    {
      "cell_type": "code",
      "source": [
        "def generate_text(text, temperature=1, top_k=50, max_length=200):\n",
        "  input_ids = tokenizer.encode(text, return_tensors=\"pt\").to(DEVICE)\n",
        "  model.eval()\n",
        "  with torch.no_grad():\n",
        "      out = model.generate(input_ids, \n",
        "                          do_sample=True,\n",
        "                          temperature = temperature,\n",
        "                          top_k = top_k,\n",
        "                          max_length = max_length\n",
        "                          )\n",
        "  generated_text = list(map(tokenizer.decode, out))[0]\n",
        "  print()\n",
        "  print(generated_text)"
      ],
      "metadata": {
        "id": "iAeyG1TwQlSY"
      },
      "id": "iAeyG1TwQlSY",
      "execution_count": 13,
      "outputs": []
    },
    {
      "cell_type": "markdown",
      "source": [
        "**temperature ≈ 0**"
      ],
      "metadata": {
        "id": "YnT9M0GVowB7"
      },
      "id": "YnT9M0GVowB7"
    },
    {
      "cell_type": "code",
      "source": [
        "text = \"Раз два три четыре пять \"\n",
        "generate_text(text, temperature=0.01, max_length=70)"
      ],
      "metadata": {
        "colab": {
          "base_uri": "https://localhost:8080/"
        },
        "id": "sTcB-jGFo2HQ",
        "outputId": "891e6b83-749b-4062-9776-4e5c7a0e5612"
      },
      "id": "sTcB-jGFo2HQ",
      "execution_count": 17,
      "outputs": [
        {
          "output_type": "stream",
          "name": "stderr",
          "text": [
            "Setting `pad_token_id` to `eos_token_id`:50256 for open-end generation.\n"
          ]
        },
        {
          "output_type": "stream",
          "name": "stdout",
          "text": [
            "\n",
            "Раз два три четыре пять \n",
            " Два три четыре пять\n",
            " Три четыре пять пять\n",
            " Три четыре пять пять\n",
            " Три четыре пять пять\n",
            " Три четыре пять пять\n",
            " Три четыре пять пять\n",
            " Три четыре пять пять\n",
            " Три четыре пять пять\n",
            " Три четыре пять пять\n",
            " Три четыре пять пять\n",
            " Три четыре пять пять\n",
            " Три четыре пять пять\n",
            " Три четыре пять\n"
          ]
        }
      ]
    },
    {
      "cell_type": "markdown",
      "source": [
        "**temperature = 1**"
      ],
      "metadata": {
        "id": "9JffV_mRpOxi"
      },
      "id": "9JffV_mRpOxi"
    },
    {
      "cell_type": "code",
      "source": [
        "text = \"Раз два три четыре пять \"\n",
        "generate_text(text, temperature=1)"
      ],
      "metadata": {
        "colab": {
          "base_uri": "https://localhost:8080/"
        },
        "id": "6pwQi-2fkbdH",
        "outputId": "9cc938db-1402-4884-f414-306e477ac27a"
      },
      "id": "6pwQi-2fkbdH",
      "execution_count": null,
      "outputs": [
        {
          "output_type": "stream",
          "name": "stderr",
          "text": [
            "Setting `pad_token_id` to `eos_token_id`:50256 for open-end generation.\n"
          ]
        },
        {
          "output_type": "stream",
          "name": "stdout",
          "text": [
            "\n",
            "Раз два три четыре пять  Звуками войны\n",
            " Я вижу огни\n",
            " Укрепим сталью льда\n",
            " Я верю в чудеса\n",
            " Зовёт с собой\n",
            " Холодный Восток и Атланты\n",
            " Мне бы снова оказаться в Париже\n",
            " О Боже, что за ерунда\n",
            " В темноте звезда в ладонь\n",
            " Я слышал это в толпе\n",
            " Мы спели там, на пляже\n",
            " Потанцуй с огнём снова\n",
            " Я жду ответа\n",
            " Не найдётся, где взять ответ\n",
            " Жди, дождёмся, вернёмся\n",
            " Вместе из огня и молний\n",
            " Будем танцевать ещё\n",
            " Вместе на одной широте\n",
            " Звёзд не вернуть в прах\n",
            " Звезды смотрят на Восток\n",
            " Мне кажется, что мы одни\n",
            " Оу… мы одни на свете!\n",
            " Оу! мы одни! Ура ура! ура ура ура ура! ура ура! ура ура ура ура! ура ура ура ура ура! и мы летим!\n",
            " Потанцуй с огнём снова\n",
            " Давай на время забыть о льдах\n"
          ]
        }
      ]
    },
    {
      "cell_type": "markdown",
      "source": [
        "**temperature = 0.75, top_k = 50**"
      ],
      "metadata": {
        "id": "WWSkElPQit0_"
      },
      "id": "WWSkElPQit0_"
    },
    {
      "cell_type": "code",
      "source": [
        "generate_text(\"Раз два три четыре пять\", temperature=0.75, max_length=100)"
      ],
      "metadata": {
        "colab": {
          "base_uri": "https://localhost:8080/"
        },
        "id": "FWp9n1sXsSGU",
        "outputId": "326fa9bc-bfa1-448e-dbf7-40c986ba1845"
      },
      "id": "FWp9n1sXsSGU",
      "execution_count": 93,
      "outputs": [
        {
          "output_type": "stream",
          "name": "stderr",
          "text": [
            "Setting `pad_token_id` to `eos_token_id`:50256 for open-end generation.\n"
          ]
        },
        {
          "output_type": "stream",
          "name": "stdout",
          "text": [
            "\n",
            "Раз два три четыре пять\n",
            " Ищи меня по всей планете\n",
            " В каждой клеточке твоей\n",
            " Все на нуле...\n",
            "\n",
            " Три копейки\n",
            " Семь раз отмерь\n",
            " Жизнь одна\n",
            " Мы умрем\n",
            " Но сможем ли мы снова\n",
            " Сжаться в кучку\n",
            " Потерять контроль\n",
            " На секунду\n",
            " На два\n",
            " Раз два три четыре пять\n",
            " Ищи меня по всей планете\n",
            " В каждой клеточке твоей\n",
            " Все на нуле...\n",
            "\n",
            " Три копейки\n",
            " Семь раз отмерь\n",
            " Жизнь\n"
          ]
        }
      ]
    },
    {
      "cell_type": "code",
      "source": [
        "generate_text(\"Небо, звезды и луна\", temperature=0.75, max_length=100)"
      ],
      "metadata": {
        "colab": {
          "base_uri": "https://localhost:8080/"
        },
        "id": "jY2vrBV-qeOs",
        "outputId": "1f720f0d-1e9d-4df6-ccfc-407bb2dcbe47"
      },
      "id": "jY2vrBV-qeOs",
      "execution_count": 25,
      "outputs": [
        {
          "output_type": "stream",
          "name": "stderr",
          "text": [
            "Setting `pad_token_id` to `eos_token_id`:50256 for open-end generation.\n"
          ]
        },
        {
          "output_type": "stream",
          "name": "stdout",
          "text": [
            "\n",
            "Небо, звезды и луна\n",
            " Не знаю, что с тобой\n",
            " Я знаю, что с тобой\n",
            " Оу!\n",
            "\n",
            " I'm dead\n",
            " I'm dead\n",
            " I'm dead\n",
            " I'm dead\n",
            " I'm dead\n",
            " I'm dead\n",
            " I'm dead\n",
            " I'm dead\n",
            " I'm dead\n",
            " I'm dead\n",
            " I'm dead\n",
            " I'm dead\n",
            " I'm dead\n",
            " I'm dead\n",
            " I'm dead\n"
          ]
        }
      ]
    },
    {
      "cell_type": "markdown",
      "source": [
        "**top_k=10**"
      ],
      "metadata": {
        "id": "4ZXC4O5quLMN"
      },
      "id": "4ZXC4O5quLMN"
    },
    {
      "cell_type": "code",
      "source": [
        "generate_text(\"Небо, звезды и луна\", temperature=0.75, max_length=50, top_k=10)"
      ],
      "metadata": {
        "colab": {
          "base_uri": "https://localhost:8080/"
        },
        "id": "uHx7JZPJuNIu",
        "outputId": "c6fbebb5-a034-478e-ef84-52abab0fe869"
      },
      "id": "uHx7JZPJuNIu",
      "execution_count": 123,
      "outputs": [
        {
          "output_type": "stream",
          "name": "stderr",
          "text": [
            "Setting `pad_token_id` to `eos_token_id`:50256 for open-end generation.\n"
          ]
        },
        {
          "output_type": "stream",
          "name": "stdout",
          "text": [
            "\n",
            "Небо, звезды и луна\n",
            " Я не знаю, где кончается лето\n",
            " Я не знаю, где начинается осень\n",
            " Я не знаю, где начинается весна\n",
            " Я не знаю, где кончается лето\n",
            " Я не знаю, где кончается осень\n",
            " Я не знаю\n"
          ]
        }
      ]
    },
    {
      "cell_type": "markdown",
      "source": [
        "Настройка параметра num_beams не позволила получить какие-то разнообразные результаты:"
      ],
      "metadata": {
        "id": "nesPa0zNyyc9"
      },
      "id": "nesPa0zNyyc9"
    },
    {
      "cell_type": "markdown",
      "source": [
        "**num_beams = 10**"
      ],
      "metadata": {
        "id": "xf0ggkTHv3OJ"
      },
      "id": "xf0ggkTHv3OJ"
    },
    {
      "cell_type": "code",
      "source": [
        "input_ids = tokenizer.encode(\"День и ночь\", return_tensors=\"pt\").to(DEVICE)\n",
        "out = model.generate(input_ids, do_sample=True, num_beams=10, temperature=0.75, max_length=40)\n",
        "generated_text = list(map(tokenizer.decode, out))[0]\n",
        "print(generated_text)"
      ],
      "metadata": {
        "colab": {
          "base_uri": "https://localhost:8080/"
        },
        "id": "1bS1mlUfxMqb",
        "outputId": "9e04344e-08f7-4000-9c47-77a777f074fe"
      },
      "id": "1bS1mlUfxMqb",
      "execution_count": 152,
      "outputs": [
        {
          "output_type": "stream",
          "name": "stderr",
          "text": [
            "Setting `pad_token_id` to `eos_token_id`:50256 for open-end generation.\n"
          ]
        },
        {
          "output_type": "stream",
          "name": "stdout",
          "text": [
            "День и ночь\n",
            " Оу!\n",
            " Оу!\n",
            " Оу!\n",
            " Оу!\n",
            " Оу!\n",
            " Оу!\n",
            " Оу!\n",
            " Оу!\n",
            " Оу!\n",
            "\n"
          ]
        }
      ]
    },
    {
      "cell_type": "markdown",
      "source": [
        "**num_beams = 2**"
      ],
      "metadata": {
        "id": "KGPxOrdzv6YK"
      },
      "id": "KGPxOrdzv6YK"
    },
    {
      "cell_type": "code",
      "source": [
        "input_ids = tokenizer.encode(\"День и ночь\", return_tensors=\"pt\").to(DEVICE)\n",
        "out = model.generate(input_ids, do_sample=True, num_beams=2, temperature=0.75, max_length=40)\n",
        "generated_text = list(map(tokenizer.decode, out))[0]\n",
        "print(generated_text)"
      ],
      "metadata": {
        "colab": {
          "base_uri": "https://localhost:8080/"
        },
        "id": "Fjv1KpNQyFIj",
        "outputId": "bdb7e46e-f313-48dc-f4e1-f44619673d62"
      },
      "id": "Fjv1KpNQyFIj",
      "execution_count": 172,
      "outputs": [
        {
          "output_type": "stream",
          "name": "stderr",
          "text": [
            "Setting `pad_token_id` to `eos_token_id`:50256 for open-end generation.\n"
          ]
        },
        {
          "output_type": "stream",
          "name": "stdout",
          "text": [
            "День и ночь\n",
            " Cool-cool\n",
            " Cool-cool\n",
            " Cool-cool\n",
            " Cool-cool\n",
            " Cool-cool\n",
            " Cool-cool\n",
            "\n"
          ]
        }
      ]
    },
    {
      "cell_type": "markdown",
      "id": "ae8437e8",
      "metadata": {
        "id": "ae8437e8"
      },
      "source": [
        "### Задание  2 (2 балла)\n",
        "\n",
        "Ответьте на следующие вопросы:\n",
        "\n",
        "1) В каких статья были представлены GPT-1, GPT-2, GPT-3?\n",
        "\n",
        "GPT-1: [Improving Language Understanding by Generative Pre-Training](https://cdn.openai.com/research-covers/language-unsupervised/language_understanding_paper.pdf)\n",
        "<br>\n",
        "GPT-2: [Language Models are Unsupervised Multitask Learners](https://d4mucfpksywv.cloudfront.net/better-language-models/language_models_are_unsupervised_multitask_learners.pdf)\n",
        "<br>\n",
        "GPT-3: [Language Models are Few-Shot Learnerslink text](https://arxiv.org/pdf/2005.14165.pdf)\n",
        "<br><br>\n",
        "2) Как собирался обучающий корпус для GPT-3? Каким образом создатели старались обеспечить высокое качество текстов в обучающей выборке?\n",
        "\n",
        "В качестве обучающих данных для модели GPT-3 использовался отфильтрованный корпус [Common Crawl](https://commoncrawl.org/). Датасет содержит петабайты данных в виде необработанных веб-страниц, сканированных с 2008 года. Разработчики GPT-3 взяли данные за период 2016-2019 годы. Помимо корпуса Common Crawl, из которого состояло 60% обучающей выборки, были также использованы датасеты WebText2, Books1, Books2 и Wikipedia.\n",
        "<br><br>\n",
        "Проблема корпуса Common Crawl, с которой столкнулись разработчики GPT-3, заключалась разном уровне качества текстов. Авторы решили проблему, отфильтровав корпус с помощью следующих техник:\n",
        "1. Корпус CommonCrawl был пропущен через классификатор текстов по качеству. Чтобы обучить такой классификатор, в качестве позитивных примеров были взяты тексты из готовых отфильтрованных датасетов (Wikipedia, WebText, Books), в качестве отрицательных — неотфильтрованный датасет CommonCrawl.\n",
        "2. Чтобы исключить из корпуса избытночные данные и предотвратить переобучение, разработчики применили дедупликацию данных (как и внутри каждого документа, так и на уровне всего корпуса).\n",
        "3. Чтобы еще больше повысить разнообразие текстов, авторы расширили корпус CommonCrawl, добавив в обучающую выборку корпусы Wikipedia, WebText2 и Books.\n",
        "\n",
        "Размер CommonCrawl 2016-2019 до фильтрации: 45 TB\n",
        "<br>\n",
        "После фильтрации: 570GB"
      ]
    }
  ],
  "metadata": {
    "kernelspec": {
      "display_name": "Python 3 (ipykernel)",
      "language": "python",
      "name": "python3"
    },
    "language_info": {
      "codemirror_mode": {
        "name": "ipython",
        "version": 3
      },
      "file_extension": ".py",
      "mimetype": "text/x-python",
      "name": "python",
      "nbconvert_exporter": "python",
      "pygments_lexer": "ipython3",
      "version": "3.8.12"
    },
    "colab": {
      "name": "hw10_GPT_text_generation.ipynb",
      "provenance": []
    },
    "accelerator": "GPU",
    "widgets": {
      "application/vnd.jupyter.widget-state+json": {
        "25c0375408134c58972c55ecee984a51": {
          "model_module": "@jupyter-widgets/controls",
          "model_name": "HBoxModel",
          "model_module_version": "1.5.0",
          "state": {
            "_dom_classes": [],
            "_model_module": "@jupyter-widgets/controls",
            "_model_module_version": "1.5.0",
            "_model_name": "HBoxModel",
            "_view_count": null,
            "_view_module": "@jupyter-widgets/controls",
            "_view_module_version": "1.5.0",
            "_view_name": "HBoxView",
            "box_style": "",
            "children": [
              "IPY_MODEL_67911ae8c66d492b901c088fb4d08f30",
              "IPY_MODEL_42080a7858884fea8beb65d9ebb3e949",
              "IPY_MODEL_d1ac728a4c7e418289e643aeb0c3a4ec"
            ],
            "layout": "IPY_MODEL_9ad2e31526574d9b8d5d17cc1f19430d"
          }
        },
        "67911ae8c66d492b901c088fb4d08f30": {
          "model_module": "@jupyter-widgets/controls",
          "model_name": "HTMLModel",
          "model_module_version": "1.5.0",
          "state": {
            "_dom_classes": [],
            "_model_module": "@jupyter-widgets/controls",
            "_model_module_version": "1.5.0",
            "_model_name": "HTMLModel",
            "_view_count": null,
            "_view_module": "@jupyter-widgets/controls",
            "_view_module_version": "1.5.0",
            "_view_name": "HTMLView",
            "description": "",
            "description_tooltip": null,
            "layout": "IPY_MODEL_a454d17239104dbda8d93ef7cb422fe1",
            "placeholder": "​",
            "style": "IPY_MODEL_c6a8347711634988ad9bd8ef2d3c3cf9",
            "value": "Downloading: 100%"
          }
        },
        "42080a7858884fea8beb65d9ebb3e949": {
          "model_module": "@jupyter-widgets/controls",
          "model_name": "FloatProgressModel",
          "model_module_version": "1.5.0",
          "state": {
            "_dom_classes": [],
            "_model_module": "@jupyter-widgets/controls",
            "_model_module_version": "1.5.0",
            "_model_name": "FloatProgressModel",
            "_view_count": null,
            "_view_module": "@jupyter-widgets/controls",
            "_view_module_version": "1.5.0",
            "_view_name": "ProgressView",
            "bar_style": "success",
            "description": "",
            "description_tooltip": null,
            "layout": "IPY_MODEL_633355baf8b64a179e72da92388cf8d9",
            "max": 1713123,
            "min": 0,
            "orientation": "horizontal",
            "style": "IPY_MODEL_2def719d287a42f78d2c41634c2ca2b1",
            "value": 1713123
          }
        },
        "d1ac728a4c7e418289e643aeb0c3a4ec": {
          "model_module": "@jupyter-widgets/controls",
          "model_name": "HTMLModel",
          "model_module_version": "1.5.0",
          "state": {
            "_dom_classes": [],
            "_model_module": "@jupyter-widgets/controls",
            "_model_module_version": "1.5.0",
            "_model_name": "HTMLModel",
            "_view_count": null,
            "_view_module": "@jupyter-widgets/controls",
            "_view_module_version": "1.5.0",
            "_view_name": "HTMLView",
            "description": "",
            "description_tooltip": null,
            "layout": "IPY_MODEL_27756b74401b418f8fb06a05caab0934",
            "placeholder": "​",
            "style": "IPY_MODEL_78e007d9782b412eb8859d38fe649553",
            "value": " 1.63M/1.63M [00:00&lt;00:00, 1.55MB/s]"
          }
        },
        "9ad2e31526574d9b8d5d17cc1f19430d": {
          "model_module": "@jupyter-widgets/base",
          "model_name": "LayoutModel",
          "model_module_version": "1.2.0",
          "state": {
            "_model_module": "@jupyter-widgets/base",
            "_model_module_version": "1.2.0",
            "_model_name": "LayoutModel",
            "_view_count": null,
            "_view_module": "@jupyter-widgets/base",
            "_view_module_version": "1.2.0",
            "_view_name": "LayoutView",
            "align_content": null,
            "align_items": null,
            "align_self": null,
            "border": null,
            "bottom": null,
            "display": null,
            "flex": null,
            "flex_flow": null,
            "grid_area": null,
            "grid_auto_columns": null,
            "grid_auto_flow": null,
            "grid_auto_rows": null,
            "grid_column": null,
            "grid_gap": null,
            "grid_row": null,
            "grid_template_areas": null,
            "grid_template_columns": null,
            "grid_template_rows": null,
            "height": null,
            "justify_content": null,
            "justify_items": null,
            "left": null,
            "margin": null,
            "max_height": null,
            "max_width": null,
            "min_height": null,
            "min_width": null,
            "object_fit": null,
            "object_position": null,
            "order": null,
            "overflow": null,
            "overflow_x": null,
            "overflow_y": null,
            "padding": null,
            "right": null,
            "top": null,
            "visibility": null,
            "width": null
          }
        },
        "a454d17239104dbda8d93ef7cb422fe1": {
          "model_module": "@jupyter-widgets/base",
          "model_name": "LayoutModel",
          "model_module_version": "1.2.0",
          "state": {
            "_model_module": "@jupyter-widgets/base",
            "_model_module_version": "1.2.0",
            "_model_name": "LayoutModel",
            "_view_count": null,
            "_view_module": "@jupyter-widgets/base",
            "_view_module_version": "1.2.0",
            "_view_name": "LayoutView",
            "align_content": null,
            "align_items": null,
            "align_self": null,
            "border": null,
            "bottom": null,
            "display": null,
            "flex": null,
            "flex_flow": null,
            "grid_area": null,
            "grid_auto_columns": null,
            "grid_auto_flow": null,
            "grid_auto_rows": null,
            "grid_column": null,
            "grid_gap": null,
            "grid_row": null,
            "grid_template_areas": null,
            "grid_template_columns": null,
            "grid_template_rows": null,
            "height": null,
            "justify_content": null,
            "justify_items": null,
            "left": null,
            "margin": null,
            "max_height": null,
            "max_width": null,
            "min_height": null,
            "min_width": null,
            "object_fit": null,
            "object_position": null,
            "order": null,
            "overflow": null,
            "overflow_x": null,
            "overflow_y": null,
            "padding": null,
            "right": null,
            "top": null,
            "visibility": null,
            "width": null
          }
        },
        "c6a8347711634988ad9bd8ef2d3c3cf9": {
          "model_module": "@jupyter-widgets/controls",
          "model_name": "DescriptionStyleModel",
          "model_module_version": "1.5.0",
          "state": {
            "_model_module": "@jupyter-widgets/controls",
            "_model_module_version": "1.5.0",
            "_model_name": "DescriptionStyleModel",
            "_view_count": null,
            "_view_module": "@jupyter-widgets/base",
            "_view_module_version": "1.2.0",
            "_view_name": "StyleView",
            "description_width": ""
          }
        },
        "633355baf8b64a179e72da92388cf8d9": {
          "model_module": "@jupyter-widgets/base",
          "model_name": "LayoutModel",
          "model_module_version": "1.2.0",
          "state": {
            "_model_module": "@jupyter-widgets/base",
            "_model_module_version": "1.2.0",
            "_model_name": "LayoutModel",
            "_view_count": null,
            "_view_module": "@jupyter-widgets/base",
            "_view_module_version": "1.2.0",
            "_view_name": "LayoutView",
            "align_content": null,
            "align_items": null,
            "align_self": null,
            "border": null,
            "bottom": null,
            "display": null,
            "flex": null,
            "flex_flow": null,
            "grid_area": null,
            "grid_auto_columns": null,
            "grid_auto_flow": null,
            "grid_auto_rows": null,
            "grid_column": null,
            "grid_gap": null,
            "grid_row": null,
            "grid_template_areas": null,
            "grid_template_columns": null,
            "grid_template_rows": null,
            "height": null,
            "justify_content": null,
            "justify_items": null,
            "left": null,
            "margin": null,
            "max_height": null,
            "max_width": null,
            "min_height": null,
            "min_width": null,
            "object_fit": null,
            "object_position": null,
            "order": null,
            "overflow": null,
            "overflow_x": null,
            "overflow_y": null,
            "padding": null,
            "right": null,
            "top": null,
            "visibility": null,
            "width": null
          }
        },
        "2def719d287a42f78d2c41634c2ca2b1": {
          "model_module": "@jupyter-widgets/controls",
          "model_name": "ProgressStyleModel",
          "model_module_version": "1.5.0",
          "state": {
            "_model_module": "@jupyter-widgets/controls",
            "_model_module_version": "1.5.0",
            "_model_name": "ProgressStyleModel",
            "_view_count": null,
            "_view_module": "@jupyter-widgets/base",
            "_view_module_version": "1.2.0",
            "_view_name": "StyleView",
            "bar_color": null,
            "description_width": ""
          }
        },
        "27756b74401b418f8fb06a05caab0934": {
          "model_module": "@jupyter-widgets/base",
          "model_name": "LayoutModel",
          "model_module_version": "1.2.0",
          "state": {
            "_model_module": "@jupyter-widgets/base",
            "_model_module_version": "1.2.0",
            "_model_name": "LayoutModel",
            "_view_count": null,
            "_view_module": "@jupyter-widgets/base",
            "_view_module_version": "1.2.0",
            "_view_name": "LayoutView",
            "align_content": null,
            "align_items": null,
            "align_self": null,
            "border": null,
            "bottom": null,
            "display": null,
            "flex": null,
            "flex_flow": null,
            "grid_area": null,
            "grid_auto_columns": null,
            "grid_auto_flow": null,
            "grid_auto_rows": null,
            "grid_column": null,
            "grid_gap": null,
            "grid_row": null,
            "grid_template_areas": null,
            "grid_template_columns": null,
            "grid_template_rows": null,
            "height": null,
            "justify_content": null,
            "justify_items": null,
            "left": null,
            "margin": null,
            "max_height": null,
            "max_width": null,
            "min_height": null,
            "min_width": null,
            "object_fit": null,
            "object_position": null,
            "order": null,
            "overflow": null,
            "overflow_x": null,
            "overflow_y": null,
            "padding": null,
            "right": null,
            "top": null,
            "visibility": null,
            "width": null
          }
        },
        "78e007d9782b412eb8859d38fe649553": {
          "model_module": "@jupyter-widgets/controls",
          "model_name": "DescriptionStyleModel",
          "model_module_version": "1.5.0",
          "state": {
            "_model_module": "@jupyter-widgets/controls",
            "_model_module_version": "1.5.0",
            "_model_name": "DescriptionStyleModel",
            "_view_count": null,
            "_view_module": "@jupyter-widgets/base",
            "_view_module_version": "1.2.0",
            "_view_name": "StyleView",
            "description_width": ""
          }
        },
        "5b7edd368e7340b59d3112bb1fb9a2a4": {
          "model_module": "@jupyter-widgets/controls",
          "model_name": "HBoxModel",
          "model_module_version": "1.5.0",
          "state": {
            "_dom_classes": [],
            "_model_module": "@jupyter-widgets/controls",
            "_model_module_version": "1.5.0",
            "_model_name": "HBoxModel",
            "_view_count": null,
            "_view_module": "@jupyter-widgets/controls",
            "_view_module_version": "1.5.0",
            "_view_name": "HBoxView",
            "box_style": "",
            "children": [
              "IPY_MODEL_b92bae8aadf845e2beb5abbe077af079",
              "IPY_MODEL_6aa5c88214c14d23af667d294d0187d7",
              "IPY_MODEL_0ab4ef0e8aff48a89ef0671acdeb801a"
            ],
            "layout": "IPY_MODEL_bdc235e54877428c9d50f6649941dfae"
          }
        },
        "b92bae8aadf845e2beb5abbe077af079": {
          "model_module": "@jupyter-widgets/controls",
          "model_name": "HTMLModel",
          "model_module_version": "1.5.0",
          "state": {
            "_dom_classes": [],
            "_model_module": "@jupyter-widgets/controls",
            "_model_module_version": "1.5.0",
            "_model_name": "HTMLModel",
            "_view_count": null,
            "_view_module": "@jupyter-widgets/controls",
            "_view_module_version": "1.5.0",
            "_view_name": "HTMLView",
            "description": "",
            "description_tooltip": null,
            "layout": "IPY_MODEL_5a517616de974ab3886338eca22a13fc",
            "placeholder": "​",
            "style": "IPY_MODEL_fb22e92ca0d743bdba47d42564bab46b",
            "value": "Downloading: 100%"
          }
        },
        "6aa5c88214c14d23af667d294d0187d7": {
          "model_module": "@jupyter-widgets/controls",
          "model_name": "FloatProgressModel",
          "model_module_version": "1.5.0",
          "state": {
            "_dom_classes": [],
            "_model_module": "@jupyter-widgets/controls",
            "_model_module_version": "1.5.0",
            "_model_name": "FloatProgressModel",
            "_view_count": null,
            "_view_module": "@jupyter-widgets/controls",
            "_view_module_version": "1.5.0",
            "_view_name": "ProgressView",
            "bar_style": "success",
            "description": "",
            "description_tooltip": null,
            "layout": "IPY_MODEL_988a529d28b5451ca9357f3356335727",
            "max": 1270925,
            "min": 0,
            "orientation": "horizontal",
            "style": "IPY_MODEL_1f3ca63faf6b4c7da9a95e9f628c554b",
            "value": 1270925
          }
        },
        "0ab4ef0e8aff48a89ef0671acdeb801a": {
          "model_module": "@jupyter-widgets/controls",
          "model_name": "HTMLModel",
          "model_module_version": "1.5.0",
          "state": {
            "_dom_classes": [],
            "_model_module": "@jupyter-widgets/controls",
            "_model_module_version": "1.5.0",
            "_model_name": "HTMLModel",
            "_view_count": null,
            "_view_module": "@jupyter-widgets/controls",
            "_view_module_version": "1.5.0",
            "_view_name": "HTMLView",
            "description": "",
            "description_tooltip": null,
            "layout": "IPY_MODEL_fc307dbc9abc402e94e270c0f5d4e182",
            "placeholder": "​",
            "style": "IPY_MODEL_f0eafccf379f47318d70e91e30452e3a",
            "value": " 1.21M/1.21M [00:00&lt;00:00, 1.03MB/s]"
          }
        },
        "bdc235e54877428c9d50f6649941dfae": {
          "model_module": "@jupyter-widgets/base",
          "model_name": "LayoutModel",
          "model_module_version": "1.2.0",
          "state": {
            "_model_module": "@jupyter-widgets/base",
            "_model_module_version": "1.2.0",
            "_model_name": "LayoutModel",
            "_view_count": null,
            "_view_module": "@jupyter-widgets/base",
            "_view_module_version": "1.2.0",
            "_view_name": "LayoutView",
            "align_content": null,
            "align_items": null,
            "align_self": null,
            "border": null,
            "bottom": null,
            "display": null,
            "flex": null,
            "flex_flow": null,
            "grid_area": null,
            "grid_auto_columns": null,
            "grid_auto_flow": null,
            "grid_auto_rows": null,
            "grid_column": null,
            "grid_gap": null,
            "grid_row": null,
            "grid_template_areas": null,
            "grid_template_columns": null,
            "grid_template_rows": null,
            "height": null,
            "justify_content": null,
            "justify_items": null,
            "left": null,
            "margin": null,
            "max_height": null,
            "max_width": null,
            "min_height": null,
            "min_width": null,
            "object_fit": null,
            "object_position": null,
            "order": null,
            "overflow": null,
            "overflow_x": null,
            "overflow_y": null,
            "padding": null,
            "right": null,
            "top": null,
            "visibility": null,
            "width": null
          }
        },
        "5a517616de974ab3886338eca22a13fc": {
          "model_module": "@jupyter-widgets/base",
          "model_name": "LayoutModel",
          "model_module_version": "1.2.0",
          "state": {
            "_model_module": "@jupyter-widgets/base",
            "_model_module_version": "1.2.0",
            "_model_name": "LayoutModel",
            "_view_count": null,
            "_view_module": "@jupyter-widgets/base",
            "_view_module_version": "1.2.0",
            "_view_name": "LayoutView",
            "align_content": null,
            "align_items": null,
            "align_self": null,
            "border": null,
            "bottom": null,
            "display": null,
            "flex": null,
            "flex_flow": null,
            "grid_area": null,
            "grid_auto_columns": null,
            "grid_auto_flow": null,
            "grid_auto_rows": null,
            "grid_column": null,
            "grid_gap": null,
            "grid_row": null,
            "grid_template_areas": null,
            "grid_template_columns": null,
            "grid_template_rows": null,
            "height": null,
            "justify_content": null,
            "justify_items": null,
            "left": null,
            "margin": null,
            "max_height": null,
            "max_width": null,
            "min_height": null,
            "min_width": null,
            "object_fit": null,
            "object_position": null,
            "order": null,
            "overflow": null,
            "overflow_x": null,
            "overflow_y": null,
            "padding": null,
            "right": null,
            "top": null,
            "visibility": null,
            "width": null
          }
        },
        "fb22e92ca0d743bdba47d42564bab46b": {
          "model_module": "@jupyter-widgets/controls",
          "model_name": "DescriptionStyleModel",
          "model_module_version": "1.5.0",
          "state": {
            "_model_module": "@jupyter-widgets/controls",
            "_model_module_version": "1.5.0",
            "_model_name": "DescriptionStyleModel",
            "_view_count": null,
            "_view_module": "@jupyter-widgets/base",
            "_view_module_version": "1.2.0",
            "_view_name": "StyleView",
            "description_width": ""
          }
        },
        "988a529d28b5451ca9357f3356335727": {
          "model_module": "@jupyter-widgets/base",
          "model_name": "LayoutModel",
          "model_module_version": "1.2.0",
          "state": {
            "_model_module": "@jupyter-widgets/base",
            "_model_module_version": "1.2.0",
            "_model_name": "LayoutModel",
            "_view_count": null,
            "_view_module": "@jupyter-widgets/base",
            "_view_module_version": "1.2.0",
            "_view_name": "LayoutView",
            "align_content": null,
            "align_items": null,
            "align_self": null,
            "border": null,
            "bottom": null,
            "display": null,
            "flex": null,
            "flex_flow": null,
            "grid_area": null,
            "grid_auto_columns": null,
            "grid_auto_flow": null,
            "grid_auto_rows": null,
            "grid_column": null,
            "grid_gap": null,
            "grid_row": null,
            "grid_template_areas": null,
            "grid_template_columns": null,
            "grid_template_rows": null,
            "height": null,
            "justify_content": null,
            "justify_items": null,
            "left": null,
            "margin": null,
            "max_height": null,
            "max_width": null,
            "min_height": null,
            "min_width": null,
            "object_fit": null,
            "object_position": null,
            "order": null,
            "overflow": null,
            "overflow_x": null,
            "overflow_y": null,
            "padding": null,
            "right": null,
            "top": null,
            "visibility": null,
            "width": null
          }
        },
        "1f3ca63faf6b4c7da9a95e9f628c554b": {
          "model_module": "@jupyter-widgets/controls",
          "model_name": "ProgressStyleModel",
          "model_module_version": "1.5.0",
          "state": {
            "_model_module": "@jupyter-widgets/controls",
            "_model_module_version": "1.5.0",
            "_model_name": "ProgressStyleModel",
            "_view_count": null,
            "_view_module": "@jupyter-widgets/base",
            "_view_module_version": "1.2.0",
            "_view_name": "StyleView",
            "bar_color": null,
            "description_width": ""
          }
        },
        "fc307dbc9abc402e94e270c0f5d4e182": {
          "model_module": "@jupyter-widgets/base",
          "model_name": "LayoutModel",
          "model_module_version": "1.2.0",
          "state": {
            "_model_module": "@jupyter-widgets/base",
            "_model_module_version": "1.2.0",
            "_model_name": "LayoutModel",
            "_view_count": null,
            "_view_module": "@jupyter-widgets/base",
            "_view_module_version": "1.2.0",
            "_view_name": "LayoutView",
            "align_content": null,
            "align_items": null,
            "align_self": null,
            "border": null,
            "bottom": null,
            "display": null,
            "flex": null,
            "flex_flow": null,
            "grid_area": null,
            "grid_auto_columns": null,
            "grid_auto_flow": null,
            "grid_auto_rows": null,
            "grid_column": null,
            "grid_gap": null,
            "grid_row": null,
            "grid_template_areas": null,
            "grid_template_columns": null,
            "grid_template_rows": null,
            "height": null,
            "justify_content": null,
            "justify_items": null,
            "left": null,
            "margin": null,
            "max_height": null,
            "max_width": null,
            "min_height": null,
            "min_width": null,
            "object_fit": null,
            "object_position": null,
            "order": null,
            "overflow": null,
            "overflow_x": null,
            "overflow_y": null,
            "padding": null,
            "right": null,
            "top": null,
            "visibility": null,
            "width": null
          }
        },
        "f0eafccf379f47318d70e91e30452e3a": {
          "model_module": "@jupyter-widgets/controls",
          "model_name": "DescriptionStyleModel",
          "model_module_version": "1.5.0",
          "state": {
            "_model_module": "@jupyter-widgets/controls",
            "_model_module_version": "1.5.0",
            "_model_name": "DescriptionStyleModel",
            "_view_count": null,
            "_view_module": "@jupyter-widgets/base",
            "_view_module_version": "1.2.0",
            "_view_name": "StyleView",
            "description_width": ""
          }
        },
        "c02e7aa47881484ca9971121c8dac46f": {
          "model_module": "@jupyter-widgets/controls",
          "model_name": "HBoxModel",
          "model_module_version": "1.5.0",
          "state": {
            "_dom_classes": [],
            "_model_module": "@jupyter-widgets/controls",
            "_model_module_version": "1.5.0",
            "_model_name": "HBoxModel",
            "_view_count": null,
            "_view_module": "@jupyter-widgets/controls",
            "_view_module_version": "1.5.0",
            "_view_name": "HBoxView",
            "box_style": "",
            "children": [
              "IPY_MODEL_e08d1d58127d467984bf039a92d32267",
              "IPY_MODEL_50374cc838bf41218742cf0b64435d92",
              "IPY_MODEL_810dc7ccd42a4976a939930b94cea984"
            ],
            "layout": "IPY_MODEL_0a3c1d45de9b4e5783bc5c4a848e4160"
          }
        },
        "e08d1d58127d467984bf039a92d32267": {
          "model_module": "@jupyter-widgets/controls",
          "model_name": "HTMLModel",
          "model_module_version": "1.5.0",
          "state": {
            "_dom_classes": [],
            "_model_module": "@jupyter-widgets/controls",
            "_model_module_version": "1.5.0",
            "_model_name": "HTMLModel",
            "_view_count": null,
            "_view_module": "@jupyter-widgets/controls",
            "_view_module_version": "1.5.0",
            "_view_name": "HTMLView",
            "description": "",
            "description_tooltip": null,
            "layout": "IPY_MODEL_231b5ba821754bfe9048eb76a461ec6c",
            "placeholder": "​",
            "style": "IPY_MODEL_bffcb7267b7f4e9a984d28adb7e3284c",
            "value": "Downloading: 100%"
          }
        },
        "50374cc838bf41218742cf0b64435d92": {
          "model_module": "@jupyter-widgets/controls",
          "model_name": "FloatProgressModel",
          "model_module_version": "1.5.0",
          "state": {
            "_dom_classes": [],
            "_model_module": "@jupyter-widgets/controls",
            "_model_module_version": "1.5.0",
            "_model_name": "FloatProgressModel",
            "_view_count": null,
            "_view_module": "@jupyter-widgets/controls",
            "_view_module_version": "1.5.0",
            "_view_name": "ProgressView",
            "bar_style": "success",
            "description": "",
            "description_tooltip": null,
            "layout": "IPY_MODEL_e55c9f798ed94a92b7e049ac921ffb7e",
            "max": 608,
            "min": 0,
            "orientation": "horizontal",
            "style": "IPY_MODEL_bce616a830ea4f3e9e04a9b4a61f068b",
            "value": 608
          }
        },
        "810dc7ccd42a4976a939930b94cea984": {
          "model_module": "@jupyter-widgets/controls",
          "model_name": "HTMLModel",
          "model_module_version": "1.5.0",
          "state": {
            "_dom_classes": [],
            "_model_module": "@jupyter-widgets/controls",
            "_model_module_version": "1.5.0",
            "_model_name": "HTMLModel",
            "_view_count": null,
            "_view_module": "@jupyter-widgets/controls",
            "_view_module_version": "1.5.0",
            "_view_name": "HTMLView",
            "description": "",
            "description_tooltip": null,
            "layout": "IPY_MODEL_15f87fb5960549d3b3ed46a15da825ba",
            "placeholder": "​",
            "style": "IPY_MODEL_c24069c5e887401ea1531f51187ab881",
            "value": " 608/608 [00:00&lt;00:00, 20.5kB/s]"
          }
        },
        "0a3c1d45de9b4e5783bc5c4a848e4160": {
          "model_module": "@jupyter-widgets/base",
          "model_name": "LayoutModel",
          "model_module_version": "1.2.0",
          "state": {
            "_model_module": "@jupyter-widgets/base",
            "_model_module_version": "1.2.0",
            "_model_name": "LayoutModel",
            "_view_count": null,
            "_view_module": "@jupyter-widgets/base",
            "_view_module_version": "1.2.0",
            "_view_name": "LayoutView",
            "align_content": null,
            "align_items": null,
            "align_self": null,
            "border": null,
            "bottom": null,
            "display": null,
            "flex": null,
            "flex_flow": null,
            "grid_area": null,
            "grid_auto_columns": null,
            "grid_auto_flow": null,
            "grid_auto_rows": null,
            "grid_column": null,
            "grid_gap": null,
            "grid_row": null,
            "grid_template_areas": null,
            "grid_template_columns": null,
            "grid_template_rows": null,
            "height": null,
            "justify_content": null,
            "justify_items": null,
            "left": null,
            "margin": null,
            "max_height": null,
            "max_width": null,
            "min_height": null,
            "min_width": null,
            "object_fit": null,
            "object_position": null,
            "order": null,
            "overflow": null,
            "overflow_x": null,
            "overflow_y": null,
            "padding": null,
            "right": null,
            "top": null,
            "visibility": null,
            "width": null
          }
        },
        "231b5ba821754bfe9048eb76a461ec6c": {
          "model_module": "@jupyter-widgets/base",
          "model_name": "LayoutModel",
          "model_module_version": "1.2.0",
          "state": {
            "_model_module": "@jupyter-widgets/base",
            "_model_module_version": "1.2.0",
            "_model_name": "LayoutModel",
            "_view_count": null,
            "_view_module": "@jupyter-widgets/base",
            "_view_module_version": "1.2.0",
            "_view_name": "LayoutView",
            "align_content": null,
            "align_items": null,
            "align_self": null,
            "border": null,
            "bottom": null,
            "display": null,
            "flex": null,
            "flex_flow": null,
            "grid_area": null,
            "grid_auto_columns": null,
            "grid_auto_flow": null,
            "grid_auto_rows": null,
            "grid_column": null,
            "grid_gap": null,
            "grid_row": null,
            "grid_template_areas": null,
            "grid_template_columns": null,
            "grid_template_rows": null,
            "height": null,
            "justify_content": null,
            "justify_items": null,
            "left": null,
            "margin": null,
            "max_height": null,
            "max_width": null,
            "min_height": null,
            "min_width": null,
            "object_fit": null,
            "object_position": null,
            "order": null,
            "overflow": null,
            "overflow_x": null,
            "overflow_y": null,
            "padding": null,
            "right": null,
            "top": null,
            "visibility": null,
            "width": null
          }
        },
        "bffcb7267b7f4e9a984d28adb7e3284c": {
          "model_module": "@jupyter-widgets/controls",
          "model_name": "DescriptionStyleModel",
          "model_module_version": "1.5.0",
          "state": {
            "_model_module": "@jupyter-widgets/controls",
            "_model_module_version": "1.5.0",
            "_model_name": "DescriptionStyleModel",
            "_view_count": null,
            "_view_module": "@jupyter-widgets/base",
            "_view_module_version": "1.2.0",
            "_view_name": "StyleView",
            "description_width": ""
          }
        },
        "e55c9f798ed94a92b7e049ac921ffb7e": {
          "model_module": "@jupyter-widgets/base",
          "model_name": "LayoutModel",
          "model_module_version": "1.2.0",
          "state": {
            "_model_module": "@jupyter-widgets/base",
            "_model_module_version": "1.2.0",
            "_model_name": "LayoutModel",
            "_view_count": null,
            "_view_module": "@jupyter-widgets/base",
            "_view_module_version": "1.2.0",
            "_view_name": "LayoutView",
            "align_content": null,
            "align_items": null,
            "align_self": null,
            "border": null,
            "bottom": null,
            "display": null,
            "flex": null,
            "flex_flow": null,
            "grid_area": null,
            "grid_auto_columns": null,
            "grid_auto_flow": null,
            "grid_auto_rows": null,
            "grid_column": null,
            "grid_gap": null,
            "grid_row": null,
            "grid_template_areas": null,
            "grid_template_columns": null,
            "grid_template_rows": null,
            "height": null,
            "justify_content": null,
            "justify_items": null,
            "left": null,
            "margin": null,
            "max_height": null,
            "max_width": null,
            "min_height": null,
            "min_width": null,
            "object_fit": null,
            "object_position": null,
            "order": null,
            "overflow": null,
            "overflow_x": null,
            "overflow_y": null,
            "padding": null,
            "right": null,
            "top": null,
            "visibility": null,
            "width": null
          }
        },
        "bce616a830ea4f3e9e04a9b4a61f068b": {
          "model_module": "@jupyter-widgets/controls",
          "model_name": "ProgressStyleModel",
          "model_module_version": "1.5.0",
          "state": {
            "_model_module": "@jupyter-widgets/controls",
            "_model_module_version": "1.5.0",
            "_model_name": "ProgressStyleModel",
            "_view_count": null,
            "_view_module": "@jupyter-widgets/base",
            "_view_module_version": "1.2.0",
            "_view_name": "StyleView",
            "bar_color": null,
            "description_width": ""
          }
        },
        "15f87fb5960549d3b3ed46a15da825ba": {
          "model_module": "@jupyter-widgets/base",
          "model_name": "LayoutModel",
          "model_module_version": "1.2.0",
          "state": {
            "_model_module": "@jupyter-widgets/base",
            "_model_module_version": "1.2.0",
            "_model_name": "LayoutModel",
            "_view_count": null,
            "_view_module": "@jupyter-widgets/base",
            "_view_module_version": "1.2.0",
            "_view_name": "LayoutView",
            "align_content": null,
            "align_items": null,
            "align_self": null,
            "border": null,
            "bottom": null,
            "display": null,
            "flex": null,
            "flex_flow": null,
            "grid_area": null,
            "grid_auto_columns": null,
            "grid_auto_flow": null,
            "grid_auto_rows": null,
            "grid_column": null,
            "grid_gap": null,
            "grid_row": null,
            "grid_template_areas": null,
            "grid_template_columns": null,
            "grid_template_rows": null,
            "height": null,
            "justify_content": null,
            "justify_items": null,
            "left": null,
            "margin": null,
            "max_height": null,
            "max_width": null,
            "min_height": null,
            "min_width": null,
            "object_fit": null,
            "object_position": null,
            "order": null,
            "overflow": null,
            "overflow_x": null,
            "overflow_y": null,
            "padding": null,
            "right": null,
            "top": null,
            "visibility": null,
            "width": null
          }
        },
        "c24069c5e887401ea1531f51187ab881": {
          "model_module": "@jupyter-widgets/controls",
          "model_name": "DescriptionStyleModel",
          "model_module_version": "1.5.0",
          "state": {
            "_model_module": "@jupyter-widgets/controls",
            "_model_module_version": "1.5.0",
            "_model_name": "DescriptionStyleModel",
            "_view_count": null,
            "_view_module": "@jupyter-widgets/base",
            "_view_module_version": "1.2.0",
            "_view_name": "StyleView",
            "description_width": ""
          }
        },
        "07733cdbb8384123bb1dce0ab860264b": {
          "model_module": "@jupyter-widgets/controls",
          "model_name": "HBoxModel",
          "model_module_version": "1.5.0",
          "state": {
            "_dom_classes": [],
            "_model_module": "@jupyter-widgets/controls",
            "_model_module_version": "1.5.0",
            "_model_name": "HBoxModel",
            "_view_count": null,
            "_view_module": "@jupyter-widgets/controls",
            "_view_module_version": "1.5.0",
            "_view_name": "HBoxView",
            "box_style": "",
            "children": [
              "IPY_MODEL_574e5f94183c43ff92395600e2de1995",
              "IPY_MODEL_10d238e7397146f380c42b4dd8d9a402",
              "IPY_MODEL_90a5ca55fb634c3b99930a6c28fbc8b5"
            ],
            "layout": "IPY_MODEL_98176a50c3f2493782d4ffa3260f0170"
          }
        },
        "574e5f94183c43ff92395600e2de1995": {
          "model_module": "@jupyter-widgets/controls",
          "model_name": "HTMLModel",
          "model_module_version": "1.5.0",
          "state": {
            "_dom_classes": [],
            "_model_module": "@jupyter-widgets/controls",
            "_model_module_version": "1.5.0",
            "_model_name": "HTMLModel",
            "_view_count": null,
            "_view_module": "@jupyter-widgets/controls",
            "_view_module_version": "1.5.0",
            "_view_name": "HTMLView",
            "description": "",
            "description_tooltip": null,
            "layout": "IPY_MODEL_ad848099051b4eb7ac6432ebc0af07b6",
            "placeholder": "​",
            "style": "IPY_MODEL_1c5b829f62bf477bbb2b8542f6b3d086",
            "value": "Downloading: 100%"
          }
        },
        "10d238e7397146f380c42b4dd8d9a402": {
          "model_module": "@jupyter-widgets/controls",
          "model_name": "FloatProgressModel",
          "model_module_version": "1.5.0",
          "state": {
            "_dom_classes": [],
            "_model_module": "@jupyter-widgets/controls",
            "_model_module_version": "1.5.0",
            "_model_name": "FloatProgressModel",
            "_view_count": null,
            "_view_module": "@jupyter-widgets/controls",
            "_view_module_version": "1.5.0",
            "_view_name": "ProgressView",
            "bar_style": "success",
            "description": "",
            "description_tooltip": null,
            "layout": "IPY_MODEL_4c3dd2177f6740c1aa5ffd473016991e",
            "max": 551290714,
            "min": 0,
            "orientation": "horizontal",
            "style": "IPY_MODEL_4b15f5985dda46419ee3569cfd3b6e6a",
            "value": 551290714
          }
        },
        "90a5ca55fb634c3b99930a6c28fbc8b5": {
          "model_module": "@jupyter-widgets/controls",
          "model_name": "HTMLModel",
          "model_module_version": "1.5.0",
          "state": {
            "_dom_classes": [],
            "_model_module": "@jupyter-widgets/controls",
            "_model_module_version": "1.5.0",
            "_model_name": "HTMLModel",
            "_view_count": null,
            "_view_module": "@jupyter-widgets/controls",
            "_view_module_version": "1.5.0",
            "_view_name": "HTMLView",
            "description": "",
            "description_tooltip": null,
            "layout": "IPY_MODEL_35a3e14b78cb4452a7cda661357a0bee",
            "placeholder": "​",
            "style": "IPY_MODEL_4364118f545742faa3fc4592652d741a",
            "value": " 526M/526M [00:09&lt;00:00, 52.2MB/s]"
          }
        },
        "98176a50c3f2493782d4ffa3260f0170": {
          "model_module": "@jupyter-widgets/base",
          "model_name": "LayoutModel",
          "model_module_version": "1.2.0",
          "state": {
            "_model_module": "@jupyter-widgets/base",
            "_model_module_version": "1.2.0",
            "_model_name": "LayoutModel",
            "_view_count": null,
            "_view_module": "@jupyter-widgets/base",
            "_view_module_version": "1.2.0",
            "_view_name": "LayoutView",
            "align_content": null,
            "align_items": null,
            "align_self": null,
            "border": null,
            "bottom": null,
            "display": null,
            "flex": null,
            "flex_flow": null,
            "grid_area": null,
            "grid_auto_columns": null,
            "grid_auto_flow": null,
            "grid_auto_rows": null,
            "grid_column": null,
            "grid_gap": null,
            "grid_row": null,
            "grid_template_areas": null,
            "grid_template_columns": null,
            "grid_template_rows": null,
            "height": null,
            "justify_content": null,
            "justify_items": null,
            "left": null,
            "margin": null,
            "max_height": null,
            "max_width": null,
            "min_height": null,
            "min_width": null,
            "object_fit": null,
            "object_position": null,
            "order": null,
            "overflow": null,
            "overflow_x": null,
            "overflow_y": null,
            "padding": null,
            "right": null,
            "top": null,
            "visibility": null,
            "width": null
          }
        },
        "ad848099051b4eb7ac6432ebc0af07b6": {
          "model_module": "@jupyter-widgets/base",
          "model_name": "LayoutModel",
          "model_module_version": "1.2.0",
          "state": {
            "_model_module": "@jupyter-widgets/base",
            "_model_module_version": "1.2.0",
            "_model_name": "LayoutModel",
            "_view_count": null,
            "_view_module": "@jupyter-widgets/base",
            "_view_module_version": "1.2.0",
            "_view_name": "LayoutView",
            "align_content": null,
            "align_items": null,
            "align_self": null,
            "border": null,
            "bottom": null,
            "display": null,
            "flex": null,
            "flex_flow": null,
            "grid_area": null,
            "grid_auto_columns": null,
            "grid_auto_flow": null,
            "grid_auto_rows": null,
            "grid_column": null,
            "grid_gap": null,
            "grid_row": null,
            "grid_template_areas": null,
            "grid_template_columns": null,
            "grid_template_rows": null,
            "height": null,
            "justify_content": null,
            "justify_items": null,
            "left": null,
            "margin": null,
            "max_height": null,
            "max_width": null,
            "min_height": null,
            "min_width": null,
            "object_fit": null,
            "object_position": null,
            "order": null,
            "overflow": null,
            "overflow_x": null,
            "overflow_y": null,
            "padding": null,
            "right": null,
            "top": null,
            "visibility": null,
            "width": null
          }
        },
        "1c5b829f62bf477bbb2b8542f6b3d086": {
          "model_module": "@jupyter-widgets/controls",
          "model_name": "DescriptionStyleModel",
          "model_module_version": "1.5.0",
          "state": {
            "_model_module": "@jupyter-widgets/controls",
            "_model_module_version": "1.5.0",
            "_model_name": "DescriptionStyleModel",
            "_view_count": null,
            "_view_module": "@jupyter-widgets/base",
            "_view_module_version": "1.2.0",
            "_view_name": "StyleView",
            "description_width": ""
          }
        },
        "4c3dd2177f6740c1aa5ffd473016991e": {
          "model_module": "@jupyter-widgets/base",
          "model_name": "LayoutModel",
          "model_module_version": "1.2.0",
          "state": {
            "_model_module": "@jupyter-widgets/base",
            "_model_module_version": "1.2.0",
            "_model_name": "LayoutModel",
            "_view_count": null,
            "_view_module": "@jupyter-widgets/base",
            "_view_module_version": "1.2.0",
            "_view_name": "LayoutView",
            "align_content": null,
            "align_items": null,
            "align_self": null,
            "border": null,
            "bottom": null,
            "display": null,
            "flex": null,
            "flex_flow": null,
            "grid_area": null,
            "grid_auto_columns": null,
            "grid_auto_flow": null,
            "grid_auto_rows": null,
            "grid_column": null,
            "grid_gap": null,
            "grid_row": null,
            "grid_template_areas": null,
            "grid_template_columns": null,
            "grid_template_rows": null,
            "height": null,
            "justify_content": null,
            "justify_items": null,
            "left": null,
            "margin": null,
            "max_height": null,
            "max_width": null,
            "min_height": null,
            "min_width": null,
            "object_fit": null,
            "object_position": null,
            "order": null,
            "overflow": null,
            "overflow_x": null,
            "overflow_y": null,
            "padding": null,
            "right": null,
            "top": null,
            "visibility": null,
            "width": null
          }
        },
        "4b15f5985dda46419ee3569cfd3b6e6a": {
          "model_module": "@jupyter-widgets/controls",
          "model_name": "ProgressStyleModel",
          "model_module_version": "1.5.0",
          "state": {
            "_model_module": "@jupyter-widgets/controls",
            "_model_module_version": "1.5.0",
            "_model_name": "ProgressStyleModel",
            "_view_count": null,
            "_view_module": "@jupyter-widgets/base",
            "_view_module_version": "1.2.0",
            "_view_name": "StyleView",
            "bar_color": null,
            "description_width": ""
          }
        },
        "35a3e14b78cb4452a7cda661357a0bee": {
          "model_module": "@jupyter-widgets/base",
          "model_name": "LayoutModel",
          "model_module_version": "1.2.0",
          "state": {
            "_model_module": "@jupyter-widgets/base",
            "_model_module_version": "1.2.0",
            "_model_name": "LayoutModel",
            "_view_count": null,
            "_view_module": "@jupyter-widgets/base",
            "_view_module_version": "1.2.0",
            "_view_name": "LayoutView",
            "align_content": null,
            "align_items": null,
            "align_self": null,
            "border": null,
            "bottom": null,
            "display": null,
            "flex": null,
            "flex_flow": null,
            "grid_area": null,
            "grid_auto_columns": null,
            "grid_auto_flow": null,
            "grid_auto_rows": null,
            "grid_column": null,
            "grid_gap": null,
            "grid_row": null,
            "grid_template_areas": null,
            "grid_template_columns": null,
            "grid_template_rows": null,
            "height": null,
            "justify_content": null,
            "justify_items": null,
            "left": null,
            "margin": null,
            "max_height": null,
            "max_width": null,
            "min_height": null,
            "min_width": null,
            "object_fit": null,
            "object_position": null,
            "order": null,
            "overflow": null,
            "overflow_x": null,
            "overflow_y": null,
            "padding": null,
            "right": null,
            "top": null,
            "visibility": null,
            "width": null
          }
        },
        "4364118f545742faa3fc4592652d741a": {
          "model_module": "@jupyter-widgets/controls",
          "model_name": "DescriptionStyleModel",
          "model_module_version": "1.5.0",
          "state": {
            "_model_module": "@jupyter-widgets/controls",
            "_model_module_version": "1.5.0",
            "_model_name": "DescriptionStyleModel",
            "_view_count": null,
            "_view_module": "@jupyter-widgets/base",
            "_view_module_version": "1.2.0",
            "_view_name": "StyleView",
            "description_width": ""
          }
        }
      }
    }
  },
  "nbformat": 4,
  "nbformat_minor": 5
}