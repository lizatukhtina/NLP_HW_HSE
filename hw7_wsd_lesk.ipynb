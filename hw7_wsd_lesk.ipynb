{
  "cells": [
    {
      "cell_type": "markdown",
      "metadata": {
        "id": "CRo-uej3zX2W"
      },
      "source": [
        "# Домашнее задание № 7"
      ],
      "id": "CRo-uej3zX2W"
    },
    {
      "cell_type": "markdown",
      "metadata": {
        "id": "2OiXMNwpzX2i"
      },
      "source": [
        "### Задание 1 Реализовать алгоритм Леска и проверить его на реальном датасете (8 баллов)"
      ],
      "id": "2OiXMNwpzX2i"
    },
    {
      "cell_type": "markdown",
      "metadata": {
        "id": "gMYJdyKfzX2i"
      },
      "source": [
        "Ворднет можно использовать для дизамбигуации. Самый простой алгоритм дизамбигуации - алгоритм Леска. В нём нужное значение слова находится через пересечение слов контекста, в котором употреблено это слово, с определениями значений слова из ворднета. Значение с максимальным пересечением - нужное."
      ],
      "id": "gMYJdyKfzX2i"
    },
    {
      "cell_type": "code",
      "source": [
        "import numpy as np\n",
        "\n",
        "import nltk\n",
        "nltk.download('punkt')\n",
        "nltk.download('wordnet')\n",
        "\n",
        "from nltk.stem import WordNetLemmatizer\n",
        "from nltk.tokenize import word_tokenize  \n",
        "from string import punctuation\n",
        "\n",
        "from nltk.corpus import wordnet as wn"
      ],
      "metadata": {
        "id": "in0xoI614f8u"
      },
      "id": "in0xoI614f8u",
      "execution_count": null,
      "outputs": []
    },
    {
      "cell_type": "markdown",
      "source": [
        "### Реализация алгоритма Леска "
      ],
      "metadata": {
        "id": "v7U53YKhkkuH"
      },
      "id": "v7U53YKhkkuH"
    },
    {
      "cell_type": "code",
      "source": [
        "wordnet_lemmatizer = WordNetLemmatizer()\n",
        "\n",
        "def normalize(text):\n",
        "  tokens = word_tokenize(text)\n",
        "  tokens = [wordnet_lemmatizer.lemmatize(t) for t in tokens if t not in punctuation]   \n",
        "\n",
        "  return tokens"
      ],
      "metadata": {
        "id": "ZYePhwcPTJ-8"
      },
      "id": "ZYePhwcPTJ-8",
      "execution_count": 75,
      "outputs": []
    },
    {
      "cell_type": "code",
      "source": [
        "# в качестве контекста будем рассматривать не более 10-ти ближайших слов \n",
        "def get_words_in_context(word, sentence, window=5):\n",
        "  padding = ['PAD'] *  window\n",
        "  if type(sentence) == type(''):\n",
        "    sentence = normalize(sentence)\n",
        "  # добавляем 'PAD' в начало предложения, чтобы избежать IndexError-а\n",
        "  sentence = padding + sentence \n",
        "  sentence = sentence + padding # и в конец предложения тоже\n",
        "\n",
        "  word_index = sentence.index(word) # получаем индекс слова в предложении\n",
        "  context = []\n",
        "  # задаем контекст\n",
        "  context.extend(sentence[word_index-window:word_index])\n",
        "  context.extend(sentence[word_index+1:word_index+1+window])\n",
        "  \n",
        "  return list(filter(('PAD').__ne__, context)) # удаляем 'PAD'-ы, если есть"
      ],
      "metadata": {
        "id": "7LOpRgAR2ojV"
      },
      "id": "7LOpRgAR2ojV",
      "execution_count": 73,
      "outputs": []
    },
    {
      "cell_type": "code",
      "source": [
        "get_words_in_context('club', 'welcome to the club')"
      ],
      "metadata": {
        "colab": {
          "base_uri": "https://localhost:8080/"
        },
        "id": "YRN7BL1KAcLF",
        "outputId": "35534cb9-7d83-4096-f7d2-072b9f0bc355"
      },
      "id": "YRN7BL1KAcLF",
      "execution_count": 53,
      "outputs": [
        {
          "output_type": "execute_result",
          "data": {
            "text/plain": [
              "['welcome', 'to', 'the']"
            ]
          },
          "metadata": {},
          "execution_count": 53
        }
      ]
    },
    {
      "cell_type": "code",
      "source": [
        "get_words_in_context('shop', 'i went to the shop yesterday and bought some food')"
      ],
      "metadata": {
        "colab": {
          "base_uri": "https://localhost:8080/"
        },
        "id": "bokKNqg3bwBT",
        "outputId": "d58c181d-425c-4e07-a314-97c3380347d8"
      },
      "id": "bokKNqg3bwBT",
      "execution_count": 54,
      "outputs": [
        {
          "output_type": "execute_result",
          "data": {
            "text/plain": [
              "['i', 'went', 'to', 'the', 'yesterday', 'and', 'bought', 'some', 'food']"
            ]
          },
          "metadata": {},
          "execution_count": 54
        }
      ]
    },
    {
      "cell_type": "code",
      "source": [
        "get_words_in_context('dog', 'your dog is sleeping')"
      ],
      "metadata": {
        "colab": {
          "base_uri": "https://localhost:8080/"
        },
        "id": "1v-WtNXMQc2V",
        "outputId": "9fc5e366-bc2b-4c71-d6d7-18c210b80d2a"
      },
      "id": "1v-WtNXMQc2V",
      "execution_count": 55,
      "outputs": [
        {
          "output_type": "execute_result",
          "data": {
            "text/plain": [
              "['your', 'is', 'sleeping']"
            ]
          },
          "metadata": {},
          "execution_count": 55
        }
      ]
    },
    {
      "cell_type": "code",
      "execution_count": 76,
      "metadata": {
        "id": "LMn3e3O4zX2j"
      },
      "outputs": [],
      "source": [
        "def lesk(word, sentence):\n",
        "    bestsense = 0\n",
        "    maxoverlap = 0\n",
        "    synsets = wn.synsets(word)\n",
        "    context = set(get_words_in_context(word, sentence))\n",
        "    \n",
        "    for i,syn in enumerate(synsets):\n",
        "      definition = set(normalize(syn.definition()))\n",
        "      # находим пересечение контекста и определения\n",
        "      intersection = definition.intersection(context)\n",
        "      if len(intersection) > maxoverlap:\n",
        "        maxoverlap = len(intersection)\n",
        "        bestsense = i \n",
        "    return bestsense"
      ],
      "id": "LMn3e3O4zX2j"
    },
    {
      "cell_type": "markdown",
      "source": [
        "**Note:** так как контекст преобразуется в set, повторы слов не будут учитываться. То есть, если контект будет \"home sweet home\", опрелению со словом 'home' прибавится только 1 балл. "
      ],
      "metadata": {
        "id": "_RGjxhb-mUsE"
      },
      "id": "_RGjxhb-mUsE"
    },
    {
      "cell_type": "code",
      "source": [
        "lesk('day', 'a day is some point or period in time')"
      ],
      "metadata": {
        "colab": {
          "base_uri": "https://localhost:8080/"
        },
        "id": "UeXT2HChexpF",
        "outputId": "a009abb7-d8e7-4188-e9f7-3450fe069e3c"
      },
      "id": "UeXT2HChexpF",
      "execution_count": 45,
      "outputs": [
        {
          "output_type": "execute_result",
          "data": {
            "text/plain": [
              "1"
            ]
          },
          "metadata": {},
          "execution_count": 45
        }
      ]
    },
    {
      "cell_type": "code",
      "source": [
        "wn.synsets('day')[1].definition()"
      ],
      "metadata": {
        "colab": {
          "base_uri": "https://localhost:8080/",
          "height": 35
        },
        "id": "5r6ixkOym-4y",
        "outputId": "5d7cefe1-51bc-401b-97c2-a0e83990bb7c"
      },
      "id": "5r6ixkOym-4y",
      "execution_count": 26,
      "outputs": [
        {
          "output_type": "execute_result",
          "data": {
            "application/vnd.google.colaboratory.intrinsic+json": {
              "type": "string"
            },
            "text/plain": [
              "'some point or period in time'"
            ]
          },
          "metadata": {},
          "execution_count": 26
        }
      ]
    },
    {
      "cell_type": "code",
      "source": [
        "lesk('fall', 'my favourite season is fall')"
      ],
      "metadata": {
        "colab": {
          "base_uri": "https://localhost:8080/"
        },
        "id": "FvMk2Ey9nIDC",
        "outputId": "322fba49-7f93-4b1c-f2b8-a7d294a58dce"
      },
      "id": "FvMk2Ey9nIDC",
      "execution_count": 46,
      "outputs": [
        {
          "output_type": "execute_result",
          "data": {
            "text/plain": [
              "0"
            ]
          },
          "metadata": {},
          "execution_count": 46
        }
      ]
    },
    {
      "cell_type": "code",
      "source": [
        "wn.synsets('fall')[0].definition()"
      ],
      "metadata": {
        "colab": {
          "base_uri": "https://localhost:8080/",
          "height": 35
        },
        "id": "pg4yCizUnmes",
        "outputId": "6c8afe2e-9a39-4d80-d8a6-00c67e9f4dd9"
      },
      "id": "pg4yCizUnmes",
      "execution_count": 28,
      "outputs": [
        {
          "output_type": "execute_result",
          "data": {
            "application/vnd.google.colaboratory.intrinsic+json": {
              "type": "string"
            },
            "text/plain": [
              "'the season when the leaves fall from the trees'"
            ]
          },
          "metadata": {},
          "execution_count": 28
        }
      ]
    },
    {
      "cell_type": "code",
      "source": [
        "lesk('falling', 'Huge drops of rain were falling from the sky.')"
      ],
      "metadata": {
        "colab": {
          "base_uri": "https://localhost:8080/"
        },
        "id": "h1A3T_YEntyP",
        "outputId": "9468d9d5-4202-4c1e-a0f6-21e3e2a2f102"
      },
      "id": "h1A3T_YEntyP",
      "execution_count": 47,
      "outputs": [
        {
          "output_type": "execute_result",
          "data": {
            "text/plain": [
              "0"
            ]
          },
          "metadata": {},
          "execution_count": 47
        }
      ]
    },
    {
      "cell_type": "code",
      "source": [
        "wn.synsets('falling')[0].definition()"
      ],
      "metadata": {
        "colab": {
          "base_uri": "https://localhost:8080/",
          "height": 35
        },
        "id": "qlO5CX83oCRV",
        "outputId": "b72941f7-3095-4c9c-ee43-e2dbd5187f80"
      },
      "id": "qlO5CX83oCRV",
      "execution_count": 30,
      "outputs": [
        {
          "output_type": "execute_result",
          "data": {
            "application/vnd.google.colaboratory.intrinsic+json": {
              "type": "string"
            },
            "text/plain": [
              "'descend in free fall under the influence of gravity'"
            ]
          },
          "metadata": {},
          "execution_count": 30
        }
      ]
    },
    {
      "cell_type": "markdown",
      "source": [
        "### Оценка качества алгоритма на датасете для задач WSD"
      ],
      "metadata": {
        "id": "OxVQZ9K5kr5k"
      },
      "id": "OxVQZ9K5kr5k"
    },
    {
      "cell_type": "markdown",
      "source": [
        "Загружаем корпус:"
      ],
      "metadata": {
        "id": "AdkPA4H4k0Tf"
      },
      "id": "AdkPA4H4k0Tf"
    },
    {
      "cell_type": "code",
      "execution_count": 112,
      "metadata": {
        "id": "yPWP7xWGzX2o"
      },
      "outputs": [],
      "source": [
        "corpus_wsd = []\n",
        "corpus = open('corpus_wsd_50k.txt').read().split('\\n\\n')\n",
        "for sent in corpus:\n",
        "    corpus_wsd.append([s.split('\\t') for s in sent.split('\\n')])"
      ],
      "id": "yPWP7xWGzX2o"
    },
    {
      "cell_type": "markdown",
      "source": [
        "Возьмем первые 10 000 предложений"
      ],
      "metadata": {
        "id": "4_cebrdgmVO5"
      },
      "id": "4_cebrdgmVO5"
    },
    {
      "cell_type": "code",
      "source": [
        "corpus_wsd = corpus_wsd[0:10000]"
      ],
      "metadata": {
        "id": "XIJLjjwcmSFg"
      },
      "id": "XIJLjjwcmSFg",
      "execution_count": 114,
      "outputs": []
    },
    {
      "cell_type": "markdown",
      "metadata": {
        "id": "_7MX8ZaZzX2o"
      },
      "source": [
        "Корпус состоит из предложений, где у каждого слова три поля - значение, лемма и само слово. Значение пустое, когда слово однозначное, а у многозначных слов стоит тэг вида **'long%3:00:02::'** Это тэг wordnet'ного формата"
      ],
      "id": "_7MX8ZaZzX2o"
    },
    {
      "cell_type": "code",
      "execution_count": 120,
      "metadata": {
        "id": "goKkhOCvzX2o",
        "outputId": "cadf3e5f-e0bd-4fe9-c5e3-8c3d5527f76c",
        "colab": {
          "base_uri": "https://localhost:8080/"
        }
      },
      "outputs": [
        {
          "output_type": "execute_result",
          "data": {
            "text/plain": [
              "[['', 'have', 'Have'],\n",
              " ['', 'you', 'you'],\n",
              " ['permit%2:41:00::', 'permit', 'permitted'],\n",
              " ['', 'it', 'it'],\n",
              " ['', 'to', 'to'],\n",
              " ['become%2:42:01::', 'become', 'become'],\n",
              " ['', 'a', 'a'],\n",
              " ['giveaway%1:21:00::', 'giveaway', 'giveaway'],\n",
              " ['program%1:09:01::', 'program', 'program'],\n",
              " ['rather%4:02:02::', 'rather', 'rather'],\n",
              " ['', 'than', 'than'],\n",
              " ['', 'one', 'one'],\n",
              " ['', 'that', 'that'],\n",
              " ['have%2:42:00::', 'have', 'has'],\n",
              " ['', 'the', 'the'],\n",
              " ['goal%1:09:00::', 'goal', 'goal'],\n",
              " ['', 'of', 'of'],\n",
              " ['improved%3:00:00::', 'improved', 'improved'],\n",
              " ['employee%1:18:00::', 'employee', 'employee'],\n",
              " ['morale%1:26:00::', 'morale', 'morale'],\n",
              " ['', 'and', 'and'],\n",
              " ['', ',', ','],\n",
              " ['consequently%4:02:00::', 'consequently', 'consequently'],\n",
              " ['', ',', ','],\n",
              " ['increased%3:00:00::', 'increased', 'increased'],\n",
              " ['productivity%1:07:00::', 'productivity', 'productivity'],\n",
              " ['', '?', '?']]"
            ]
          },
          "metadata": {},
          "execution_count": 120
        }
      ],
      "source": [
        "corpus_wsd[1]"
      ],
      "id": "goKkhOCvzX2o"
    },
    {
      "cell_type": "code",
      "source": [
        "comparison_list_bool = []\n",
        "\n",
        "for sent in corpus_wsd:\n",
        "  sent_joined = [word[1] for word in sent]\n",
        "  for word in sent:\n",
        "    # рассматриваем только многозначные слова\n",
        "    if word[0] != '':\n",
        "      lesk_index = lesk(word[1], sent_joined)\n",
        "      is_equal = wn.synsets(word[1])[lesk_index] == wn.lemma_from_key(word[0]).synset()\n",
        "      comparison_list_bool.append(int(is_equal))\n",
        "\n",
        "N = len(comparison_list_bool)\n",
        "print(f'Число проверенных слов: {N}')\n",
        "print(f'Accuracy: {round(np.array(comparison_list_bool).sum() / N,3)}')"
      ],
      "metadata": {
        "colab": {
          "base_uri": "https://localhost:8080/"
        },
        "id": "e0dnK67ayerJ",
        "outputId": "7f1eaf75-bd34-4e2c-efcc-75d92e124570"
      },
      "id": "e0dnK67ayerJ",
      "execution_count": 115,
      "outputs": [
        {
          "output_type": "stream",
          "name": "stdout",
          "text": [
            "Число проверенных слов: 93950\n",
            "Accuracy: 0.407\n"
          ]
        }
      ]
    },
    {
      "cell_type": "markdown",
      "source": [
        "**Вывод:** алгоритм Леска показал достаточно низкую точность на предложенном корпусе: **0.407**. Возможно, определенные модификации позволят улучшить качество данного метода. "
      ],
      "metadata": {
        "id": "BjMJYysLaaMb"
      },
      "id": "BjMJYysLaaMb"
    }
  ],
  "metadata": {
    "kernelspec": {
      "display_name": "Python 3",
      "language": "python",
      "name": "python3"
    },
    "language_info": {
      "codemirror_mode": {
        "name": "ipython",
        "version": 3
      },
      "file_extension": ".py",
      "mimetype": "text/x-python",
      "name": "python",
      "nbconvert_exporter": "python",
      "pygments_lexer": "ipython3",
      "version": "3.8.5"
    },
    "colab": {
      "name": "Copy of hw7_wsd_wsi.ipynb",
      "provenance": [],
      "collapsed_sections": []
    }
  },
  "nbformat": 4,
  "nbformat_minor": 5
}