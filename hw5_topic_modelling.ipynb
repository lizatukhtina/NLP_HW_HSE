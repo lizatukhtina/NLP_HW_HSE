{
 "cells": [
  {
   "cell_type": "markdown",
   "metadata": {
    "id": "NyIbHZgDg34J"
   },
   "source": [
    "# Домашнее задание  № 5. Матричные разложения/Тематическое моделирование"
   ]
  },
  {
   "cell_type": "markdown",
   "metadata": {
    "id": "Nyksv23xg34N"
   },
   "source": [
    "### Задание № 1 (4 балла)"
   ]
  },
  {
   "cell_type": "markdown",
   "metadata": {
    "id": "EYYQlc7gg34O"
   },
   "source": [
    "Попробуйте матричные разложения с 4 классификаторами - SGDClassifier, KNeighborsClassifier, RandomForest, ExtraTreesClassifier (про него подробнее почитайте в документации, он похож на RF). Используйте и NMF и SVD. Сравните результаты на кросс-валидации и выберите лучшее сочетание.\n",
    "\n",
    "В итоге у вас должно получиться, как минимум 8 моделей (два разложения на каждый классификатор). Используйте 1 и те же параметры кросс-валидации. Параметры векторизации, параметры K в матричных разложениях, параметры классификаторов могут быть разными между экспериментами."
   ]
  },
  {
   "cell_type": "markdown",
   "metadata": {
    "id": "BPIBlJKlg34P"
   },
   "source": [
    "Можете взять поменьше данных, если все будет обучаться слишком долго (не ставьте параметр K слишком большим в NMF, иначе точно будет слишком долго)"
   ]
  },
  {
   "cell_type": "code",
   "execution_count": 160,
   "metadata": {
    "id": "bA4EcjoJg34Q"
   },
   "outputs": [],
   "source": [
    "import pandas as pd\n",
    "import numpy as np\n",
    "\n",
    "from sklearn.decomposition import TruncatedSVD, NMF\n",
    "from sklearn.pipeline import Pipeline\n",
    "from sklearn.preprocessing import StandardScaler\n",
    "from sklearn.feature_extraction.text import CountVectorizer\n",
    "\n",
    "from sklearn.linear_model import SGDClassifier\n",
    "from sklearn.neighbors import KNeighborsClassifier\n",
    "from sklearn.naive_bayes import MultinomialNB\n",
    "from sklearn.ensemble import RandomForestClassifier, ExtraTreesClassifier\n",
    "\n",
    "from sklearn.metrics import accuracy_score, precision_score, recall_score, f1_score, confusion_matrix\n",
    "from sklearn.model_selection import KFold, StratifiedKFold\n",
    "\n",
    "from razdel import tokenize as razdel_tokenize\n",
    "from string import punctuation\n",
    "from pymorphy2 import MorphAnalyzer\n",
    "\n",
    "import gensim\n",
    "\n",
    "import warnings\n",
    "warnings.filterwarnings(\"ignore\")"
   ]
  },
  {
   "cell_type": "markdown",
   "metadata": {
    "id": "AMapxBAmg34S"
   },
   "source": [
    "### Загрузка данных, предобработка"
   ]
  },
  {
   "cell_type": "code",
   "execution_count": 5,
   "metadata": {
    "id": "EdvHahrRg34T"
   },
   "outputs": [],
   "source": [
    "data = pd.read_csv('avito_category_classification.csv')"
   ]
  },
  {
   "cell_type": "code",
   "execution_count": 6,
   "metadata": {
    "id": "VbnWBitlg34T"
   },
   "outputs": [],
   "source": [
    "morph = MorphAnalyzer()\n",
    "\n",
    "# нормализация\n",
    "def normalize(text):\n",
    "    normalized_text = [word.text.strip(punctuation) for word \\\n",
    "                                                            in razdel_tokenize(text)]\n",
    "    normalized_text = [word.lower() for word in normalized_text if word and len(word) < 20 ]\n",
    "    normalized_text = [morph.parse(word)[0].normal_form for word in normalized_text]\n",
    "    return ' '.join(normalized_text)\n"
   ]
  },
  {
   "cell_type": "code",
   "execution_count": null,
   "metadata": {
    "id": "t5sJJ2F6g34U"
   },
   "outputs": [],
   "source": [
    "data['description_normalized'] = data['description'].apply(normalize)"
   ]
  },
  {
   "cell_type": "code",
   "execution_count": null,
   "metadata": {
    "colab": {
     "base_uri": "https://localhost:8080/",
     "height": 206
    },
    "id": "8UG_OpKcg34V",
    "outputId": "b4494eb3-f581-4db6-f8cf-e746f44e053e"
   },
   "outputs": [
    {
     "data": {
      "text/html": [
       "\n",
       "  <div id=\"df-46aaec67-9bbd-43b2-b954-712d64edd266\">\n",
       "    <div class=\"colab-df-container\">\n",
       "      <div>\n",
       "<style scoped>\n",
       "    .dataframe tbody tr th:only-of-type {\n",
       "        vertical-align: middle;\n",
       "    }\n",
       "\n",
       "    .dataframe tbody tr th {\n",
       "        vertical-align: top;\n",
       "    }\n",
       "\n",
       "    .dataframe thead th {\n",
       "        text-align: right;\n",
       "    }\n",
       "</style>\n",
       "<table border=\"1\" class=\"dataframe\">\n",
       "  <thead>\n",
       "    <tr style=\"text-align: right;\">\n",
       "      <th></th>\n",
       "      <th>category_name</th>\n",
       "      <th>description</th>\n",
       "      <th>description_normalized</th>\n",
       "    </tr>\n",
       "  </thead>\n",
       "  <tbody>\n",
       "    <tr>\n",
       "      <th>0</th>\n",
       "      <td>Автомобили</td>\n",
       "      <td>отличное состояние,обслужиание в салоне</td>\n",
       "      <td>отличный состояние обслужиание в салон</td>\n",
       "    </tr>\n",
       "    <tr>\n",
       "      <th>1</th>\n",
       "      <td>Детская одежда и обувь</td>\n",
       "      <td>В отличном состоянии. Фирма KIKO. Очень теплый...</td>\n",
       "      <td>в отличный состояние фирма kiko очень тёплый у...</td>\n",
       "    </tr>\n",
       "    <tr>\n",
       "      <th>2</th>\n",
       "      <td>Предложение услуг</td>\n",
       "      <td>Изготовление ограждений, перил,качелей, турник...</td>\n",
       "      <td>изготовление ограждение перила качели турников...</td>\n",
       "    </tr>\n",
       "    <tr>\n",
       "      <th>3</th>\n",
       "      <td>Автомобили</td>\n",
       "      <td>Автомобиль в отличном техническом состоянии. О...</td>\n",
       "      <td>автомобиль в отличный технический состояние од...</td>\n",
       "    </tr>\n",
       "    <tr>\n",
       "      <th>4</th>\n",
       "      <td>Бытовая техника</td>\n",
       "      <td>Продается газовая плита \"Гефест\" (Белоруссия) ...</td>\n",
       "      <td>продаваться газовый плита гефест белоруссия б ...</td>\n",
       "    </tr>\n",
       "  </tbody>\n",
       "</table>\n",
       "</div>\n",
       "      <button class=\"colab-df-convert\" onclick=\"convertToInteractive('df-46aaec67-9bbd-43b2-b954-712d64edd266')\"\n",
       "              title=\"Convert this dataframe to an interactive table.\"\n",
       "              style=\"display:none;\">\n",
       "        \n",
       "  <svg xmlns=\"http://www.w3.org/2000/svg\" height=\"24px\"viewBox=\"0 0 24 24\"\n",
       "       width=\"24px\">\n",
       "    <path d=\"M0 0h24v24H0V0z\" fill=\"none\"/>\n",
       "    <path d=\"M18.56 5.44l.94 2.06.94-2.06 2.06-.94-2.06-.94-.94-2.06-.94 2.06-2.06.94zm-11 1L8.5 8.5l.94-2.06 2.06-.94-2.06-.94L8.5 2.5l-.94 2.06-2.06.94zm10 10l.94 2.06.94-2.06 2.06-.94-2.06-.94-.94-2.06-.94 2.06-2.06.94z\"/><path d=\"M17.41 7.96l-1.37-1.37c-.4-.4-.92-.59-1.43-.59-.52 0-1.04.2-1.43.59L10.3 9.45l-7.72 7.72c-.78.78-.78 2.05 0 2.83L4 21.41c.39.39.9.59 1.41.59.51 0 1.02-.2 1.41-.59l7.78-7.78 2.81-2.81c.8-.78.8-2.07 0-2.86zM5.41 20L4 18.59l7.72-7.72 1.47 1.35L5.41 20z\"/>\n",
       "  </svg>\n",
       "      </button>\n",
       "      \n",
       "  <style>\n",
       "    .colab-df-container {\n",
       "      display:flex;\n",
       "      flex-wrap:wrap;\n",
       "      gap: 12px;\n",
       "    }\n",
       "\n",
       "    .colab-df-convert {\n",
       "      background-color: #E8F0FE;\n",
       "      border: none;\n",
       "      border-radius: 50%;\n",
       "      cursor: pointer;\n",
       "      display: none;\n",
       "      fill: #1967D2;\n",
       "      height: 32px;\n",
       "      padding: 0 0 0 0;\n",
       "      width: 32px;\n",
       "    }\n",
       "\n",
       "    .colab-df-convert:hover {\n",
       "      background-color: #E2EBFA;\n",
       "      box-shadow: 0px 1px 2px rgba(60, 64, 67, 0.3), 0px 1px 3px 1px rgba(60, 64, 67, 0.15);\n",
       "      fill: #174EA6;\n",
       "    }\n",
       "\n",
       "    [theme=dark] .colab-df-convert {\n",
       "      background-color: #3B4455;\n",
       "      fill: #D2E3FC;\n",
       "    }\n",
       "\n",
       "    [theme=dark] .colab-df-convert:hover {\n",
       "      background-color: #434B5C;\n",
       "      box-shadow: 0px 1px 3px 1px rgba(0, 0, 0, 0.15);\n",
       "      filter: drop-shadow(0px 1px 2px rgba(0, 0, 0, 0.3));\n",
       "      fill: #FFFFFF;\n",
       "    }\n",
       "  </style>\n",
       "\n",
       "      <script>\n",
       "        const buttonEl =\n",
       "          document.querySelector('#df-46aaec67-9bbd-43b2-b954-712d64edd266 button.colab-df-convert');\n",
       "        buttonEl.style.display =\n",
       "          google.colab.kernel.accessAllowed ? 'block' : 'none';\n",
       "\n",
       "        async function convertToInteractive(key) {\n",
       "          const element = document.querySelector('#df-46aaec67-9bbd-43b2-b954-712d64edd266');\n",
       "          const dataTable =\n",
       "            await google.colab.kernel.invokeFunction('convertToInteractive',\n",
       "                                                     [key], {});\n",
       "          if (!dataTable) return;\n",
       "\n",
       "          const docLinkHtml = 'Like what you see? Visit the ' +\n",
       "            '<a target=\"_blank\" href=https://colab.research.google.com/notebooks/data_table.ipynb>data table notebook</a>'\n",
       "            + ' to learn more about interactive tables.';\n",
       "          element.innerHTML = '';\n",
       "          dataTable['output_type'] = 'display_data';\n",
       "          await google.colab.output.renderOutput(dataTable, element);\n",
       "          const docLink = document.createElement('div');\n",
       "          docLink.innerHTML = docLinkHtml;\n",
       "          element.appendChild(docLink);\n",
       "        }\n",
       "      </script>\n",
       "    </div>\n",
       "  </div>\n",
       "  "
      ],
      "text/plain": [
       "            category_name  ...                             description_normalized\n",
       "0              Автомобили  ...             отличный состояние обслужиание в салон\n",
       "1  Детская одежда и обувь  ...  в отличный состояние фирма kiko очень тёплый у...\n",
       "2       Предложение услуг  ...  изготовление ограждение перила качели турников...\n",
       "3              Автомобили  ...  автомобиль в отличный технический состояние од...\n",
       "4         Бытовая техника  ...  продаваться газовый плита гефест белоруссия б ...\n",
       "\n",
       "[5 rows x 3 columns]"
      ]
     },
     "execution_count": 8,
     "metadata": {},
     "output_type": "execute_result"
    }
   ],
   "source": [
    "data.head()"
   ]
  },
  {
   "cell_type": "markdown",
   "metadata": {
    "id": "xUTB9OMbg34W"
   },
   "source": [
    "### Pipelines"
   ]
  },
  {
   "cell_type": "markdown",
   "metadata": {
    "id": "JxpvX2Hug34X"
   },
   "source": [
    "SVD piplines "
   ]
  },
  {
   "cell_type": "code",
   "execution_count": null,
   "metadata": {
    "id": "AwgWLa2DVJyC"
   },
   "outputs": [],
   "source": [
    "vectorizer = CountVectorizer(min_df=5, max_df=0.5)"
   ]
  },
  {
   "cell_type": "code",
   "execution_count": null,
   "metadata": {
    "id": "TmpPM_YSg34X"
   },
   "outputs": [],
   "source": [
    "# Random Forest + SVD\n",
    "svd_randomforest = Pipeline([\n",
    "    ('bow', vectorizer),\n",
    "    ('svd', TruncatedSVD(500)),\n",
    "    ('clf', RandomForestClassifier(n_estimators=100, max_depth=10))\n",
    "])\n",
    "\n",
    "# K-NN + SVD\n",
    "svd_kneighbors = Pipeline([\n",
    "    ('bow', vectorizer),\n",
    "    ('svd', TruncatedSVD(500)),\n",
    "    ('clf', KNeighborsClassifier(n_neighbors=7))\n",
    "])\n",
    "\n",
    "# ExtraTrees + SVD\n",
    "svd_extratrees = Pipeline([\n",
    "    ('bow', vectorizer),\n",
    "    ('svd', TruncatedSVD(500)),\n",
    "    ('clf', ExtraTreesClassifier(random_state=0))\n",
    "])\n",
    "\n",
    "# SGD + SVD\n",
    "svd_sgd = Pipeline([\n",
    "    ('bow', vectorizer),\n",
    "    ('scaler', StandardScaler(with_mean=False)),\n",
    "    ('svd', TruncatedSVD(500)),\n",
    "    ('clf', SGDClassifier(max_iter=1000, tol=1e-3))\n",
    "])"
   ]
  },
  {
   "cell_type": "markdown",
   "metadata": {
    "id": "U8lv2u_LU792"
   },
   "source": [
    "NMF pipelines"
   ]
  },
  {
   "cell_type": "code",
   "execution_count": null,
   "metadata": {
    "id": "8TgCd8UaVDVT"
   },
   "outputs": [],
   "source": [
    "# Random Forest + NMF\n",
    "nmf_randomforest = Pipeline([\n",
    "    ('bow', vectorizer),\n",
    "    ('svd', NMF(60)),\n",
    "    ('clf', RandomForestClassifier(n_estimators=100, max_depth=10))\n",
    "])\n",
    "\n",
    "# K-NN + NMF\n",
    "nmf_kneighbors = Pipeline([\n",
    "    ('bow', vectorizer),\n",
    "    ('svd', NMF(60)),\n",
    "    ('clf', KNeighborsClassifier(n_neighbors=7))\n",
    "])\n",
    "\n",
    "# ExtraTrees + NMF\n",
    "nmf_extratrees = Pipeline([\n",
    "    ('bow', vectorizer),\n",
    "    ('svd', NMF(60)),\n",
    "    ('clf', ExtraTreesClassifier(random_state=0))\n",
    "])\n",
    "\n",
    "# SGD + NMF\n",
    "nmf_sgd = Pipeline([\n",
    "    ('bow', vectorizer),\n",
    "    ('scaler', StandardScaler(with_mean=False)),\n",
    "    ('svd', NMF(60)),\n",
    "    ('clf', SGDClassifier(max_iter=1000, tol=1e-3))\n",
    "])"
   ]
  },
  {
   "cell_type": "markdown",
   "metadata": {
    "id": "QJ3prhuOWjA0"
   },
   "source": [
    "### Evaluation via Cross Validation"
   ]
  },
  {
   "cell_type": "markdown",
   "metadata": {
    "id": "3BIXF1l6Xs18"
   },
   "source": [
    "Classification report для кросс-валидации\n"
   ]
  },
  {
   "cell_type": "code",
   "execution_count": null,
   "metadata": {
    "id": "BL76v6Utg34Y"
   },
   "outputs": [],
   "source": [
    "# код этой функции взят отсюда:\n",
    "# https://github.com/mannefedov/compling_nlp_hse_course/blob/master/notebooks/topic_modelling/Topic_modelling.ipynb\n",
    "\n",
    "def eval_table(X, y, pipeline, N=6):\n",
    "    # зафиксируем порядок классов\n",
    "    labels = list(set(y))\n",
    "    \n",
    "    # метрики отдельных фолдов будет хранить в табличке\n",
    "    fold_metrics = pd.DataFrame(index=labels)\n",
    "    # дополнительно также соберем таблицу ошибок\n",
    "    errors = np.zeros((len(labels), len(labels)))\n",
    "    \n",
    "    # создаем стратегию кросс-валидации\n",
    "    # shuffle=True (перемешивание) - часто критично важно указать\n",
    "    # т.к. данные могут быть упорядочены и модель на этом обучится\n",
    "    kfold = StratifiedKFold(n_splits=N, shuffle=True, )\n",
    "    \n",
    "    for i, (train_index, test_index) in enumerate(kfold.split(X, y)):\n",
    "        # fit-predict как и раньше, но сразу пайплайном\n",
    "        pipeline.fit(X[train_index], y[train_index])\n",
    "        preds = pipeline.predict(X[test_index])\n",
    "        \n",
    "        # записываем метрику и индекс фолда\n",
    "        fold_metrics[f'precision_{i}'] = precision_score(y[test_index], preds, labels=labels, average=None)\n",
    "        fold_metrics[f'recall_{i}'] = recall_score(y[test_index], preds, labels=labels, average=None)\n",
    "        fold_metrics[f'f1_{i}'] = f1_score(y[test_index], preds, labels=labels, average=None)\n",
    "        errors += confusion_matrix(y[test_index], preds, labels=labels, normalize='true')\n",
    "    \n",
    "    # таблица для усредненных значений\n",
    "    # тут мы берем колонки со значениями и усредняем их\n",
    "    # часто также все метрики сразу суммируют и в конце просто делят на количество фолдов\n",
    "    # но мы тут помимо среднего также хотим посмотреть на стандартное отклонение\n",
    "    # чтобы понять как сильно варьируются оценки моделей\n",
    "    result = pd.DataFrame(index=labels)\n",
    "    result['precision'] = fold_metrics[[f'precision_{i}' for i in range(N)]].mean(axis=1).round(2)\n",
    "    result['precision_std'] = fold_metrics[[f'precision_{i}' for i in range(N)]].std(axis=1).round(2)\n",
    "    \n",
    "    result['recall'] = fold_metrics[[f'recall_{i}' for i in range(N)]].mean(axis=1).round(2)\n",
    "    result['recall_std'] = fold_metrics[[f'recall_{i}' for i in range(N)]].std(axis=1).round(2)\n",
    "    \n",
    "    result['f1'] = fold_metrics[[f'f1_{i}' for i in range(N)]].mean(axis=1).round(2)\n",
    "    result['f1_std'] = fold_metrics[[f'f1_{i}' for i in range(N)]].std(axis=1).round(2)\n",
    "    \n",
    "    # добавим одну колонку со средним по всем классам\n",
    "    result.loc['mean'] = result.mean().round(2)\n",
    "    # проценты ошибок просто усредняем\n",
    "    errors /= N\n",
    "    \n",
    "    return result, errors"
   ]
  },
  {
   "cell_type": "markdown",
   "metadata": {
    "id": "fgRlFvMdXzj7"
   },
   "source": [
    "#### Рассчет метрик для классификаторов с SVD"
   ]
  },
  {
   "cell_type": "markdown",
   "metadata": {
    "id": "t33cpkrw3eKO"
   },
   "source": [
    "Random Forest + SVD"
   ]
  },
  {
   "cell_type": "code",
   "execution_count": null,
   "metadata": {
    "id": "L0VcsEmdg34Z"
   },
   "outputs": [],
   "source": [
    "metrics_svd_randomforest, errors_svd_randomforest = eval_table(data['description_normalized'], data['category_name'], svd_randomforest)"
   ]
  },
  {
   "cell_type": "code",
   "execution_count": null,
   "metadata": {
    "colab": {
     "base_uri": "https://localhost:8080/",
     "height": 394
    },
    "id": "68OuNVI53cqv",
    "outputId": "0cb91c05-8957-4a5a-e844-55f15a4e3f17"
   },
   "outputs": [
    {
     "data": {
      "text/html": [
       "\n",
       "  <div id=\"df-e8073b39-e641-4d0d-9e4c-b411cffce7e6\">\n",
       "    <div class=\"colab-df-container\">\n",
       "      <div>\n",
       "<style scoped>\n",
       "    .dataframe tbody tr th:only-of-type {\n",
       "        vertical-align: middle;\n",
       "    }\n",
       "\n",
       "    .dataframe tbody tr th {\n",
       "        vertical-align: top;\n",
       "    }\n",
       "\n",
       "    .dataframe thead th {\n",
       "        text-align: right;\n",
       "    }\n",
       "</style>\n",
       "<table border=\"1\" class=\"dataframe\">\n",
       "  <thead>\n",
       "    <tr style=\"text-align: right;\">\n",
       "      <th></th>\n",
       "      <th>precision</th>\n",
       "      <th>precision_std</th>\n",
       "      <th>recall</th>\n",
       "      <th>recall_std</th>\n",
       "      <th>f1</th>\n",
       "      <th>f1_std</th>\n",
       "    </tr>\n",
       "  </thead>\n",
       "  <tbody>\n",
       "    <tr>\n",
       "      <th>Автомобили</th>\n",
       "      <td>0.90</td>\n",
       "      <td>0.02</td>\n",
       "      <td>0.59</td>\n",
       "      <td>0.06</td>\n",
       "      <td>0.71</td>\n",
       "      <td>0.05</td>\n",
       "    </tr>\n",
       "    <tr>\n",
       "      <th>Ремонт и строительство</th>\n",
       "      <td>0.71</td>\n",
       "      <td>0.13</td>\n",
       "      <td>0.10</td>\n",
       "      <td>0.03</td>\n",
       "      <td>0.17</td>\n",
       "      <td>0.05</td>\n",
       "    </tr>\n",
       "    <tr>\n",
       "      <th>Одежда, обувь, аксессуары</th>\n",
       "      <td>0.48</td>\n",
       "      <td>0.01</td>\n",
       "      <td>0.77</td>\n",
       "      <td>0.04</td>\n",
       "      <td>0.59</td>\n",
       "      <td>0.02</td>\n",
       "    </tr>\n",
       "    <tr>\n",
       "      <th>Квартиры</th>\n",
       "      <td>0.87</td>\n",
       "      <td>0.04</td>\n",
       "      <td>0.93</td>\n",
       "      <td>0.01</td>\n",
       "      <td>0.90</td>\n",
       "      <td>0.02</td>\n",
       "    </tr>\n",
       "    <tr>\n",
       "      <th>Бытовая техника</th>\n",
       "      <td>0.83</td>\n",
       "      <td>0.20</td>\n",
       "      <td>0.07</td>\n",
       "      <td>0.04</td>\n",
       "      <td>0.13</td>\n",
       "      <td>0.07</td>\n",
       "    </tr>\n",
       "    <tr>\n",
       "      <th>Детская одежда и обувь</th>\n",
       "      <td>0.47</td>\n",
       "      <td>0.02</td>\n",
       "      <td>0.71</td>\n",
       "      <td>0.03</td>\n",
       "      <td>0.56</td>\n",
       "      <td>0.02</td>\n",
       "    </tr>\n",
       "    <tr>\n",
       "      <th>Товары для детей и игрушки</th>\n",
       "      <td>0.88</td>\n",
       "      <td>0.07</td>\n",
       "      <td>0.23</td>\n",
       "      <td>0.03</td>\n",
       "      <td>0.36</td>\n",
       "      <td>0.03</td>\n",
       "    </tr>\n",
       "    <tr>\n",
       "      <th>Предложение услуг</th>\n",
       "      <td>0.76</td>\n",
       "      <td>0.04</td>\n",
       "      <td>0.47</td>\n",
       "      <td>0.04</td>\n",
       "      <td>0.58</td>\n",
       "      <td>0.04</td>\n",
       "    </tr>\n",
       "    <tr>\n",
       "      <th>Телефоны</th>\n",
       "      <td>0.91</td>\n",
       "      <td>0.06</td>\n",
       "      <td>0.42</td>\n",
       "      <td>0.04</td>\n",
       "      <td>0.58</td>\n",
       "      <td>0.05</td>\n",
       "    </tr>\n",
       "    <tr>\n",
       "      <th>Мебель и интерьер</th>\n",
       "      <td>0.85</td>\n",
       "      <td>0.21</td>\n",
       "      <td>0.04</td>\n",
       "      <td>0.03</td>\n",
       "      <td>0.08</td>\n",
       "      <td>0.05</td>\n",
       "    </tr>\n",
       "    <tr>\n",
       "      <th>mean</th>\n",
       "      <td>0.77</td>\n",
       "      <td>0.08</td>\n",
       "      <td>0.43</td>\n",
       "      <td>0.03</td>\n",
       "      <td>0.47</td>\n",
       "      <td>0.04</td>\n",
       "    </tr>\n",
       "  </tbody>\n",
       "</table>\n",
       "</div>\n",
       "      <button class=\"colab-df-convert\" onclick=\"convertToInteractive('df-e8073b39-e641-4d0d-9e4c-b411cffce7e6')\"\n",
       "              title=\"Convert this dataframe to an interactive table.\"\n",
       "              style=\"display:none;\">\n",
       "        \n",
       "  <svg xmlns=\"http://www.w3.org/2000/svg\" height=\"24px\"viewBox=\"0 0 24 24\"\n",
       "       width=\"24px\">\n",
       "    <path d=\"M0 0h24v24H0V0z\" fill=\"none\"/>\n",
       "    <path d=\"M18.56 5.44l.94 2.06.94-2.06 2.06-.94-2.06-.94-.94-2.06-.94 2.06-2.06.94zm-11 1L8.5 8.5l.94-2.06 2.06-.94-2.06-.94L8.5 2.5l-.94 2.06-2.06.94zm10 10l.94 2.06.94-2.06 2.06-.94-2.06-.94-.94-2.06-.94 2.06-2.06.94z\"/><path d=\"M17.41 7.96l-1.37-1.37c-.4-.4-.92-.59-1.43-.59-.52 0-1.04.2-1.43.59L10.3 9.45l-7.72 7.72c-.78.78-.78 2.05 0 2.83L4 21.41c.39.39.9.59 1.41.59.51 0 1.02-.2 1.41-.59l7.78-7.78 2.81-2.81c.8-.78.8-2.07 0-2.86zM5.41 20L4 18.59l7.72-7.72 1.47 1.35L5.41 20z\"/>\n",
       "  </svg>\n",
       "      </button>\n",
       "      \n",
       "  <style>\n",
       "    .colab-df-container {\n",
       "      display:flex;\n",
       "      flex-wrap:wrap;\n",
       "      gap: 12px;\n",
       "    }\n",
       "\n",
       "    .colab-df-convert {\n",
       "      background-color: #E8F0FE;\n",
       "      border: none;\n",
       "      border-radius: 50%;\n",
       "      cursor: pointer;\n",
       "      display: none;\n",
       "      fill: #1967D2;\n",
       "      height: 32px;\n",
       "      padding: 0 0 0 0;\n",
       "      width: 32px;\n",
       "    }\n",
       "\n",
       "    .colab-df-convert:hover {\n",
       "      background-color: #E2EBFA;\n",
       "      box-shadow: 0px 1px 2px rgba(60, 64, 67, 0.3), 0px 1px 3px 1px rgba(60, 64, 67, 0.15);\n",
       "      fill: #174EA6;\n",
       "    }\n",
       "\n",
       "    [theme=dark] .colab-df-convert {\n",
       "      background-color: #3B4455;\n",
       "      fill: #D2E3FC;\n",
       "    }\n",
       "\n",
       "    [theme=dark] .colab-df-convert:hover {\n",
       "      background-color: #434B5C;\n",
       "      box-shadow: 0px 1px 3px 1px rgba(0, 0, 0, 0.15);\n",
       "      filter: drop-shadow(0px 1px 2px rgba(0, 0, 0, 0.3));\n",
       "      fill: #FFFFFF;\n",
       "    }\n",
       "  </style>\n",
       "\n",
       "      <script>\n",
       "        const buttonEl =\n",
       "          document.querySelector('#df-e8073b39-e641-4d0d-9e4c-b411cffce7e6 button.colab-df-convert');\n",
       "        buttonEl.style.display =\n",
       "          google.colab.kernel.accessAllowed ? 'block' : 'none';\n",
       "\n",
       "        async function convertToInteractive(key) {\n",
       "          const element = document.querySelector('#df-e8073b39-e641-4d0d-9e4c-b411cffce7e6');\n",
       "          const dataTable =\n",
       "            await google.colab.kernel.invokeFunction('convertToInteractive',\n",
       "                                                     [key], {});\n",
       "          if (!dataTable) return;\n",
       "\n",
       "          const docLinkHtml = 'Like what you see? Visit the ' +\n",
       "            '<a target=\"_blank\" href=https://colab.research.google.com/notebooks/data_table.ipynb>data table notebook</a>'\n",
       "            + ' to learn more about interactive tables.';\n",
       "          element.innerHTML = '';\n",
       "          dataTable['output_type'] = 'display_data';\n",
       "          await google.colab.output.renderOutput(dataTable, element);\n",
       "          const docLink = document.createElement('div');\n",
       "          docLink.innerHTML = docLinkHtml;\n",
       "          element.appendChild(docLink);\n",
       "        }\n",
       "      </script>\n",
       "    </div>\n",
       "  </div>\n",
       "  "
      ],
      "text/plain": [
       "                            precision  precision_std  ...    f1  f1_std\n",
       "Автомобили                       0.90           0.02  ...  0.71    0.05\n",
       "Ремонт и строительство           0.71           0.13  ...  0.17    0.05\n",
       "Одежда, обувь, аксессуары        0.48           0.01  ...  0.59    0.02\n",
       "Квартиры                         0.87           0.04  ...  0.90    0.02\n",
       "Бытовая техника                  0.83           0.20  ...  0.13    0.07\n",
       "Детская одежда и обувь           0.47           0.02  ...  0.56    0.02\n",
       "Товары для детей и игрушки       0.88           0.07  ...  0.36    0.03\n",
       "Предложение услуг                0.76           0.04  ...  0.58    0.04\n",
       "Телефоны                         0.91           0.06  ...  0.58    0.05\n",
       "Мебель и интерьер                0.85           0.21  ...  0.08    0.05\n",
       "mean                             0.77           0.08  ...  0.47    0.04\n",
       "\n",
       "[11 rows x 6 columns]"
      ]
     },
     "execution_count": 25,
     "metadata": {},
     "output_type": "execute_result"
    }
   ],
   "source": [
    "metrics_svd_randomforest"
   ]
  },
  {
   "cell_type": "markdown",
   "metadata": {
    "id": "69_s87OE4Sth"
   },
   "source": [
    "KNN + SVD"
   ]
  },
  {
   "cell_type": "code",
   "execution_count": null,
   "metadata": {
    "id": "spVvSFC4iF5m"
   },
   "outputs": [],
   "source": [
    "metrics_svd_kneighbors, errors_svd_kneighbors = eval_table(data['description_normalized'], data['category_name'], svd_kneighbors)"
   ]
  },
  {
   "cell_type": "code",
   "execution_count": null,
   "metadata": {
    "colab": {
     "base_uri": "https://localhost:8080/",
     "height": 394
    },
    "id": "Z2Iak-Gu4VA3",
    "outputId": "54f4b414-b411-4fb7-edc3-a3ad1763823c"
   },
   "outputs": [
    {
     "data": {
      "text/html": [
       "\n",
       "  <div id=\"df-4a43cace-b0ca-4169-bffe-a4e564b327cc\">\n",
       "    <div class=\"colab-df-container\">\n",
       "      <div>\n",
       "<style scoped>\n",
       "    .dataframe tbody tr th:only-of-type {\n",
       "        vertical-align: middle;\n",
       "    }\n",
       "\n",
       "    .dataframe tbody tr th {\n",
       "        vertical-align: top;\n",
       "    }\n",
       "\n",
       "    .dataframe thead th {\n",
       "        text-align: right;\n",
       "    }\n",
       "</style>\n",
       "<table border=\"1\" class=\"dataframe\">\n",
       "  <thead>\n",
       "    <tr style=\"text-align: right;\">\n",
       "      <th></th>\n",
       "      <th>precision</th>\n",
       "      <th>precision_std</th>\n",
       "      <th>recall</th>\n",
       "      <th>recall_std</th>\n",
       "      <th>f1</th>\n",
       "      <th>f1_std</th>\n",
       "    </tr>\n",
       "  </thead>\n",
       "  <tbody>\n",
       "    <tr>\n",
       "      <th>Автомобили</th>\n",
       "      <td>0.52</td>\n",
       "      <td>0.04</td>\n",
       "      <td>0.65</td>\n",
       "      <td>0.06</td>\n",
       "      <td>0.57</td>\n",
       "      <td>0.02</td>\n",
       "    </tr>\n",
       "    <tr>\n",
       "      <th>Ремонт и строительство</th>\n",
       "      <td>0.41</td>\n",
       "      <td>0.09</td>\n",
       "      <td>0.20</td>\n",
       "      <td>0.04</td>\n",
       "      <td>0.26</td>\n",
       "      <td>0.04</td>\n",
       "    </tr>\n",
       "    <tr>\n",
       "      <th>Одежда, обувь, аксессуары</th>\n",
       "      <td>0.52</td>\n",
       "      <td>0.01</td>\n",
       "      <td>0.61</td>\n",
       "      <td>0.02</td>\n",
       "      <td>0.56</td>\n",
       "      <td>0.01</td>\n",
       "    </tr>\n",
       "    <tr>\n",
       "      <th>Квартиры</th>\n",
       "      <td>0.95</td>\n",
       "      <td>0.02</td>\n",
       "      <td>0.77</td>\n",
       "      <td>0.04</td>\n",
       "      <td>0.85</td>\n",
       "      <td>0.02</td>\n",
       "    </tr>\n",
       "    <tr>\n",
       "      <th>Бытовая техника</th>\n",
       "      <td>0.41</td>\n",
       "      <td>0.10</td>\n",
       "      <td>0.31</td>\n",
       "      <td>0.11</td>\n",
       "      <td>0.35</td>\n",
       "      <td>0.10</td>\n",
       "    </tr>\n",
       "    <tr>\n",
       "      <th>Детская одежда и обувь</th>\n",
       "      <td>0.48</td>\n",
       "      <td>0.02</td>\n",
       "      <td>0.68</td>\n",
       "      <td>0.03</td>\n",
       "      <td>0.56</td>\n",
       "      <td>0.02</td>\n",
       "    </tr>\n",
       "    <tr>\n",
       "      <th>Товары для детей и игрушки</th>\n",
       "      <td>0.58</td>\n",
       "      <td>0.06</td>\n",
       "      <td>0.30</td>\n",
       "      <td>0.03</td>\n",
       "      <td>0.40</td>\n",
       "      <td>0.02</td>\n",
       "    </tr>\n",
       "    <tr>\n",
       "      <th>Предложение услуг</th>\n",
       "      <td>0.70</td>\n",
       "      <td>0.05</td>\n",
       "      <td>0.51</td>\n",
       "      <td>0.04</td>\n",
       "      <td>0.59</td>\n",
       "      <td>0.03</td>\n",
       "    </tr>\n",
       "    <tr>\n",
       "      <th>Телефоны</th>\n",
       "      <td>0.75</td>\n",
       "      <td>0.04</td>\n",
       "      <td>0.36</td>\n",
       "      <td>0.05</td>\n",
       "      <td>0.48</td>\n",
       "      <td>0.04</td>\n",
       "    </tr>\n",
       "    <tr>\n",
       "      <th>Мебель и интерьер</th>\n",
       "      <td>0.45</td>\n",
       "      <td>0.07</td>\n",
       "      <td>0.29</td>\n",
       "      <td>0.05</td>\n",
       "      <td>0.35</td>\n",
       "      <td>0.05</td>\n",
       "    </tr>\n",
       "    <tr>\n",
       "      <th>mean</th>\n",
       "      <td>0.58</td>\n",
       "      <td>0.05</td>\n",
       "      <td>0.47</td>\n",
       "      <td>0.05</td>\n",
       "      <td>0.50</td>\n",
       "      <td>0.03</td>\n",
       "    </tr>\n",
       "  </tbody>\n",
       "</table>\n",
       "</div>\n",
       "      <button class=\"colab-df-convert\" onclick=\"convertToInteractive('df-4a43cace-b0ca-4169-bffe-a4e564b327cc')\"\n",
       "              title=\"Convert this dataframe to an interactive table.\"\n",
       "              style=\"display:none;\">\n",
       "        \n",
       "  <svg xmlns=\"http://www.w3.org/2000/svg\" height=\"24px\"viewBox=\"0 0 24 24\"\n",
       "       width=\"24px\">\n",
       "    <path d=\"M0 0h24v24H0V0z\" fill=\"none\"/>\n",
       "    <path d=\"M18.56 5.44l.94 2.06.94-2.06 2.06-.94-2.06-.94-.94-2.06-.94 2.06-2.06.94zm-11 1L8.5 8.5l.94-2.06 2.06-.94-2.06-.94L8.5 2.5l-.94 2.06-2.06.94zm10 10l.94 2.06.94-2.06 2.06-.94-2.06-.94-.94-2.06-.94 2.06-2.06.94z\"/><path d=\"M17.41 7.96l-1.37-1.37c-.4-.4-.92-.59-1.43-.59-.52 0-1.04.2-1.43.59L10.3 9.45l-7.72 7.72c-.78.78-.78 2.05 0 2.83L4 21.41c.39.39.9.59 1.41.59.51 0 1.02-.2 1.41-.59l7.78-7.78 2.81-2.81c.8-.78.8-2.07 0-2.86zM5.41 20L4 18.59l7.72-7.72 1.47 1.35L5.41 20z\"/>\n",
       "  </svg>\n",
       "      </button>\n",
       "      \n",
       "  <style>\n",
       "    .colab-df-container {\n",
       "      display:flex;\n",
       "      flex-wrap:wrap;\n",
       "      gap: 12px;\n",
       "    }\n",
       "\n",
       "    .colab-df-convert {\n",
       "      background-color: #E8F0FE;\n",
       "      border: none;\n",
       "      border-radius: 50%;\n",
       "      cursor: pointer;\n",
       "      display: none;\n",
       "      fill: #1967D2;\n",
       "      height: 32px;\n",
       "      padding: 0 0 0 0;\n",
       "      width: 32px;\n",
       "    }\n",
       "\n",
       "    .colab-df-convert:hover {\n",
       "      background-color: #E2EBFA;\n",
       "      box-shadow: 0px 1px 2px rgba(60, 64, 67, 0.3), 0px 1px 3px 1px rgba(60, 64, 67, 0.15);\n",
       "      fill: #174EA6;\n",
       "    }\n",
       "\n",
       "    [theme=dark] .colab-df-convert {\n",
       "      background-color: #3B4455;\n",
       "      fill: #D2E3FC;\n",
       "    }\n",
       "\n",
       "    [theme=dark] .colab-df-convert:hover {\n",
       "      background-color: #434B5C;\n",
       "      box-shadow: 0px 1px 3px 1px rgba(0, 0, 0, 0.15);\n",
       "      filter: drop-shadow(0px 1px 2px rgba(0, 0, 0, 0.3));\n",
       "      fill: #FFFFFF;\n",
       "    }\n",
       "  </style>\n",
       "\n",
       "      <script>\n",
       "        const buttonEl =\n",
       "          document.querySelector('#df-4a43cace-b0ca-4169-bffe-a4e564b327cc button.colab-df-convert');\n",
       "        buttonEl.style.display =\n",
       "          google.colab.kernel.accessAllowed ? 'block' : 'none';\n",
       "\n",
       "        async function convertToInteractive(key) {\n",
       "          const element = document.querySelector('#df-4a43cace-b0ca-4169-bffe-a4e564b327cc');\n",
       "          const dataTable =\n",
       "            await google.colab.kernel.invokeFunction('convertToInteractive',\n",
       "                                                     [key], {});\n",
       "          if (!dataTable) return;\n",
       "\n",
       "          const docLinkHtml = 'Like what you see? Visit the ' +\n",
       "            '<a target=\"_blank\" href=https://colab.research.google.com/notebooks/data_table.ipynb>data table notebook</a>'\n",
       "            + ' to learn more about interactive tables.';\n",
       "          element.innerHTML = '';\n",
       "          dataTable['output_type'] = 'display_data';\n",
       "          await google.colab.output.renderOutput(dataTable, element);\n",
       "          const docLink = document.createElement('div');\n",
       "          docLink.innerHTML = docLinkHtml;\n",
       "          element.appendChild(docLink);\n",
       "        }\n",
       "      </script>\n",
       "    </div>\n",
       "  </div>\n",
       "  "
      ],
      "text/plain": [
       "                            precision  precision_std  ...    f1  f1_std\n",
       "Автомобили                       0.52           0.04  ...  0.57    0.02\n",
       "Ремонт и строительство           0.41           0.09  ...  0.26    0.04\n",
       "Одежда, обувь, аксессуары        0.52           0.01  ...  0.56    0.01\n",
       "Квартиры                         0.95           0.02  ...  0.85    0.02\n",
       "Бытовая техника                  0.41           0.10  ...  0.35    0.10\n",
       "Детская одежда и обувь           0.48           0.02  ...  0.56    0.02\n",
       "Товары для детей и игрушки       0.58           0.06  ...  0.40    0.02\n",
       "Предложение услуг                0.70           0.05  ...  0.59    0.03\n",
       "Телефоны                         0.75           0.04  ...  0.48    0.04\n",
       "Мебель и интерьер                0.45           0.07  ...  0.35    0.05\n",
       "mean                             0.58           0.05  ...  0.50    0.03\n",
       "\n",
       "[11 rows x 6 columns]"
      ]
     },
     "execution_count": 26,
     "metadata": {},
     "output_type": "execute_result"
    }
   ],
   "source": [
    "metrics_svd_kneighbors"
   ]
  },
  {
   "cell_type": "markdown",
   "metadata": {
    "id": "ZGqqH81Q4VzH"
   },
   "source": [
    "ExtraTrees + SVD"
   ]
  },
  {
   "cell_type": "code",
   "execution_count": null,
   "metadata": {
    "id": "cl6cQ_KCiL_j"
   },
   "outputs": [],
   "source": [
    "metrics_svd_extratrees, errors_svd_extratrees = eval_table(data['description_normalized'], data['category_name'], svd_extratrees)"
   ]
  },
  {
   "cell_type": "code",
   "execution_count": null,
   "metadata": {
    "colab": {
     "base_uri": "https://localhost:8080/",
     "height": 394
    },
    "id": "WGVIeuYg4Zk4",
    "outputId": "c136c329-a41a-4965-eef0-8df4ee536f5f"
   },
   "outputs": [
    {
     "data": {
      "text/html": [
       "\n",
       "  <div id=\"df-cbe3ea16-fb40-452b-9268-b5cf1cf5cf7f\">\n",
       "    <div class=\"colab-df-container\">\n",
       "      <div>\n",
       "<style scoped>\n",
       "    .dataframe tbody tr th:only-of-type {\n",
       "        vertical-align: middle;\n",
       "    }\n",
       "\n",
       "    .dataframe tbody tr th {\n",
       "        vertical-align: top;\n",
       "    }\n",
       "\n",
       "    .dataframe thead th {\n",
       "        text-align: right;\n",
       "    }\n",
       "</style>\n",
       "<table border=\"1\" class=\"dataframe\">\n",
       "  <thead>\n",
       "    <tr style=\"text-align: right;\">\n",
       "      <th></th>\n",
       "      <th>precision</th>\n",
       "      <th>precision_std</th>\n",
       "      <th>recall</th>\n",
       "      <th>recall_std</th>\n",
       "      <th>f1</th>\n",
       "      <th>f1_std</th>\n",
       "    </tr>\n",
       "  </thead>\n",
       "  <tbody>\n",
       "    <tr>\n",
       "      <th>Автомобили</th>\n",
       "      <td>0.83</td>\n",
       "      <td>0.04</td>\n",
       "      <td>0.44</td>\n",
       "      <td>0.05</td>\n",
       "      <td>0.57</td>\n",
       "      <td>0.04</td>\n",
       "    </tr>\n",
       "    <tr>\n",
       "      <th>Ремонт и строительство</th>\n",
       "      <td>0.64</td>\n",
       "      <td>0.13</td>\n",
       "      <td>0.10</td>\n",
       "      <td>0.02</td>\n",
       "      <td>0.17</td>\n",
       "      <td>0.03</td>\n",
       "    </tr>\n",
       "    <tr>\n",
       "      <th>Одежда, обувь, аксессуары</th>\n",
       "      <td>0.48</td>\n",
       "      <td>0.01</td>\n",
       "      <td>0.73</td>\n",
       "      <td>0.02</td>\n",
       "      <td>0.57</td>\n",
       "      <td>0.01</td>\n",
       "    </tr>\n",
       "    <tr>\n",
       "      <th>Квартиры</th>\n",
       "      <td>0.75</td>\n",
       "      <td>0.03</td>\n",
       "      <td>0.83</td>\n",
       "      <td>0.05</td>\n",
       "      <td>0.79</td>\n",
       "      <td>0.04</td>\n",
       "    </tr>\n",
       "    <tr>\n",
       "      <th>Бытовая техника</th>\n",
       "      <td>0.63</td>\n",
       "      <td>0.11</td>\n",
       "      <td>0.16</td>\n",
       "      <td>0.03</td>\n",
       "      <td>0.25</td>\n",
       "      <td>0.04</td>\n",
       "    </tr>\n",
       "    <tr>\n",
       "      <th>Детская одежда и обувь</th>\n",
       "      <td>0.46</td>\n",
       "      <td>0.01</td>\n",
       "      <td>0.73</td>\n",
       "      <td>0.02</td>\n",
       "      <td>0.56</td>\n",
       "      <td>0.01</td>\n",
       "    </tr>\n",
       "    <tr>\n",
       "      <th>Товары для детей и игрушки</th>\n",
       "      <td>0.67</td>\n",
       "      <td>0.04</td>\n",
       "      <td>0.20</td>\n",
       "      <td>0.04</td>\n",
       "      <td>0.30</td>\n",
       "      <td>0.05</td>\n",
       "    </tr>\n",
       "    <tr>\n",
       "      <th>Предложение услуг</th>\n",
       "      <td>0.82</td>\n",
       "      <td>0.05</td>\n",
       "      <td>0.28</td>\n",
       "      <td>0.05</td>\n",
       "      <td>0.41</td>\n",
       "      <td>0.06</td>\n",
       "    </tr>\n",
       "    <tr>\n",
       "      <th>Телефоны</th>\n",
       "      <td>0.88</td>\n",
       "      <td>0.05</td>\n",
       "      <td>0.37</td>\n",
       "      <td>0.05</td>\n",
       "      <td>0.52</td>\n",
       "      <td>0.05</td>\n",
       "    </tr>\n",
       "    <tr>\n",
       "      <th>Мебель и интерьер</th>\n",
       "      <td>0.76</td>\n",
       "      <td>0.07</td>\n",
       "      <td>0.16</td>\n",
       "      <td>0.04</td>\n",
       "      <td>0.26</td>\n",
       "      <td>0.06</td>\n",
       "    </tr>\n",
       "    <tr>\n",
       "      <th>mean</th>\n",
       "      <td>0.69</td>\n",
       "      <td>0.05</td>\n",
       "      <td>0.40</td>\n",
       "      <td>0.04</td>\n",
       "      <td>0.44</td>\n",
       "      <td>0.04</td>\n",
       "    </tr>\n",
       "  </tbody>\n",
       "</table>\n",
       "</div>\n",
       "      <button class=\"colab-df-convert\" onclick=\"convertToInteractive('df-cbe3ea16-fb40-452b-9268-b5cf1cf5cf7f')\"\n",
       "              title=\"Convert this dataframe to an interactive table.\"\n",
       "              style=\"display:none;\">\n",
       "        \n",
       "  <svg xmlns=\"http://www.w3.org/2000/svg\" height=\"24px\"viewBox=\"0 0 24 24\"\n",
       "       width=\"24px\">\n",
       "    <path d=\"M0 0h24v24H0V0z\" fill=\"none\"/>\n",
       "    <path d=\"M18.56 5.44l.94 2.06.94-2.06 2.06-.94-2.06-.94-.94-2.06-.94 2.06-2.06.94zm-11 1L8.5 8.5l.94-2.06 2.06-.94-2.06-.94L8.5 2.5l-.94 2.06-2.06.94zm10 10l.94 2.06.94-2.06 2.06-.94-2.06-.94-.94-2.06-.94 2.06-2.06.94z\"/><path d=\"M17.41 7.96l-1.37-1.37c-.4-.4-.92-.59-1.43-.59-.52 0-1.04.2-1.43.59L10.3 9.45l-7.72 7.72c-.78.78-.78 2.05 0 2.83L4 21.41c.39.39.9.59 1.41.59.51 0 1.02-.2 1.41-.59l7.78-7.78 2.81-2.81c.8-.78.8-2.07 0-2.86zM5.41 20L4 18.59l7.72-7.72 1.47 1.35L5.41 20z\"/>\n",
       "  </svg>\n",
       "      </button>\n",
       "      \n",
       "  <style>\n",
       "    .colab-df-container {\n",
       "      display:flex;\n",
       "      flex-wrap:wrap;\n",
       "      gap: 12px;\n",
       "    }\n",
       "\n",
       "    .colab-df-convert {\n",
       "      background-color: #E8F0FE;\n",
       "      border: none;\n",
       "      border-radius: 50%;\n",
       "      cursor: pointer;\n",
       "      display: none;\n",
       "      fill: #1967D2;\n",
       "      height: 32px;\n",
       "      padding: 0 0 0 0;\n",
       "      width: 32px;\n",
       "    }\n",
       "\n",
       "    .colab-df-convert:hover {\n",
       "      background-color: #E2EBFA;\n",
       "      box-shadow: 0px 1px 2px rgba(60, 64, 67, 0.3), 0px 1px 3px 1px rgba(60, 64, 67, 0.15);\n",
       "      fill: #174EA6;\n",
       "    }\n",
       "\n",
       "    [theme=dark] .colab-df-convert {\n",
       "      background-color: #3B4455;\n",
       "      fill: #D2E3FC;\n",
       "    }\n",
       "\n",
       "    [theme=dark] .colab-df-convert:hover {\n",
       "      background-color: #434B5C;\n",
       "      box-shadow: 0px 1px 3px 1px rgba(0, 0, 0, 0.15);\n",
       "      filter: drop-shadow(0px 1px 2px rgba(0, 0, 0, 0.3));\n",
       "      fill: #FFFFFF;\n",
       "    }\n",
       "  </style>\n",
       "\n",
       "      <script>\n",
       "        const buttonEl =\n",
       "          document.querySelector('#df-cbe3ea16-fb40-452b-9268-b5cf1cf5cf7f button.colab-df-convert');\n",
       "        buttonEl.style.display =\n",
       "          google.colab.kernel.accessAllowed ? 'block' : 'none';\n",
       "\n",
       "        async function convertToInteractive(key) {\n",
       "          const element = document.querySelector('#df-cbe3ea16-fb40-452b-9268-b5cf1cf5cf7f');\n",
       "          const dataTable =\n",
       "            await google.colab.kernel.invokeFunction('convertToInteractive',\n",
       "                                                     [key], {});\n",
       "          if (!dataTable) return;\n",
       "\n",
       "          const docLinkHtml = 'Like what you see? Visit the ' +\n",
       "            '<a target=\"_blank\" href=https://colab.research.google.com/notebooks/data_table.ipynb>data table notebook</a>'\n",
       "            + ' to learn more about interactive tables.';\n",
       "          element.innerHTML = '';\n",
       "          dataTable['output_type'] = 'display_data';\n",
       "          await google.colab.output.renderOutput(dataTable, element);\n",
       "          const docLink = document.createElement('div');\n",
       "          docLink.innerHTML = docLinkHtml;\n",
       "          element.appendChild(docLink);\n",
       "        }\n",
       "      </script>\n",
       "    </div>\n",
       "  </div>\n",
       "  "
      ],
      "text/plain": [
       "                            precision  precision_std  ...    f1  f1_std\n",
       "Автомобили                       0.83           0.04  ...  0.57    0.04\n",
       "Ремонт и строительство           0.64           0.13  ...  0.17    0.03\n",
       "Одежда, обувь, аксессуары        0.48           0.01  ...  0.57    0.01\n",
       "Квартиры                         0.75           0.03  ...  0.79    0.04\n",
       "Бытовая техника                  0.63           0.11  ...  0.25    0.04\n",
       "Детская одежда и обувь           0.46           0.01  ...  0.56    0.01\n",
       "Товары для детей и игрушки       0.67           0.04  ...  0.30    0.05\n",
       "Предложение услуг                0.82           0.05  ...  0.41    0.06\n",
       "Телефоны                         0.88           0.05  ...  0.52    0.05\n",
       "Мебель и интерьер                0.76           0.07  ...  0.26    0.06\n",
       "mean                             0.69           0.05  ...  0.44    0.04\n",
       "\n",
       "[11 rows x 6 columns]"
      ]
     },
     "execution_count": 27,
     "metadata": {},
     "output_type": "execute_result"
    }
   ],
   "source": [
    "metrics_svd_extratrees"
   ]
  },
  {
   "cell_type": "markdown",
   "metadata": {
    "id": "UTHFoPq141F_"
   },
   "source": [
    "SVD + SGD"
   ]
  },
  {
   "cell_type": "code",
   "execution_count": null,
   "metadata": {
    "id": "qcO439KriNAg"
   },
   "outputs": [],
   "source": [
    "metrics_svd_sgd, errors_svd_sgd = eval_table(data['description_normalized'], data['category_name'], svd_sgd)"
   ]
  },
  {
   "cell_type": "code",
   "execution_count": null,
   "metadata": {
    "colab": {
     "base_uri": "https://localhost:8080/",
     "height": 394
    },
    "id": "k72jIyBM432e",
    "outputId": "60816466-ef6b-4fec-993d-793caea4148b"
   },
   "outputs": [
    {
     "data": {
      "text/html": [
       "\n",
       "  <div id=\"df-4f182f4e-762e-4316-9ae8-845e02c78027\">\n",
       "    <div class=\"colab-df-container\">\n",
       "      <div>\n",
       "<style scoped>\n",
       "    .dataframe tbody tr th:only-of-type {\n",
       "        vertical-align: middle;\n",
       "    }\n",
       "\n",
       "    .dataframe tbody tr th {\n",
       "        vertical-align: top;\n",
       "    }\n",
       "\n",
       "    .dataframe thead th {\n",
       "        text-align: right;\n",
       "    }\n",
       "</style>\n",
       "<table border=\"1\" class=\"dataframe\">\n",
       "  <thead>\n",
       "    <tr style=\"text-align: right;\">\n",
       "      <th></th>\n",
       "      <th>precision</th>\n",
       "      <th>precision_std</th>\n",
       "      <th>recall</th>\n",
       "      <th>recall_std</th>\n",
       "      <th>f1</th>\n",
       "      <th>f1_std</th>\n",
       "    </tr>\n",
       "  </thead>\n",
       "  <tbody>\n",
       "    <tr>\n",
       "      <th>Автомобили</th>\n",
       "      <td>0.78</td>\n",
       "      <td>0.03</td>\n",
       "      <td>0.86</td>\n",
       "      <td>0.04</td>\n",
       "      <td>0.82</td>\n",
       "      <td>0.01</td>\n",
       "    </tr>\n",
       "    <tr>\n",
       "      <th>Ремонт и строительство</th>\n",
       "      <td>0.61</td>\n",
       "      <td>0.08</td>\n",
       "      <td>0.49</td>\n",
       "      <td>0.05</td>\n",
       "      <td>0.54</td>\n",
       "      <td>0.04</td>\n",
       "    </tr>\n",
       "    <tr>\n",
       "      <th>Одежда, обувь, аксессуары</th>\n",
       "      <td>0.71</td>\n",
       "      <td>0.04</td>\n",
       "      <td>0.75</td>\n",
       "      <td>0.04</td>\n",
       "      <td>0.73</td>\n",
       "      <td>0.03</td>\n",
       "    </tr>\n",
       "    <tr>\n",
       "      <th>Квартиры</th>\n",
       "      <td>0.94</td>\n",
       "      <td>0.02</td>\n",
       "      <td>0.91</td>\n",
       "      <td>0.02</td>\n",
       "      <td>0.93</td>\n",
       "      <td>0.02</td>\n",
       "    </tr>\n",
       "    <tr>\n",
       "      <th>Бытовая техника</th>\n",
       "      <td>0.65</td>\n",
       "      <td>0.05</td>\n",
       "      <td>0.50</td>\n",
       "      <td>0.03</td>\n",
       "      <td>0.56</td>\n",
       "      <td>0.02</td>\n",
       "    </tr>\n",
       "    <tr>\n",
       "      <th>Детская одежда и обувь</th>\n",
       "      <td>0.73</td>\n",
       "      <td>0.02</td>\n",
       "      <td>0.79</td>\n",
       "      <td>0.02</td>\n",
       "      <td>0.76</td>\n",
       "      <td>0.01</td>\n",
       "    </tr>\n",
       "    <tr>\n",
       "      <th>Товары для детей и игрушки</th>\n",
       "      <td>0.70</td>\n",
       "      <td>0.05</td>\n",
       "      <td>0.68</td>\n",
       "      <td>0.03</td>\n",
       "      <td>0.69</td>\n",
       "      <td>0.02</td>\n",
       "    </tr>\n",
       "    <tr>\n",
       "      <th>Предложение услуг</th>\n",
       "      <td>0.82</td>\n",
       "      <td>0.05</td>\n",
       "      <td>0.71</td>\n",
       "      <td>0.07</td>\n",
       "      <td>0.76</td>\n",
       "      <td>0.06</td>\n",
       "    </tr>\n",
       "    <tr>\n",
       "      <th>Телефоны</th>\n",
       "      <td>0.80</td>\n",
       "      <td>0.02</td>\n",
       "      <td>0.80</td>\n",
       "      <td>0.04</td>\n",
       "      <td>0.80</td>\n",
       "      <td>0.01</td>\n",
       "    </tr>\n",
       "    <tr>\n",
       "      <th>Мебель и интерьер</th>\n",
       "      <td>0.70</td>\n",
       "      <td>0.02</td>\n",
       "      <td>0.60</td>\n",
       "      <td>0.06</td>\n",
       "      <td>0.64</td>\n",
       "      <td>0.04</td>\n",
       "    </tr>\n",
       "    <tr>\n",
       "      <th>mean</th>\n",
       "      <td>0.74</td>\n",
       "      <td>0.04</td>\n",
       "      <td>0.71</td>\n",
       "      <td>0.04</td>\n",
       "      <td>0.72</td>\n",
       "      <td>0.03</td>\n",
       "    </tr>\n",
       "  </tbody>\n",
       "</table>\n",
       "</div>\n",
       "      <button class=\"colab-df-convert\" onclick=\"convertToInteractive('df-4f182f4e-762e-4316-9ae8-845e02c78027')\"\n",
       "              title=\"Convert this dataframe to an interactive table.\"\n",
       "              style=\"display:none;\">\n",
       "        \n",
       "  <svg xmlns=\"http://www.w3.org/2000/svg\" height=\"24px\"viewBox=\"0 0 24 24\"\n",
       "       width=\"24px\">\n",
       "    <path d=\"M0 0h24v24H0V0z\" fill=\"none\"/>\n",
       "    <path d=\"M18.56 5.44l.94 2.06.94-2.06 2.06-.94-2.06-.94-.94-2.06-.94 2.06-2.06.94zm-11 1L8.5 8.5l.94-2.06 2.06-.94-2.06-.94L8.5 2.5l-.94 2.06-2.06.94zm10 10l.94 2.06.94-2.06 2.06-.94-2.06-.94-.94-2.06-.94 2.06-2.06.94z\"/><path d=\"M17.41 7.96l-1.37-1.37c-.4-.4-.92-.59-1.43-.59-.52 0-1.04.2-1.43.59L10.3 9.45l-7.72 7.72c-.78.78-.78 2.05 0 2.83L4 21.41c.39.39.9.59 1.41.59.51 0 1.02-.2 1.41-.59l7.78-7.78 2.81-2.81c.8-.78.8-2.07 0-2.86zM5.41 20L4 18.59l7.72-7.72 1.47 1.35L5.41 20z\"/>\n",
       "  </svg>\n",
       "      </button>\n",
       "      \n",
       "  <style>\n",
       "    .colab-df-container {\n",
       "      display:flex;\n",
       "      flex-wrap:wrap;\n",
       "      gap: 12px;\n",
       "    }\n",
       "\n",
       "    .colab-df-convert {\n",
       "      background-color: #E8F0FE;\n",
       "      border: none;\n",
       "      border-radius: 50%;\n",
       "      cursor: pointer;\n",
       "      display: none;\n",
       "      fill: #1967D2;\n",
       "      height: 32px;\n",
       "      padding: 0 0 0 0;\n",
       "      width: 32px;\n",
       "    }\n",
       "\n",
       "    .colab-df-convert:hover {\n",
       "      background-color: #E2EBFA;\n",
       "      box-shadow: 0px 1px 2px rgba(60, 64, 67, 0.3), 0px 1px 3px 1px rgba(60, 64, 67, 0.15);\n",
       "      fill: #174EA6;\n",
       "    }\n",
       "\n",
       "    [theme=dark] .colab-df-convert {\n",
       "      background-color: #3B4455;\n",
       "      fill: #D2E3FC;\n",
       "    }\n",
       "\n",
       "    [theme=dark] .colab-df-convert:hover {\n",
       "      background-color: #434B5C;\n",
       "      box-shadow: 0px 1px 3px 1px rgba(0, 0, 0, 0.15);\n",
       "      filter: drop-shadow(0px 1px 2px rgba(0, 0, 0, 0.3));\n",
       "      fill: #FFFFFF;\n",
       "    }\n",
       "  </style>\n",
       "\n",
       "      <script>\n",
       "        const buttonEl =\n",
       "          document.querySelector('#df-4f182f4e-762e-4316-9ae8-845e02c78027 button.colab-df-convert');\n",
       "        buttonEl.style.display =\n",
       "          google.colab.kernel.accessAllowed ? 'block' : 'none';\n",
       "\n",
       "        async function convertToInteractive(key) {\n",
       "          const element = document.querySelector('#df-4f182f4e-762e-4316-9ae8-845e02c78027');\n",
       "          const dataTable =\n",
       "            await google.colab.kernel.invokeFunction('convertToInteractive',\n",
       "                                                     [key], {});\n",
       "          if (!dataTable) return;\n",
       "\n",
       "          const docLinkHtml = 'Like what you see? Visit the ' +\n",
       "            '<a target=\"_blank\" href=https://colab.research.google.com/notebooks/data_table.ipynb>data table notebook</a>'\n",
       "            + ' to learn more about interactive tables.';\n",
       "          element.innerHTML = '';\n",
       "          dataTable['output_type'] = 'display_data';\n",
       "          await google.colab.output.renderOutput(dataTable, element);\n",
       "          const docLink = document.createElement('div');\n",
       "          docLink.innerHTML = docLinkHtml;\n",
       "          element.appendChild(docLink);\n",
       "        }\n",
       "      </script>\n",
       "    </div>\n",
       "  </div>\n",
       "  "
      ],
      "text/plain": [
       "                            precision  precision_std  ...    f1  f1_std\n",
       "Автомобили                       0.78           0.03  ...  0.82    0.01\n",
       "Ремонт и строительство           0.61           0.08  ...  0.54    0.04\n",
       "Одежда, обувь, аксессуары        0.71           0.04  ...  0.73    0.03\n",
       "Квартиры                         0.94           0.02  ...  0.93    0.02\n",
       "Бытовая техника                  0.65           0.05  ...  0.56    0.02\n",
       "Детская одежда и обувь           0.73           0.02  ...  0.76    0.01\n",
       "Товары для детей и игрушки       0.70           0.05  ...  0.69    0.02\n",
       "Предложение услуг                0.82           0.05  ...  0.76    0.06\n",
       "Телефоны                         0.80           0.02  ...  0.80    0.01\n",
       "Мебель и интерьер                0.70           0.02  ...  0.64    0.04\n",
       "mean                             0.74           0.04  ...  0.72    0.03\n",
       "\n",
       "[11 rows x 6 columns]"
      ]
     },
     "execution_count": 28,
     "metadata": {},
     "output_type": "execute_result"
    }
   ],
   "source": [
    "metrics_svd_sgd"
   ]
  },
  {
   "cell_type": "markdown",
   "metadata": {
    "id": "vj_EEiGSX57T"
   },
   "source": [
    "#### Рассчет метрик для классификаторов с NMF"
   ]
  },
  {
   "cell_type": "markdown",
   "metadata": {
    "id": "-lViXy774_lN"
   },
   "source": [
    "Random Forest + NMF"
   ]
  },
  {
   "cell_type": "code",
   "execution_count": null,
   "metadata": {
    "id": "oFeIjWXCX8QD"
   },
   "outputs": [],
   "source": [
    "metrics_nmf_randomforest, errors_nmf_randomforest = eval_table(data['description_normalized'], data['category_name'], nmf_randomforest)"
   ]
  },
  {
   "cell_type": "code",
   "execution_count": null,
   "metadata": {
    "colab": {
     "base_uri": "https://localhost:8080/",
     "height": 394
    },
    "id": "3RVFSXUS5DCW",
    "outputId": "4524dda6-c5c1-4252-8855-fc193285c722"
   },
   "outputs": [
    {
     "data": {
      "text/html": [
       "\n",
       "  <div id=\"df-8b84b1b6-080e-4d00-8f98-6d8b6b95edd2\">\n",
       "    <div class=\"colab-df-container\">\n",
       "      <div>\n",
       "<style scoped>\n",
       "    .dataframe tbody tr th:only-of-type {\n",
       "        vertical-align: middle;\n",
       "    }\n",
       "\n",
       "    .dataframe tbody tr th {\n",
       "        vertical-align: top;\n",
       "    }\n",
       "\n",
       "    .dataframe thead th {\n",
       "        text-align: right;\n",
       "    }\n",
       "</style>\n",
       "<table border=\"1\" class=\"dataframe\">\n",
       "  <thead>\n",
       "    <tr style=\"text-align: right;\">\n",
       "      <th></th>\n",
       "      <th>precision</th>\n",
       "      <th>precision_std</th>\n",
       "      <th>recall</th>\n",
       "      <th>recall_std</th>\n",
       "      <th>f1</th>\n",
       "      <th>f1_std</th>\n",
       "    </tr>\n",
       "  </thead>\n",
       "  <tbody>\n",
       "    <tr>\n",
       "      <th>Автомобили</th>\n",
       "      <td>0.83</td>\n",
       "      <td>0.06</td>\n",
       "      <td>0.78</td>\n",
       "      <td>0.03</td>\n",
       "      <td>0.80</td>\n",
       "      <td>0.04</td>\n",
       "    </tr>\n",
       "    <tr>\n",
       "      <th>Ремонт и строительство</th>\n",
       "      <td>0.71</td>\n",
       "      <td>0.08</td>\n",
       "      <td>0.24</td>\n",
       "      <td>0.06</td>\n",
       "      <td>0.35</td>\n",
       "      <td>0.07</td>\n",
       "    </tr>\n",
       "    <tr>\n",
       "      <th>Одежда, обувь, аксессуары</th>\n",
       "      <td>0.50</td>\n",
       "      <td>0.01</td>\n",
       "      <td>0.81</td>\n",
       "      <td>0.01</td>\n",
       "      <td>0.61</td>\n",
       "      <td>0.01</td>\n",
       "    </tr>\n",
       "    <tr>\n",
       "      <th>Квартиры</th>\n",
       "      <td>0.93</td>\n",
       "      <td>0.01</td>\n",
       "      <td>0.94</td>\n",
       "      <td>0.02</td>\n",
       "      <td>0.93</td>\n",
       "      <td>0.02</td>\n",
       "    </tr>\n",
       "    <tr>\n",
       "      <th>Бытовая техника</th>\n",
       "      <td>0.67</td>\n",
       "      <td>0.52</td>\n",
       "      <td>0.03</td>\n",
       "      <td>0.03</td>\n",
       "      <td>0.06</td>\n",
       "      <td>0.06</td>\n",
       "    </tr>\n",
       "    <tr>\n",
       "      <th>Детская одежда и обувь</th>\n",
       "      <td>0.67</td>\n",
       "      <td>0.02</td>\n",
       "      <td>0.67</td>\n",
       "      <td>0.02</td>\n",
       "      <td>0.67</td>\n",
       "      <td>0.02</td>\n",
       "    </tr>\n",
       "    <tr>\n",
       "      <th>Товары для детей и игрушки</th>\n",
       "      <td>0.80</td>\n",
       "      <td>0.08</td>\n",
       "      <td>0.46</td>\n",
       "      <td>0.02</td>\n",
       "      <td>0.58</td>\n",
       "      <td>0.03</td>\n",
       "    </tr>\n",
       "    <tr>\n",
       "      <th>Предложение услуг</th>\n",
       "      <td>0.69</td>\n",
       "      <td>0.03</td>\n",
       "      <td>0.57</td>\n",
       "      <td>0.09</td>\n",
       "      <td>0.62</td>\n",
       "      <td>0.07</td>\n",
       "    </tr>\n",
       "    <tr>\n",
       "      <th>Телефоны</th>\n",
       "      <td>0.78</td>\n",
       "      <td>0.04</td>\n",
       "      <td>0.68</td>\n",
       "      <td>0.03</td>\n",
       "      <td>0.73</td>\n",
       "      <td>0.02</td>\n",
       "    </tr>\n",
       "    <tr>\n",
       "      <th>Мебель и интерьер</th>\n",
       "      <td>0.67</td>\n",
       "      <td>0.11</td>\n",
       "      <td>0.31</td>\n",
       "      <td>0.04</td>\n",
       "      <td>0.42</td>\n",
       "      <td>0.05</td>\n",
       "    </tr>\n",
       "    <tr>\n",
       "      <th>mean</th>\n",
       "      <td>0.73</td>\n",
       "      <td>0.10</td>\n",
       "      <td>0.55</td>\n",
       "      <td>0.03</td>\n",
       "      <td>0.58</td>\n",
       "      <td>0.04</td>\n",
       "    </tr>\n",
       "  </tbody>\n",
       "</table>\n",
       "</div>\n",
       "      <button class=\"colab-df-convert\" onclick=\"convertToInteractive('df-8b84b1b6-080e-4d00-8f98-6d8b6b95edd2')\"\n",
       "              title=\"Convert this dataframe to an interactive table.\"\n",
       "              style=\"display:none;\">\n",
       "        \n",
       "  <svg xmlns=\"http://www.w3.org/2000/svg\" height=\"24px\"viewBox=\"0 0 24 24\"\n",
       "       width=\"24px\">\n",
       "    <path d=\"M0 0h24v24H0V0z\" fill=\"none\"/>\n",
       "    <path d=\"M18.56 5.44l.94 2.06.94-2.06 2.06-.94-2.06-.94-.94-2.06-.94 2.06-2.06.94zm-11 1L8.5 8.5l.94-2.06 2.06-.94-2.06-.94L8.5 2.5l-.94 2.06-2.06.94zm10 10l.94 2.06.94-2.06 2.06-.94-2.06-.94-.94-2.06-.94 2.06-2.06.94z\"/><path d=\"M17.41 7.96l-1.37-1.37c-.4-.4-.92-.59-1.43-.59-.52 0-1.04.2-1.43.59L10.3 9.45l-7.72 7.72c-.78.78-.78 2.05 0 2.83L4 21.41c.39.39.9.59 1.41.59.51 0 1.02-.2 1.41-.59l7.78-7.78 2.81-2.81c.8-.78.8-2.07 0-2.86zM5.41 20L4 18.59l7.72-7.72 1.47 1.35L5.41 20z\"/>\n",
       "  </svg>\n",
       "      </button>\n",
       "      \n",
       "  <style>\n",
       "    .colab-df-container {\n",
       "      display:flex;\n",
       "      flex-wrap:wrap;\n",
       "      gap: 12px;\n",
       "    }\n",
       "\n",
       "    .colab-df-convert {\n",
       "      background-color: #E8F0FE;\n",
       "      border: none;\n",
       "      border-radius: 50%;\n",
       "      cursor: pointer;\n",
       "      display: none;\n",
       "      fill: #1967D2;\n",
       "      height: 32px;\n",
       "      padding: 0 0 0 0;\n",
       "      width: 32px;\n",
       "    }\n",
       "\n",
       "    .colab-df-convert:hover {\n",
       "      background-color: #E2EBFA;\n",
       "      box-shadow: 0px 1px 2px rgba(60, 64, 67, 0.3), 0px 1px 3px 1px rgba(60, 64, 67, 0.15);\n",
       "      fill: #174EA6;\n",
       "    }\n",
       "\n",
       "    [theme=dark] .colab-df-convert {\n",
       "      background-color: #3B4455;\n",
       "      fill: #D2E3FC;\n",
       "    }\n",
       "\n",
       "    [theme=dark] .colab-df-convert:hover {\n",
       "      background-color: #434B5C;\n",
       "      box-shadow: 0px 1px 3px 1px rgba(0, 0, 0, 0.15);\n",
       "      filter: drop-shadow(0px 1px 2px rgba(0, 0, 0, 0.3));\n",
       "      fill: #FFFFFF;\n",
       "    }\n",
       "  </style>\n",
       "\n",
       "      <script>\n",
       "        const buttonEl =\n",
       "          document.querySelector('#df-8b84b1b6-080e-4d00-8f98-6d8b6b95edd2 button.colab-df-convert');\n",
       "        buttonEl.style.display =\n",
       "          google.colab.kernel.accessAllowed ? 'block' : 'none';\n",
       "\n",
       "        async function convertToInteractive(key) {\n",
       "          const element = document.querySelector('#df-8b84b1b6-080e-4d00-8f98-6d8b6b95edd2');\n",
       "          const dataTable =\n",
       "            await google.colab.kernel.invokeFunction('convertToInteractive',\n",
       "                                                     [key], {});\n",
       "          if (!dataTable) return;\n",
       "\n",
       "          const docLinkHtml = 'Like what you see? Visit the ' +\n",
       "            '<a target=\"_blank\" href=https://colab.research.google.com/notebooks/data_table.ipynb>data table notebook</a>'\n",
       "            + ' to learn more about interactive tables.';\n",
       "          element.innerHTML = '';\n",
       "          dataTable['output_type'] = 'display_data';\n",
       "          await google.colab.output.renderOutput(dataTable, element);\n",
       "          const docLink = document.createElement('div');\n",
       "          docLink.innerHTML = docLinkHtml;\n",
       "          element.appendChild(docLink);\n",
       "        }\n",
       "      </script>\n",
       "    </div>\n",
       "  </div>\n",
       "  "
      ],
      "text/plain": [
       "                            precision  precision_std  ...    f1  f1_std\n",
       "Автомобили                       0.83           0.06  ...  0.80    0.04\n",
       "Ремонт и строительство           0.71           0.08  ...  0.35    0.07\n",
       "Одежда, обувь, аксессуары        0.50           0.01  ...  0.61    0.01\n",
       "Квартиры                         0.93           0.01  ...  0.93    0.02\n",
       "Бытовая техника                  0.67           0.52  ...  0.06    0.06\n",
       "Детская одежда и обувь           0.67           0.02  ...  0.67    0.02\n",
       "Товары для детей и игрушки       0.80           0.08  ...  0.58    0.03\n",
       "Предложение услуг                0.69           0.03  ...  0.62    0.07\n",
       "Телефоны                         0.78           0.04  ...  0.73    0.02\n",
       "Мебель и интерьер                0.67           0.11  ...  0.42    0.05\n",
       "mean                             0.73           0.10  ...  0.58    0.04\n",
       "\n",
       "[11 rows x 6 columns]"
      ]
     },
     "execution_count": 29,
     "metadata": {},
     "output_type": "execute_result"
    }
   ],
   "source": [
    "metrics_nmf_randomforest"
   ]
  },
  {
   "cell_type": "markdown",
   "metadata": {
    "id": "QTAOT7Bk5Fey"
   },
   "source": [
    "KNN + NMF"
   ]
  },
  {
   "cell_type": "code",
   "execution_count": null,
   "metadata": {
    "id": "KTgG285nYif9"
   },
   "outputs": [],
   "source": [
    "metrics_nmf_kneighbors, errors_nmf_kneighbors = eval_table(data['description_normalized'], data['category_name'], nmf_kneighbors)"
   ]
  },
  {
   "cell_type": "code",
   "execution_count": null,
   "metadata": {
    "colab": {
     "base_uri": "https://localhost:8080/",
     "height": 394
    },
    "id": "yHF6zwuf5IkL",
    "outputId": "c9d035c9-a016-42a1-b01d-367513373c29"
   },
   "outputs": [
    {
     "data": {
      "text/html": [
       "\n",
       "  <div id=\"df-f270fadc-4f95-4de1-9057-63db90575226\">\n",
       "    <div class=\"colab-df-container\">\n",
       "      <div>\n",
       "<style scoped>\n",
       "    .dataframe tbody tr th:only-of-type {\n",
       "        vertical-align: middle;\n",
       "    }\n",
       "\n",
       "    .dataframe tbody tr th {\n",
       "        vertical-align: top;\n",
       "    }\n",
       "\n",
       "    .dataframe thead th {\n",
       "        text-align: right;\n",
       "    }\n",
       "</style>\n",
       "<table border=\"1\" class=\"dataframe\">\n",
       "  <thead>\n",
       "    <tr style=\"text-align: right;\">\n",
       "      <th></th>\n",
       "      <th>precision</th>\n",
       "      <th>precision_std</th>\n",
       "      <th>recall</th>\n",
       "      <th>recall_std</th>\n",
       "      <th>f1</th>\n",
       "      <th>f1_std</th>\n",
       "    </tr>\n",
       "  </thead>\n",
       "  <tbody>\n",
       "    <tr>\n",
       "      <th>Автомобили</th>\n",
       "      <td>0.51</td>\n",
       "      <td>0.04</td>\n",
       "      <td>0.65</td>\n",
       "      <td>0.05</td>\n",
       "      <td>0.57</td>\n",
       "      <td>0.04</td>\n",
       "    </tr>\n",
       "    <tr>\n",
       "      <th>Ремонт и строительство</th>\n",
       "      <td>0.38</td>\n",
       "      <td>0.09</td>\n",
       "      <td>0.17</td>\n",
       "      <td>0.05</td>\n",
       "      <td>0.24</td>\n",
       "      <td>0.06</td>\n",
       "    </tr>\n",
       "    <tr>\n",
       "      <th>Одежда, обувь, аксессуары</th>\n",
       "      <td>0.49</td>\n",
       "      <td>0.02</td>\n",
       "      <td>0.56</td>\n",
       "      <td>0.05</td>\n",
       "      <td>0.52</td>\n",
       "      <td>0.03</td>\n",
       "    </tr>\n",
       "    <tr>\n",
       "      <th>Квартиры</th>\n",
       "      <td>0.92</td>\n",
       "      <td>0.02</td>\n",
       "      <td>0.80</td>\n",
       "      <td>0.05</td>\n",
       "      <td>0.85</td>\n",
       "      <td>0.03</td>\n",
       "    </tr>\n",
       "    <tr>\n",
       "      <th>Бытовая техника</th>\n",
       "      <td>0.29</td>\n",
       "      <td>0.06</td>\n",
       "      <td>0.19</td>\n",
       "      <td>0.05</td>\n",
       "      <td>0.23</td>\n",
       "      <td>0.05</td>\n",
       "    </tr>\n",
       "    <tr>\n",
       "      <th>Детская одежда и обувь</th>\n",
       "      <td>0.45</td>\n",
       "      <td>0.02</td>\n",
       "      <td>0.59</td>\n",
       "      <td>0.01</td>\n",
       "      <td>0.51</td>\n",
       "      <td>0.01</td>\n",
       "    </tr>\n",
       "    <tr>\n",
       "      <th>Товары для детей и игрушки</th>\n",
       "      <td>0.53</td>\n",
       "      <td>0.08</td>\n",
       "      <td>0.28</td>\n",
       "      <td>0.07</td>\n",
       "      <td>0.36</td>\n",
       "      <td>0.07</td>\n",
       "    </tr>\n",
       "    <tr>\n",
       "      <th>Предложение услуг</th>\n",
       "      <td>0.54</td>\n",
       "      <td>0.08</td>\n",
       "      <td>0.57</td>\n",
       "      <td>0.07</td>\n",
       "      <td>0.55</td>\n",
       "      <td>0.04</td>\n",
       "    </tr>\n",
       "    <tr>\n",
       "      <th>Телефоны</th>\n",
       "      <td>0.73</td>\n",
       "      <td>0.09</td>\n",
       "      <td>0.44</td>\n",
       "      <td>0.09</td>\n",
       "      <td>0.55</td>\n",
       "      <td>0.08</td>\n",
       "    </tr>\n",
       "    <tr>\n",
       "      <th>Мебель и интерьер</th>\n",
       "      <td>0.27</td>\n",
       "      <td>0.09</td>\n",
       "      <td>0.20</td>\n",
       "      <td>0.07</td>\n",
       "      <td>0.23</td>\n",
       "      <td>0.08</td>\n",
       "    </tr>\n",
       "    <tr>\n",
       "      <th>mean</th>\n",
       "      <td>0.51</td>\n",
       "      <td>0.06</td>\n",
       "      <td>0.44</td>\n",
       "      <td>0.06</td>\n",
       "      <td>0.46</td>\n",
       "      <td>0.05</td>\n",
       "    </tr>\n",
       "  </tbody>\n",
       "</table>\n",
       "</div>\n",
       "      <button class=\"colab-df-convert\" onclick=\"convertToInteractive('df-f270fadc-4f95-4de1-9057-63db90575226')\"\n",
       "              title=\"Convert this dataframe to an interactive table.\"\n",
       "              style=\"display:none;\">\n",
       "        \n",
       "  <svg xmlns=\"http://www.w3.org/2000/svg\" height=\"24px\"viewBox=\"0 0 24 24\"\n",
       "       width=\"24px\">\n",
       "    <path d=\"M0 0h24v24H0V0z\" fill=\"none\"/>\n",
       "    <path d=\"M18.56 5.44l.94 2.06.94-2.06 2.06-.94-2.06-.94-.94-2.06-.94 2.06-2.06.94zm-11 1L8.5 8.5l.94-2.06 2.06-.94-2.06-.94L8.5 2.5l-.94 2.06-2.06.94zm10 10l.94 2.06.94-2.06 2.06-.94-2.06-.94-.94-2.06-.94 2.06-2.06.94z\"/><path d=\"M17.41 7.96l-1.37-1.37c-.4-.4-.92-.59-1.43-.59-.52 0-1.04.2-1.43.59L10.3 9.45l-7.72 7.72c-.78.78-.78 2.05 0 2.83L4 21.41c.39.39.9.59 1.41.59.51 0 1.02-.2 1.41-.59l7.78-7.78 2.81-2.81c.8-.78.8-2.07 0-2.86zM5.41 20L4 18.59l7.72-7.72 1.47 1.35L5.41 20z\"/>\n",
       "  </svg>\n",
       "      </button>\n",
       "      \n",
       "  <style>\n",
       "    .colab-df-container {\n",
       "      display:flex;\n",
       "      flex-wrap:wrap;\n",
       "      gap: 12px;\n",
       "    }\n",
       "\n",
       "    .colab-df-convert {\n",
       "      background-color: #E8F0FE;\n",
       "      border: none;\n",
       "      border-radius: 50%;\n",
       "      cursor: pointer;\n",
       "      display: none;\n",
       "      fill: #1967D2;\n",
       "      height: 32px;\n",
       "      padding: 0 0 0 0;\n",
       "      width: 32px;\n",
       "    }\n",
       "\n",
       "    .colab-df-convert:hover {\n",
       "      background-color: #E2EBFA;\n",
       "      box-shadow: 0px 1px 2px rgba(60, 64, 67, 0.3), 0px 1px 3px 1px rgba(60, 64, 67, 0.15);\n",
       "      fill: #174EA6;\n",
       "    }\n",
       "\n",
       "    [theme=dark] .colab-df-convert {\n",
       "      background-color: #3B4455;\n",
       "      fill: #D2E3FC;\n",
       "    }\n",
       "\n",
       "    [theme=dark] .colab-df-convert:hover {\n",
       "      background-color: #434B5C;\n",
       "      box-shadow: 0px 1px 3px 1px rgba(0, 0, 0, 0.15);\n",
       "      filter: drop-shadow(0px 1px 2px rgba(0, 0, 0, 0.3));\n",
       "      fill: #FFFFFF;\n",
       "    }\n",
       "  </style>\n",
       "\n",
       "      <script>\n",
       "        const buttonEl =\n",
       "          document.querySelector('#df-f270fadc-4f95-4de1-9057-63db90575226 button.colab-df-convert');\n",
       "        buttonEl.style.display =\n",
       "          google.colab.kernel.accessAllowed ? 'block' : 'none';\n",
       "\n",
       "        async function convertToInteractive(key) {\n",
       "          const element = document.querySelector('#df-f270fadc-4f95-4de1-9057-63db90575226');\n",
       "          const dataTable =\n",
       "            await google.colab.kernel.invokeFunction('convertToInteractive',\n",
       "                                                     [key], {});\n",
       "          if (!dataTable) return;\n",
       "\n",
       "          const docLinkHtml = 'Like what you see? Visit the ' +\n",
       "            '<a target=\"_blank\" href=https://colab.research.google.com/notebooks/data_table.ipynb>data table notebook</a>'\n",
       "            + ' to learn more about interactive tables.';\n",
       "          element.innerHTML = '';\n",
       "          dataTable['output_type'] = 'display_data';\n",
       "          await google.colab.output.renderOutput(dataTable, element);\n",
       "          const docLink = document.createElement('div');\n",
       "          docLink.innerHTML = docLinkHtml;\n",
       "          element.appendChild(docLink);\n",
       "        }\n",
       "      </script>\n",
       "    </div>\n",
       "  </div>\n",
       "  "
      ],
      "text/plain": [
       "                            precision  precision_std  ...    f1  f1_std\n",
       "Автомобили                       0.51           0.04  ...  0.57    0.04\n",
       "Ремонт и строительство           0.38           0.09  ...  0.24    0.06\n",
       "Одежда, обувь, аксессуары        0.49           0.02  ...  0.52    0.03\n",
       "Квартиры                         0.92           0.02  ...  0.85    0.03\n",
       "Бытовая техника                  0.29           0.06  ...  0.23    0.05\n",
       "Детская одежда и обувь           0.45           0.02  ...  0.51    0.01\n",
       "Товары для детей и игрушки       0.53           0.08  ...  0.36    0.07\n",
       "Предложение услуг                0.54           0.08  ...  0.55    0.04\n",
       "Телефоны                         0.73           0.09  ...  0.55    0.08\n",
       "Мебель и интерьер                0.27           0.09  ...  0.23    0.08\n",
       "mean                             0.51           0.06  ...  0.46    0.05\n",
       "\n",
       "[11 rows x 6 columns]"
      ]
     },
     "execution_count": 30,
     "metadata": {},
     "output_type": "execute_result"
    }
   ],
   "source": [
    "metrics_nmf_kneighbors"
   ]
  },
  {
   "cell_type": "markdown",
   "metadata": {
    "id": "0zI5j7_e5KNW"
   },
   "source": [
    "ExtraTrees + NMF"
   ]
  },
  {
   "cell_type": "code",
   "execution_count": null,
   "metadata": {
    "id": "tF_uklZrYip3"
   },
   "outputs": [],
   "source": [
    "metrics_nmf_extratrees, errors_nmf_extratrees = eval_table(data['description_normalized'], data['category_name'], nmf_extratrees)"
   ]
  },
  {
   "cell_type": "code",
   "execution_count": null,
   "metadata": {
    "colab": {
     "base_uri": "https://localhost:8080/",
     "height": 394
    },
    "id": "YTRE4Aq15NDw",
    "outputId": "c65c4630-fb8c-4578-df94-d11d225222e3"
   },
   "outputs": [
    {
     "data": {
      "text/html": [
       "\n",
       "  <div id=\"df-ffd44422-db60-46ca-9bfa-31088d866104\">\n",
       "    <div class=\"colab-df-container\">\n",
       "      <div>\n",
       "<style scoped>\n",
       "    .dataframe tbody tr th:only-of-type {\n",
       "        vertical-align: middle;\n",
       "    }\n",
       "\n",
       "    .dataframe tbody tr th {\n",
       "        vertical-align: top;\n",
       "    }\n",
       "\n",
       "    .dataframe thead th {\n",
       "        text-align: right;\n",
       "    }\n",
       "</style>\n",
       "<table border=\"1\" class=\"dataframe\">\n",
       "  <thead>\n",
       "    <tr style=\"text-align: right;\">\n",
       "      <th></th>\n",
       "      <th>precision</th>\n",
       "      <th>precision_std</th>\n",
       "      <th>recall</th>\n",
       "      <th>recall_std</th>\n",
       "      <th>f1</th>\n",
       "      <th>f1_std</th>\n",
       "    </tr>\n",
       "  </thead>\n",
       "  <tbody>\n",
       "    <tr>\n",
       "      <th>Автомобили</th>\n",
       "      <td>0.78</td>\n",
       "      <td>0.04</td>\n",
       "      <td>0.86</td>\n",
       "      <td>0.02</td>\n",
       "      <td>0.81</td>\n",
       "      <td>0.03</td>\n",
       "    </tr>\n",
       "    <tr>\n",
       "      <th>Ремонт и строительство</th>\n",
       "      <td>0.61</td>\n",
       "      <td>0.05</td>\n",
       "      <td>0.39</td>\n",
       "      <td>0.05</td>\n",
       "      <td>0.47</td>\n",
       "      <td>0.04</td>\n",
       "    </tr>\n",
       "    <tr>\n",
       "      <th>Одежда, обувь, аксессуары</th>\n",
       "      <td>0.62</td>\n",
       "      <td>0.01</td>\n",
       "      <td>0.71</td>\n",
       "      <td>0.03</td>\n",
       "      <td>0.66</td>\n",
       "      <td>0.02</td>\n",
       "    </tr>\n",
       "    <tr>\n",
       "      <th>Квартиры</th>\n",
       "      <td>0.92</td>\n",
       "      <td>0.01</td>\n",
       "      <td>0.96</td>\n",
       "      <td>0.01</td>\n",
       "      <td>0.94</td>\n",
       "      <td>0.01</td>\n",
       "    </tr>\n",
       "    <tr>\n",
       "      <th>Бытовая техника</th>\n",
       "      <td>0.54</td>\n",
       "      <td>0.06</td>\n",
       "      <td>0.20</td>\n",
       "      <td>0.05</td>\n",
       "      <td>0.29</td>\n",
       "      <td>0.05</td>\n",
       "    </tr>\n",
       "    <tr>\n",
       "      <th>Детская одежда и обувь</th>\n",
       "      <td>0.64</td>\n",
       "      <td>0.02</td>\n",
       "      <td>0.72</td>\n",
       "      <td>0.02</td>\n",
       "      <td>0.67</td>\n",
       "      <td>0.02</td>\n",
       "    </tr>\n",
       "    <tr>\n",
       "      <th>Товары для детей и игрушки</th>\n",
       "      <td>0.66</td>\n",
       "      <td>0.03</td>\n",
       "      <td>0.53</td>\n",
       "      <td>0.05</td>\n",
       "      <td>0.59</td>\n",
       "      <td>0.03</td>\n",
       "    </tr>\n",
       "    <tr>\n",
       "      <th>Предложение услуг</th>\n",
       "      <td>0.70</td>\n",
       "      <td>0.02</td>\n",
       "      <td>0.76</td>\n",
       "      <td>0.03</td>\n",
       "      <td>0.73</td>\n",
       "      <td>0.02</td>\n",
       "    </tr>\n",
       "    <tr>\n",
       "      <th>Телефоны</th>\n",
       "      <td>0.82</td>\n",
       "      <td>0.04</td>\n",
       "      <td>0.73</td>\n",
       "      <td>0.08</td>\n",
       "      <td>0.77</td>\n",
       "      <td>0.04</td>\n",
       "    </tr>\n",
       "    <tr>\n",
       "      <th>Мебель и интерьер</th>\n",
       "      <td>0.64</td>\n",
       "      <td>0.05</td>\n",
       "      <td>0.42</td>\n",
       "      <td>0.04</td>\n",
       "      <td>0.50</td>\n",
       "      <td>0.04</td>\n",
       "    </tr>\n",
       "    <tr>\n",
       "      <th>mean</th>\n",
       "      <td>0.69</td>\n",
       "      <td>0.03</td>\n",
       "      <td>0.63</td>\n",
       "      <td>0.04</td>\n",
       "      <td>0.64</td>\n",
       "      <td>0.03</td>\n",
       "    </tr>\n",
       "  </tbody>\n",
       "</table>\n",
       "</div>\n",
       "      <button class=\"colab-df-convert\" onclick=\"convertToInteractive('df-ffd44422-db60-46ca-9bfa-31088d866104')\"\n",
       "              title=\"Convert this dataframe to an interactive table.\"\n",
       "              style=\"display:none;\">\n",
       "        \n",
       "  <svg xmlns=\"http://www.w3.org/2000/svg\" height=\"24px\"viewBox=\"0 0 24 24\"\n",
       "       width=\"24px\">\n",
       "    <path d=\"M0 0h24v24H0V0z\" fill=\"none\"/>\n",
       "    <path d=\"M18.56 5.44l.94 2.06.94-2.06 2.06-.94-2.06-.94-.94-2.06-.94 2.06-2.06.94zm-11 1L8.5 8.5l.94-2.06 2.06-.94-2.06-.94L8.5 2.5l-.94 2.06-2.06.94zm10 10l.94 2.06.94-2.06 2.06-.94-2.06-.94-.94-2.06-.94 2.06-2.06.94z\"/><path d=\"M17.41 7.96l-1.37-1.37c-.4-.4-.92-.59-1.43-.59-.52 0-1.04.2-1.43.59L10.3 9.45l-7.72 7.72c-.78.78-.78 2.05 0 2.83L4 21.41c.39.39.9.59 1.41.59.51 0 1.02-.2 1.41-.59l7.78-7.78 2.81-2.81c.8-.78.8-2.07 0-2.86zM5.41 20L4 18.59l7.72-7.72 1.47 1.35L5.41 20z\"/>\n",
       "  </svg>\n",
       "      </button>\n",
       "      \n",
       "  <style>\n",
       "    .colab-df-container {\n",
       "      display:flex;\n",
       "      flex-wrap:wrap;\n",
       "      gap: 12px;\n",
       "    }\n",
       "\n",
       "    .colab-df-convert {\n",
       "      background-color: #E8F0FE;\n",
       "      border: none;\n",
       "      border-radius: 50%;\n",
       "      cursor: pointer;\n",
       "      display: none;\n",
       "      fill: #1967D2;\n",
       "      height: 32px;\n",
       "      padding: 0 0 0 0;\n",
       "      width: 32px;\n",
       "    }\n",
       "\n",
       "    .colab-df-convert:hover {\n",
       "      background-color: #E2EBFA;\n",
       "      box-shadow: 0px 1px 2px rgba(60, 64, 67, 0.3), 0px 1px 3px 1px rgba(60, 64, 67, 0.15);\n",
       "      fill: #174EA6;\n",
       "    }\n",
       "\n",
       "    [theme=dark] .colab-df-convert {\n",
       "      background-color: #3B4455;\n",
       "      fill: #D2E3FC;\n",
       "    }\n",
       "\n",
       "    [theme=dark] .colab-df-convert:hover {\n",
       "      background-color: #434B5C;\n",
       "      box-shadow: 0px 1px 3px 1px rgba(0, 0, 0, 0.15);\n",
       "      filter: drop-shadow(0px 1px 2px rgba(0, 0, 0, 0.3));\n",
       "      fill: #FFFFFF;\n",
       "    }\n",
       "  </style>\n",
       "\n",
       "      <script>\n",
       "        const buttonEl =\n",
       "          document.querySelector('#df-ffd44422-db60-46ca-9bfa-31088d866104 button.colab-df-convert');\n",
       "        buttonEl.style.display =\n",
       "          google.colab.kernel.accessAllowed ? 'block' : 'none';\n",
       "\n",
       "        async function convertToInteractive(key) {\n",
       "          const element = document.querySelector('#df-ffd44422-db60-46ca-9bfa-31088d866104');\n",
       "          const dataTable =\n",
       "            await google.colab.kernel.invokeFunction('convertToInteractive',\n",
       "                                                     [key], {});\n",
       "          if (!dataTable) return;\n",
       "\n",
       "          const docLinkHtml = 'Like what you see? Visit the ' +\n",
       "            '<a target=\"_blank\" href=https://colab.research.google.com/notebooks/data_table.ipynb>data table notebook</a>'\n",
       "            + ' to learn more about interactive tables.';\n",
       "          element.innerHTML = '';\n",
       "          dataTable['output_type'] = 'display_data';\n",
       "          await google.colab.output.renderOutput(dataTable, element);\n",
       "          const docLink = document.createElement('div');\n",
       "          docLink.innerHTML = docLinkHtml;\n",
       "          element.appendChild(docLink);\n",
       "        }\n",
       "      </script>\n",
       "    </div>\n",
       "  </div>\n",
       "  "
      ],
      "text/plain": [
       "                            precision  precision_std  ...    f1  f1_std\n",
       "Автомобили                       0.78           0.04  ...  0.81    0.03\n",
       "Ремонт и строительство           0.61           0.05  ...  0.47    0.04\n",
       "Одежда, обувь, аксессуары        0.62           0.01  ...  0.66    0.02\n",
       "Квартиры                         0.92           0.01  ...  0.94    0.01\n",
       "Бытовая техника                  0.54           0.06  ...  0.29    0.05\n",
       "Детская одежда и обувь           0.64           0.02  ...  0.67    0.02\n",
       "Товары для детей и игрушки       0.66           0.03  ...  0.59    0.03\n",
       "Предложение услуг                0.70           0.02  ...  0.73    0.02\n",
       "Телефоны                         0.82           0.04  ...  0.77    0.04\n",
       "Мебель и интерьер                0.64           0.05  ...  0.50    0.04\n",
       "mean                             0.69           0.03  ...  0.64    0.03\n",
       "\n",
       "[11 rows x 6 columns]"
      ]
     },
     "execution_count": 31,
     "metadata": {},
     "output_type": "execute_result"
    }
   ],
   "source": [
    "metrics_nmf_extratrees"
   ]
  },
  {
   "cell_type": "markdown",
   "metadata": {
    "id": "0zWu4Bjm5anU"
   },
   "source": [
    "SGD + NMF"
   ]
  },
  {
   "cell_type": "code",
   "execution_count": null,
   "metadata": {
    "id": "sBz1LRIMYizW"
   },
   "outputs": [],
   "source": [
    "metrics_nmf_sgd, errors_nmf_sgd = eval_table(data['description_normalized'], data['category_name'], nmf_sgd)"
   ]
  },
  {
   "cell_type": "code",
   "execution_count": null,
   "metadata": {
    "colab": {
     "base_uri": "https://localhost:8080/",
     "height": 394
    },
    "id": "S5wKxIkrbTrc",
    "outputId": "5ab059ea-80ff-42e4-e5c8-d9c54b77e6cc"
   },
   "outputs": [
    {
     "data": {
      "text/html": [
       "\n",
       "  <div id=\"df-40d45ee6-3342-433f-9c39-4bfcdfd01e7b\">\n",
       "    <div class=\"colab-df-container\">\n",
       "      <div>\n",
       "<style scoped>\n",
       "    .dataframe tbody tr th:only-of-type {\n",
       "        vertical-align: middle;\n",
       "    }\n",
       "\n",
       "    .dataframe tbody tr th {\n",
       "        vertical-align: top;\n",
       "    }\n",
       "\n",
       "    .dataframe thead th {\n",
       "        text-align: right;\n",
       "    }\n",
       "</style>\n",
       "<table border=\"1\" class=\"dataframe\">\n",
       "  <thead>\n",
       "    <tr style=\"text-align: right;\">\n",
       "      <th></th>\n",
       "      <th>precision</th>\n",
       "      <th>precision_std</th>\n",
       "      <th>recall</th>\n",
       "      <th>recall_std</th>\n",
       "      <th>f1</th>\n",
       "      <th>f1_std</th>\n",
       "    </tr>\n",
       "  </thead>\n",
       "  <tbody>\n",
       "    <tr>\n",
       "      <th>Автомобили</th>\n",
       "      <td>0.74</td>\n",
       "      <td>0.08</td>\n",
       "      <td>0.82</td>\n",
       "      <td>0.06</td>\n",
       "      <td>0.78</td>\n",
       "      <td>0.03</td>\n",
       "    </tr>\n",
       "    <tr>\n",
       "      <th>Ремонт и строительство</th>\n",
       "      <td>0.53</td>\n",
       "      <td>0.11</td>\n",
       "      <td>0.30</td>\n",
       "      <td>0.12</td>\n",
       "      <td>0.36</td>\n",
       "      <td>0.04</td>\n",
       "    </tr>\n",
       "    <tr>\n",
       "      <th>Одежда, обувь, аксессуары</th>\n",
       "      <td>0.51</td>\n",
       "      <td>0.09</td>\n",
       "      <td>0.48</td>\n",
       "      <td>0.20</td>\n",
       "      <td>0.47</td>\n",
       "      <td>0.12</td>\n",
       "    </tr>\n",
       "    <tr>\n",
       "      <th>Квартиры</th>\n",
       "      <td>0.85</td>\n",
       "      <td>0.06</td>\n",
       "      <td>0.95</td>\n",
       "      <td>0.03</td>\n",
       "      <td>0.89</td>\n",
       "      <td>0.04</td>\n",
       "    </tr>\n",
       "    <tr>\n",
       "      <th>Бытовая техника</th>\n",
       "      <td>0.59</td>\n",
       "      <td>0.09</td>\n",
       "      <td>0.26</td>\n",
       "      <td>0.12</td>\n",
       "      <td>0.34</td>\n",
       "      <td>0.09</td>\n",
       "    </tr>\n",
       "    <tr>\n",
       "      <th>Детская одежда и обувь</th>\n",
       "      <td>0.49</td>\n",
       "      <td>0.07</td>\n",
       "      <td>0.56</td>\n",
       "      <td>0.14</td>\n",
       "      <td>0.51</td>\n",
       "      <td>0.07</td>\n",
       "    </tr>\n",
       "    <tr>\n",
       "      <th>Товары для детей и игрушки</th>\n",
       "      <td>0.66</td>\n",
       "      <td>0.06</td>\n",
       "      <td>0.55</td>\n",
       "      <td>0.06</td>\n",
       "      <td>0.59</td>\n",
       "      <td>0.02</td>\n",
       "    </tr>\n",
       "    <tr>\n",
       "      <th>Предложение услуг</th>\n",
       "      <td>0.60</td>\n",
       "      <td>0.04</td>\n",
       "      <td>0.65</td>\n",
       "      <td>0.03</td>\n",
       "      <td>0.62</td>\n",
       "      <td>0.02</td>\n",
       "    </tr>\n",
       "    <tr>\n",
       "      <th>Телефоны</th>\n",
       "      <td>0.69</td>\n",
       "      <td>0.19</td>\n",
       "      <td>0.62</td>\n",
       "      <td>0.10</td>\n",
       "      <td>0.62</td>\n",
       "      <td>0.08</td>\n",
       "    </tr>\n",
       "    <tr>\n",
       "      <th>Мебель и интерьер</th>\n",
       "      <td>0.45</td>\n",
       "      <td>0.12</td>\n",
       "      <td>0.31</td>\n",
       "      <td>0.14</td>\n",
       "      <td>0.33</td>\n",
       "      <td>0.10</td>\n",
       "    </tr>\n",
       "    <tr>\n",
       "      <th>mean</th>\n",
       "      <td>0.61</td>\n",
       "      <td>0.09</td>\n",
       "      <td>0.55</td>\n",
       "      <td>0.10</td>\n",
       "      <td>0.55</td>\n",
       "      <td>0.06</td>\n",
       "    </tr>\n",
       "  </tbody>\n",
       "</table>\n",
       "</div>\n",
       "      <button class=\"colab-df-convert\" onclick=\"convertToInteractive('df-40d45ee6-3342-433f-9c39-4bfcdfd01e7b')\"\n",
       "              title=\"Convert this dataframe to an interactive table.\"\n",
       "              style=\"display:none;\">\n",
       "        \n",
       "  <svg xmlns=\"http://www.w3.org/2000/svg\" height=\"24px\"viewBox=\"0 0 24 24\"\n",
       "       width=\"24px\">\n",
       "    <path d=\"M0 0h24v24H0V0z\" fill=\"none\"/>\n",
       "    <path d=\"M18.56 5.44l.94 2.06.94-2.06 2.06-.94-2.06-.94-.94-2.06-.94 2.06-2.06.94zm-11 1L8.5 8.5l.94-2.06 2.06-.94-2.06-.94L8.5 2.5l-.94 2.06-2.06.94zm10 10l.94 2.06.94-2.06 2.06-.94-2.06-.94-.94-2.06-.94 2.06-2.06.94z\"/><path d=\"M17.41 7.96l-1.37-1.37c-.4-.4-.92-.59-1.43-.59-.52 0-1.04.2-1.43.59L10.3 9.45l-7.72 7.72c-.78.78-.78 2.05 0 2.83L4 21.41c.39.39.9.59 1.41.59.51 0 1.02-.2 1.41-.59l7.78-7.78 2.81-2.81c.8-.78.8-2.07 0-2.86zM5.41 20L4 18.59l7.72-7.72 1.47 1.35L5.41 20z\"/>\n",
       "  </svg>\n",
       "      </button>\n",
       "      \n",
       "  <style>\n",
       "    .colab-df-container {\n",
       "      display:flex;\n",
       "      flex-wrap:wrap;\n",
       "      gap: 12px;\n",
       "    }\n",
       "\n",
       "    .colab-df-convert {\n",
       "      background-color: #E8F0FE;\n",
       "      border: none;\n",
       "      border-radius: 50%;\n",
       "      cursor: pointer;\n",
       "      display: none;\n",
       "      fill: #1967D2;\n",
       "      height: 32px;\n",
       "      padding: 0 0 0 0;\n",
       "      width: 32px;\n",
       "    }\n",
       "\n",
       "    .colab-df-convert:hover {\n",
       "      background-color: #E2EBFA;\n",
       "      box-shadow: 0px 1px 2px rgba(60, 64, 67, 0.3), 0px 1px 3px 1px rgba(60, 64, 67, 0.15);\n",
       "      fill: #174EA6;\n",
       "    }\n",
       "\n",
       "    [theme=dark] .colab-df-convert {\n",
       "      background-color: #3B4455;\n",
       "      fill: #D2E3FC;\n",
       "    }\n",
       "\n",
       "    [theme=dark] .colab-df-convert:hover {\n",
       "      background-color: #434B5C;\n",
       "      box-shadow: 0px 1px 3px 1px rgba(0, 0, 0, 0.15);\n",
       "      filter: drop-shadow(0px 1px 2px rgba(0, 0, 0, 0.3));\n",
       "      fill: #FFFFFF;\n",
       "    }\n",
       "  </style>\n",
       "\n",
       "      <script>\n",
       "        const buttonEl =\n",
       "          document.querySelector('#df-40d45ee6-3342-433f-9c39-4bfcdfd01e7b button.colab-df-convert');\n",
       "        buttonEl.style.display =\n",
       "          google.colab.kernel.accessAllowed ? 'block' : 'none';\n",
       "\n",
       "        async function convertToInteractive(key) {\n",
       "          const element = document.querySelector('#df-40d45ee6-3342-433f-9c39-4bfcdfd01e7b');\n",
       "          const dataTable =\n",
       "            await google.colab.kernel.invokeFunction('convertToInteractive',\n",
       "                                                     [key], {});\n",
       "          if (!dataTable) return;\n",
       "\n",
       "          const docLinkHtml = 'Like what you see? Visit the ' +\n",
       "            '<a target=\"_blank\" href=https://colab.research.google.com/notebooks/data_table.ipynb>data table notebook</a>'\n",
       "            + ' to learn more about interactive tables.';\n",
       "          element.innerHTML = '';\n",
       "          dataTable['output_type'] = 'display_data';\n",
       "          await google.colab.output.renderOutput(dataTable, element);\n",
       "          const docLink = document.createElement('div');\n",
       "          docLink.innerHTML = docLinkHtml;\n",
       "          element.appendChild(docLink);\n",
       "        }\n",
       "      </script>\n",
       "    </div>\n",
       "  </div>\n",
       "  "
      ],
      "text/plain": [
       "                            precision  precision_std  ...    f1  f1_std\n",
       "Автомобили                       0.74           0.08  ...  0.78    0.03\n",
       "Ремонт и строительство           0.53           0.11  ...  0.36    0.04\n",
       "Одежда, обувь, аксессуары        0.51           0.09  ...  0.47    0.12\n",
       "Квартиры                         0.85           0.06  ...  0.89    0.04\n",
       "Бытовая техника                  0.59           0.09  ...  0.34    0.09\n",
       "Детская одежда и обувь           0.49           0.07  ...  0.51    0.07\n",
       "Товары для детей и игрушки       0.66           0.06  ...  0.59    0.02\n",
       "Предложение услуг                0.60           0.04  ...  0.62    0.02\n",
       "Телефоны                         0.69           0.19  ...  0.62    0.08\n",
       "Мебель и интерьер                0.45           0.12  ...  0.33    0.10\n",
       "mean                             0.61           0.09  ...  0.55    0.06\n",
       "\n",
       "[11 rows x 6 columns]"
      ]
     },
     "execution_count": 34,
     "metadata": {},
     "output_type": "execute_result"
    }
   ],
   "source": [
    "metrics_nmf_sgd"
   ]
  },
  {
   "cell_type": "markdown",
   "metadata": {
    "id": "SetmO0xK51Ck"
   },
   "source": [
    "### Сравнение метрик. Выбор лучшей модели"
   ]
  },
  {
   "cell_type": "markdown",
   "metadata": {
    "id": "34wF03uQ7NZs"
   },
   "source": [
    "![image.png](data:image/png;base64,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)\n",
    "<br>\n",
    "*Таблица с усредненными значениями F-меры для полученных моделей.*\n"
   ]
  },
  {
   "cell_type": "markdown",
   "metadata": {
    "id": "0-ZLBIDm7kbm"
   },
   "source": [
    "Лучшее качество показала модель SGD + SVD (F1 = 0.72). Для алгоритмов на основе деревьев решений (Random Forest, ExtraTrees) разложение NMF подошло лучше, чем SVD.\n",
    "\n",
    "\n"
   ]
  },
  {
   "cell_type": "markdown",
   "metadata": {
    "id": "OR8hJ96_g34a"
   },
   "source": [
    "### Задание № 2 (6 баллов)"
   ]
  },
  {
   "cell_type": "markdown",
   "metadata": {
    "id": "QhHurLokg34a"
   },
   "source": [
    "В Gensim тоже можно добавить нграммы и tfidf. Постройте 1 модель без них (как в семинаре) и еще 3 модели (1 с нграммами, 1 с tfidf и 1 с нграммами и с tfidf). Сранивте качество с помощью метрик (перплексия, когерентность) и на глаз. Определите лучшую модель. Для каждой модели выберите 1 самую красивую на ваш взгляд тему.\n",
    "\n",
    "Используйте данные википедии из семинара. Можете взять поменьше данных, если все обучается долго.\n",
    "\n",
    "Важное требование - получившиеся модели не должны быть совсем плохими. Если хороших тем не получается, попробуйте настроить гиперпараметры, отфильтровать словарь по-другому. "
   ]
  },
  {
   "cell_type": "markdown",
   "metadata": {
    "id": "2T5qKXK4di1D"
   },
   "source": [
    "### Model 1. Unigrams"
   ]
  },
  {
   "cell_type": "code",
   "execution_count": 95,
   "metadata": {
    "id": "LGHfQ5aAVycD"
   },
   "outputs": [],
   "source": [
    "texts = open('wiki_data.txt').read().splitlines()[:5000]"
   ]
  },
  {
   "cell_type": "code",
   "execution_count": 96,
   "metadata": {
    "id": "y2acI4tvaRlk"
   },
   "outputs": [],
   "source": [
    "texts_norm = ([normalize(text) for text in texts])"
   ]
  },
  {
   "cell_type": "code",
   "execution_count": 97,
   "metadata": {
    "id": "nE1OVhzTdtg9"
   },
   "outputs": [],
   "source": [
    "# словарь id->word\n",
    "id2word_dict1 = gensim.corpora.Dictionary((text.split() for text in texts_norm))\n",
    "\n",
    "#фильтрация редких и частотных слов\n",
    "id2word_dict1.filter_extremes(no_above=0.1, no_below=10)\n",
    "id2word_dict1.compactify()\n",
    "\n",
    "# преобразование текстов мешки слов\n",
    "corpus1 = [id2word_dict.doc2bow(text.split()) for text in texts_norm]"
   ]
  },
  {
   "cell_type": "code",
   "execution_count": 124,
   "metadata": {
    "id": "DJ6E5ShZhOrT"
   },
   "outputs": [],
   "source": [
    "lda1 = gensim.models.LdaMulticore(corpus1, \n",
    "                                 100, # число тем\n",
    "                                 alpha='asymmetric',\n",
    "                                 id2word=id2word_dict1, \n",
    "                                 passes=10) "
   ]
  },
  {
   "cell_type": "markdown",
   "metadata": {
    "id": "imqZf66NTZWI"
   },
   "source": [
    "### Model 2. N-gramms (collocations) + BoW"
   ]
  },
  {
   "cell_type": "code",
   "execution_count": 25,
   "metadata": {
    "id": "4kUQS2OcUPGI"
   },
   "outputs": [],
   "source": [
    "texts_ngrams = [text.split() for text in texts_norm]\n",
    "ph = gensim.models.Phrases(texts_ngrams, scoring='npmi', threshold=0.4) # threshold можно подбирать\n",
    "p = gensim.models.phrases.Phraser(ph)\n",
    "ngrammed_texts = p[texts_ngrams] "
   ]
  },
  {
   "cell_type": "markdown",
   "metadata": {
    "id": "4cZNCBExFGkg"
   },
   "source": [
    "В ngrammed_texts хранятся слова + выявленные Gensim коллокации (словосочетания/n-граммы)"
   ]
  },
  {
   "cell_type": "code",
   "execution_count": 35,
   "metadata": {
    "colab": {
     "base_uri": "https://localhost:8080/"
    },
    "id": "D1Yn2VwXEEsR",
    "outputId": "3cd58198-1193-46eb-bd48-859684e6d994"
   },
   "outputs": [
    {
     "data": {
      "text/plain": [
       "[['новостройка',\n",
       "  'нижегородский_область',\n",
       "  'новостро́йка',\n",
       "  '—',\n",
       "  'сельский',\n",
       "  'посёлок',\n",
       "  'в',\n",
       "  'дивеевский_район',\n",
       "  'нижегородский_область',\n",
       "  'входить',\n",
       "  'в',\n",
       "  'состав_сатисский',\n",
       "  'сельсовет',\n",
       "  'посёлок',\n",
       "  'расположить']]"
      ]
     },
     "execution_count": 35,
     "metadata": {},
     "output_type": "execute_result"
    }
   ],
   "source": [
    "[text[:15] for text in ngrammed_texts[:1]]"
   ]
  },
  {
   "cell_type": "markdown",
   "metadata": {
    "id": "VIMkksqjFjOJ"
   },
   "source": [
    "Составим словарь с учетом выявленных n-грамм"
   ]
  },
  {
   "cell_type": "code",
   "execution_count": 48,
   "metadata": {
    "id": "hGAnDxhcFh3L"
   },
   "outputs": [],
   "source": [
    "id2word_dict2 = gensim.corpora.Dictionary((ngrammed_texts))\n",
    "\n",
    "id2word_dict2.filter_extremes(no_above=0.1, no_below=10)\n",
    "id2word_dict2.compactify()\n",
    "\n",
    "corpus2 = [id2word_dict2.doc2bow(text) for text in ngrammed_texts]"
   ]
  },
  {
   "cell_type": "code",
   "execution_count": 47,
   "metadata": {
    "colab": {
     "base_uri": "https://localhost:8080/",
     "height": 35
    },
    "id": "pzttrm4rHEiT",
    "outputId": "cd25cce8-bedc-43cc-8398-2c9b26963116"
   },
   "outputs": [
    {
     "data": {
      "application/vnd.google.colaboratory.intrinsic+json": {
       "type": "string"
      },
      "text/plain": [
       "'железнодорожный_линия'"
      ]
     },
     "execution_count": 47,
     "metadata": {},
     "output_type": "execute_result"
    }
   ],
   "source": [
    "id2word_dict2[500]"
   ]
  },
  {
   "cell_type": "markdown",
   "metadata": {
    "id": "4ZVoi1QZHQ_g"
   },
   "source": [
    "Обучим модель"
   ]
  },
  {
   "cell_type": "code",
   "execution_count": 49,
   "metadata": {
    "id": "0x4tyIDyHSkn"
   },
   "outputs": [],
   "source": [
    "lda2 = gensim.models.LdaMulticore(corpus2, \n",
    "                                 100, # число тем\n",
    "                                 alpha='asymmetric',\n",
    "                                 id2word=id2word_dict2, \n",
    "                                 passes=10) "
   ]
  },
  {
   "cell_type": "markdown",
   "metadata": {
    "id": "HSpHv8PtJPap"
   },
   "source": [
    "## Model 3. Unigrams + TF-IDF"
   ]
  },
  {
   "cell_type": "code",
   "execution_count": 102,
   "metadata": {
    "id": "G9eogaqHT_kh"
   },
   "outputs": [],
   "source": [
    "# тут пришлось уменьшить размер датасета\n",
    "texts_small = open('wiki_data.txt').read().splitlines()[:3000]"
   ]
  },
  {
   "cell_type": "code",
   "execution_count": 103,
   "metadata": {
    "id": "KSWSOLENUHwe"
   },
   "outputs": [],
   "source": [
    "texts_norm_small = ([normalize(text) for text in texts_small])"
   ]
  },
  {
   "cell_type": "code",
   "execution_count": 104,
   "metadata": {
    "id": "uYS5CsnaUSRi"
   },
   "outputs": [],
   "source": [
    "# словарь id->word\n",
    "id2word_dict3 = gensim.corpora.Dictionary((text.split() for text in texts_norm_small))\n",
    "\n",
    "#фильтрация редких и частотных слов\n",
    "id2word_dict3.filter_extremes(no_above=0.1, no_below=10)\n",
    "id2word_dict3.compactify()\n",
    "\n",
    "# преобразование текстов мешки слов\n",
    "corpus3 = [id2word_dict3.doc2bow(text.split()) for text in texts_norm_small]"
   ]
  },
  {
   "cell_type": "code",
   "execution_count": 105,
   "metadata": {
    "id": "3ESF69QoJf6Q"
   },
   "outputs": [],
   "source": [
    "# добавим TF-IDF\n",
    "# corpus и id2word_dict взяты из первой модели\n",
    "\n",
    "tfidf = gensim.models.TfidfModel(corpus3)\n",
    "corpus3 = [tfidf[text] for text in corpus3]"
   ]
  },
  {
   "cell_type": "markdown",
   "metadata": {
    "id": "luvrgZHvKlpK"
   },
   "source": [
    "Обучим модель с учетом TF-IDF"
   ]
  },
  {
   "cell_type": "code",
   "execution_count": 106,
   "metadata": {
    "id": "mveShquBKoj0"
   },
   "outputs": [],
   "source": [
    "lda3 = gensim.models.LdaMulticore(corpus3, \n",
    "                                 100, # число тем\n",
    "                                 alpha='asymmetric',\n",
    "                                 id2word=id2word_dict3, \n",
    "                                 passes=10) "
   ]
  },
  {
   "cell_type": "code",
   "execution_count": null,
   "metadata": {
    "id": "lklmPfV3V3Pu"
   },
   "outputs": [],
   "source": [
    "lda3.print_topics()"
   ]
  },
  {
   "cell_type": "markdown",
   "metadata": {
    "id": "nI6XDo1RVsnM"
   },
   "source": [
    "## Model 4. N-grams vs TF-IDF"
   ]
  },
  {
   "cell_type": "code",
   "execution_count": 73,
   "metadata": {
    "id": "-Ce-urIZWJR8"
   },
   "outputs": [],
   "source": [
    "# TF-IDF получим из корпуса N-грамм в модели 2\n",
    "tfidf = gensim.models.TfidfModel(corpus2)\n",
    "corpus4 = [tfidf[text] for text in corpus2]"
   ]
  },
  {
   "cell_type": "code",
   "execution_count": 165,
   "metadata": {
    "id": "DZvh3YFUWd6O"
   },
   "outputs": [],
   "source": [
    "lda4 = gensim.models.LdaMulticore(corpus4, \n",
    "                                 100, # число тем\n",
    "                                 alpha='asymmetric',\n",
    "                                 id2word=id2word_dict2, \n",
    "                                 passes=2) "
   ]
  },
  {
   "cell_type": "markdown",
   "metadata": {
    "id": "RLMM1FuseXQC"
   },
   "source": [
    "### Анализ результатов, оценка качества\n",
    "\n",
    "\n"
   ]
  },
  {
   "cell_type": "markdown",
   "metadata": {
    "id": "vsBqv4-tpETF"
   },
   "source": [
    "### Перплексия\n",
    "Unigrams + BoW: -7.999\n",
    "<br>\n",
    "N-grams + BoW: -8.312\n",
    "<br>\n",
    "Unigrams + TF-IDF: -10.770\n",
    "<br>\n",
    "N-grams + TF-IDF: -13.679\n",
    "<br>\n",
    "<br>\n",
    "Чем ниже значение перплексии — тем лучше моделируемость корпуса. Среди 4-х моделей наименьшее значение перплексии соответствует модели N-grams + TF-IDF. \n",
    "\n",
    "### Когерентность\n",
    "Unigrams + BoW: 0.538\n",
    "<br>\n",
    "N-grams + BoW: —\n",
    "<br>\n",
    "Unigrams + TF-IDF: 0.514\n",
    "<br>\n",
    "N-grams + TF-IDF: — \n",
    "<br>\n",
    "<br>\n",
    "Почему-то подсчет когерентности не сработал для моделей на основе n-gramm (возвращался nan). Если сравнивать модели с униграмами, то когерентность у модели с мешком слов чуть выше. Однако разница в метриках не особо значительна.\n",
    "\n",
    "### Анализ полученных тематик \n",
    "\n",
    "На мой взгляд, все модели показали неплохую способность выявлять темы в текстах. \n",
    "\n",
    "При параметре passes=10 для модели на основе N-грамм и TF-IDF было очень сложно интерпретировать результат, так как было много несвязных слов. Поэтому для этой модели параметр passes был снижен. \n",
    "\n",
    "Лучшая тематика для модели Unigrams + BoW:\n",
    "<br>\n",
    "*армия + войско + фронт + противник + бой + операция + наступление + 1-й + оборона + сила*\n",
    "<br>\n",
    "Предположительная тематика: армия/война\n",
    "<br>\n",
    "<br>\n",
    "Лучшая тематика для модели N-grams + BoW:\n",
    "<br>\n",
    "*замок + литовский + башня + князь + брат + княжество + московский + великий князь + век + великий княжество*\n",
    "<br>\n",
    "Предположительная тематика: история\n",
    "<br><br>\n",
    "Лучшая тематика для модели Unigrams + TF-IDF:\n",
    "<br>\n",
    "*годовщина + music + держаться + entertainment + агентство + участник + сингл + альбом + выпустить + японский*\n",
    "<br>\n",
    "Предположительная тематика: музыка\n",
    "<br><br>\n",
    "Лучшая тематика для модели N-grams + TF-IDF:\n",
    "<br>\n",
    "*звезда + обсерватория + величина + звёздный + астрономия + атлас + обозрение + хельсинки*\n",
    "<br>\n",
    "Предположительная тематика: астрономия\n",
    "<br>\n",
    "\n",
    "### Какая из 4-х моделей лучше всех?\n",
    "\n",
    "Сложно однозначно сказать, какая из 4-х моделей показала лучший результат. Однако тематики самой простой модели Unigrams + BoW мне показались самыми понятными. Также когерентность у этой модели выше, чем у модели с TF-IDF."
   ]
  },
  {
   "cell_type": "markdown",
   "metadata": {
    "id": "9_CfQZdteP1Y"
   },
   "source": [
    "Рассчет перплексии"
   ]
  },
  {
   "cell_type": "code",
   "execution_count": 167,
   "metadata": {
    "colab": {
     "base_uri": "https://localhost:8080/"
    },
    "id": "BLrrK6RQkDdN",
    "outputId": "b78378eb-8fea-4d01-c85c-8d2b519b8280"
   },
   "outputs": [
    {
     "name": "stdout",
     "output_type": "stream",
     "text": [
      "-7.998590855930469\n",
      "-8.319090654720284\n",
      "-10.770508108999966\n",
      "-13.679726548470425\n"
     ]
    }
   ],
   "source": [
    "print(lda1.log_perplexity(corpus1))\n",
    "print(lda2.log_perplexity(corpus2))\n",
    "print(lda3.log_perplexity(corpus3))\n",
    "print(lda4.log_perplexity(corpus4))\n"
   ]
  },
  {
   "cell_type": "markdown",
   "metadata": {
    "id": "8CcO2A-9kS8K"
   },
   "source": [
    "Рассчет когерентности"
   ]
  },
  {
   "cell_type": "code",
   "execution_count": 136,
   "metadata": {
    "id": "Hpktx66Ek5X9"
   },
   "outputs": [],
   "source": [
    "def get_coherence(lda, texts_norm, id2word_dict):\n",
    "  topics = []\n",
    "  for topic_id, topic in lda.show_topics(num_topics=100, formatted=False):\n",
    "    topic = [word for word, _ in topic]\n",
    "    topics.append(topic)\n",
    "  \n",
    "  coherence_model_lda = gensim.models.CoherenceModel(topics=topics, \n",
    "                                                   texts=[text.split() for text in texts_norm], \n",
    "                                                   dictionary=id2word_dict, coherence='c_v')\n",
    "  \n",
    "  return coherence_model_lda.get_coherence()"
   ]
  },
  {
   "cell_type": "code",
   "execution_count": 141,
   "metadata": {
    "colab": {
     "base_uri": "https://localhost:8080/"
    },
    "id": "HreV22GNlT6f",
    "outputId": "647a0090-cecc-47d7-b146-213d7b70ff79"
   },
   "outputs": [
    {
     "name": "stdout",
     "output_type": "stream",
     "text": [
      "0.5384452978323155\n",
      "nan\n",
      "0.513562688825104\n",
      "nan\n"
     ]
    }
   ],
   "source": [
    "print(get_coherence(lda1, texts_norm, id2word_dict1))\n",
    "# для моделей с n-граммами возвращается nan\n",
    "print(get_coherence(lda2, texts_norm, id2word_dict2))\n",
    "print(get_coherence(lda3, texts_norm_small, id2word_dict3))\n",
    "# тоже выводит nan (модель с n-граммами)\n",
    "print(get_coherence(lda4, texts_norm, id2word_dict2))"
   ]
  },
  {
   "cell_type": "markdown",
   "metadata": {
    "id": "owvFwr-Fnl8n"
   },
   "source": [
    "Вывод полученных тематик"
   ]
  },
  {
   "cell_type": "code",
   "execution_count": 142,
   "metadata": {
    "colab": {
     "base_uri": "https://localhost:8080/"
    },
    "id": "X8Jaf3s0kL-2",
    "outputId": "e7f926e0-4a64-4231-ca2f-012054273b07"
   },
   "outputs": [
    {
     "data": {
      "text/plain": [
       "[(99,\n",
       "  '0.022*\"театр\" + 0.015*\"азербайджанский\" + 0.014*\"музыкальный\" + 0.010*\"азербайджан\" + 0.009*\"балет\" + 0.009*\"опера\" + 0.008*\"баку\" + 0.007*\"александр\" + 0.006*\"сергей\" + 0.006*\"музыка\"'),\n",
       " (98,\n",
       "  '0.026*\"остров\" + 0.023*\"1972\" + 0.017*\"багамский\" + 0.014*\"авианосец\" + 0.014*\"воздух\" + 0.012*\"сша\" + 0.011*\"вывести\" + 0.011*\"uss\" + 0.011*\"самолёт\" + 0.011*\"строй\"'),\n",
       " (97,\n",
       "  '0.024*\"крест\" + 0.014*\"церковь\" + 0.014*\"святой\" + 0.011*\"полярный\" + 0.010*\"капитан\" + 0.010*\"измерение\" + 0.009*\"кладбище\" + 0.008*\"св\" + 0.007*\"вера\" + 0.007*\"команда\"'),\n",
       " (95,\n",
       "  '0.015*\"михаил\" + 0.011*\"томас\" + 0.009*\"дело\" + 0.008*\"ссср\" + 0.008*\"ян\" + 0.007*\"советский\" + 0.006*\"язык\" + 0.006*\"отношение\" + 0.006*\"член\" + 0.006*\"сын\"'),\n",
       " (94,\n",
       "  '0.026*\"wwe\" + 0.023*\"титул\" + 0.022*\"матч\" + 0.022*\"шоу\" + 0.020*\"победа\" + 0.017*\"бой\" + 0.016*\"одержать\" + 0.014*\"против\" + 0.013*\"чемпион\" + 0.012*\"девушка\"'),\n",
       " (96,\n",
       "  '0.049*\"армия\" + 0.048*\"войско\" + 0.030*\"фронт\" + 0.024*\"противник\" + 0.019*\"бой\" + 0.015*\"операция\" + 0.014*\"наступление\" + 0.012*\"1-й\" + 0.011*\"оборона\" + 0.011*\"сила\"'),\n",
       " (93,\n",
       "  '0.021*\"десант\" + 0.012*\"ссср\" + 0.012*\"институт\" + 0.010*\"катер\" + 0.008*\"наука\" + 0.008*\"сергей\" + 0.008*\"александр\" + 0.008*\"физика\" + 0.008*\"научный\" + 0.008*\"владимир\"'),\n",
       " (92,\n",
       "  '0.015*\"фильм\" + 0.009*\"персонаж\" + 0.009*\"серия\" + 0.008*\"чтобы\" + 0.007*\"игрок\" + 0.007*\"враг\" + 0.007*\"использовать\" + 0.007*\"система\" + 0.006*\"уровень\" + 0.006*\"эпизод\"'),\n",
       " (91,\n",
       "  '0.030*\"башня\" + 0.030*\"замок\" + 0.018*\"стена\" + 0.016*\"построить\" + 0.011*\"восстановить\" + 0.011*\"корпус\" + 0.011*\"метр\" + 0.010*\"древний\" + 0.010*\"баня\" + 0.009*\"пожар\"'),\n",
       " (90,\n",
       "  '0.040*\"’\" + 0.022*\"ален\" + 0.020*\"1941\" + 0.020*\"корпус\" + 0.015*\"стрелковый\" + 0.013*\"дивизия\" + 0.009*\"школа\" + 0.008*\"округ\" + 0.007*\"аэропорт\" + 0.006*\"°c\"'),\n",
       " (9,\n",
       "  '0.037*\"i\" + 0.034*\"граф\" + 0.022*\"авиакомпания\" + 0.022*\"air\" + 0.022*\"лайнер\" + 0.021*\"графство\" + 0.016*\"пассажир\" + 0.016*\"аэропорт\" + 0.014*\"самолёт\" + 0.013*\"компания\"'),\n",
       " (8,\n",
       "  '0.036*\"посёлок\" + 0.015*\"труба\" + 0.012*\"житель\" + 0.012*\"торговый\" + 0.012*\"формула\" + 0.010*\"здесь\" + 0.010*\"хозяйство\" + 0.010*\"р\" + 0.009*\"храм\" + 0.008*\"тыс\"'),\n",
       " (7,\n",
       "  '0.011*\"дом\" + 0.007*\"п\" + 0.006*\"деревня\" + 0.006*\"построить\" + 0.006*\"житель\" + 0.005*\"школа\" + 0.005*\"здание\" + 0.004*\"двор\" + 0.004*\"муниципальный\" + 0.004*\"церковь\"'),\n",
       " (6,\n",
       "  '0.029*\"китайский\" + 0.026*\"ли\" + 0.025*\"китай\" + 0.009*\"ассоциация\" + 0.007*\"сша\" + 0.006*\"конференция\" + 0.006*\"национальный\" + 0.006*\"кто\" + 0.006*\"французский\" + 0.006*\"фильм\"'),\n",
       " (5,\n",
       "  '0.017*\"самолёт\" + 0.013*\"система\" + 0.012*\"двигатель\" + 0.012*\"л\" + 0.010*\"автомобиль\" + 0.010*\"завод\" + 0.009*\"задний\" + 0.008*\"аэропорт\" + 0.008*\"t\" + 0.008*\"производство\"'),\n",
       " (4,\n",
       "  '0.012*\"теория\" + 0.012*\"корея\" + 0.010*\"японский\" + 0.009*\"член\" + 0.008*\"кузнецов\" + 0.008*\"фронт\" + 0.007*\"1940\" + 0.007*\"правительство\" + 0.007*\"коммунист\" + 0.007*\"япония\"'),\n",
       " (3,\n",
       "  '0.051*\"песня\" + 0.048*\"альбом\" + 0.017*\"the\" + 0.014*\"выпустить\" + 0.012*\"сингл\" + 0.011*\"музыкальный\" + 0.010*\"премия\" + 0.008*\"2009\" + 0.008*\"записать\" + 0.008*\"музыкант\"'),\n",
       " (2,\n",
       "  '0.106*\"летний\" + 0.050*\"ни\" + 0.047*\"зимний\" + 0.043*\"сборная\" + 0.041*\"женщина\" + 0.036*\"спортсмен\" + 0.016*\"бронзовый\" + 0.015*\"серебряный\" + 0.014*\"сша\" + 0.013*\"2004\"'),\n",
       " (1,\n",
       "  '0.037*\"партия\" + 0.019*\"политический\" + 0.014*\"член\" + 0.013*\"президент\" + 0.011*\"общество\" + 0.009*\"выборы\" + 0.008*\"политика\" + 0.008*\"министр\" + 0.008*\"пост\" + 0.008*\"депутат\"'),\n",
       " (0,\n",
       "  '0.026*\"подсемейство\" + 0.013*\"совет\" + 0.012*\"лозовский\" + 0.012*\"семейство\" + 0.012*\"cryptocephalus\" + 0.012*\"встречаться\" + 0.011*\"фамилия\" + 0.010*\"ворота\" + 0.010*\"распространить\" + 0.010*\"протекать\"')]"
      ]
     },
     "execution_count": 142,
     "metadata": {},
     "output_type": "execute_result"
    }
   ],
   "source": [
    "lda1.print_topics()"
   ]
  },
  {
   "cell_type": "code",
   "execution_count": 143,
   "metadata": {
    "colab": {
     "base_uri": "https://localhost:8080/"
    },
    "id": "EALyBUhbop92",
    "outputId": "f433526b-248d-422b-aeae-3b13fd9b4783"
   },
   "outputs": [
    {
     "data": {
      "text/plain": [
       "[(99,\n",
       "  '0.021*\"6\" + 0.014*\"численность_население\" + 0.012*\"река\" + 0.012*\"составлять\" + 0.011*\"ворота\" + 0.010*\"7\" + 0.007*\"симфония\" + 0.007*\"рига\" + 0.007*\"1989\" + 0.007*\"8\"'),\n",
       " (98,\n",
       "  '0.018*\"южный_полюс\" + 0.016*\"меридиан_восточный\" + 0.014*\"северный_полюс\" + 0.012*\"долгота\" + 0.011*\"градус\" + 0.010*\"аэропорт\" + 0.007*\"тихий_океан\" + 0.007*\"звено\" + 0.007*\"северный_ледовитый\" + 0.006*\"фильм\"'),\n",
       " (96,\n",
       "  '0.014*\"станция\" + 0.013*\"комплекс\" + 0.009*\"ремонт\" + 0.008*\"эксперимент\" + 0.008*\"цех\" + 0.007*\"о_’\" + 0.006*\"сфера\" + 0.006*\"выполнение\" + 0.006*\"земля\" + 0.006*\"луна\"'),\n",
       " (97,\n",
       "  '0.014*\"мочь\" + 0.007*\"например\" + 0.006*\"случай\" + 0.006*\"использовать\" + 0.006*\"если\" + 0.006*\"некоторый\" + 0.005*\"форма\" + 0.005*\"использоваться\" + 0.005*\"можно\" + 0.005*\"вода\"'),\n",
       " (95,\n",
       "  '0.053*\"село\" + 0.014*\"школа\" + 0.013*\"церковь\" + 0.009*\"житель\" + 0.009*\"иметься\" + 0.007*\"население\" + 0.007*\"колхоз\" + 0.006*\"сельский\" + 0.006*\"земля\" + 0.006*\"крестьянин\"'),\n",
       " (94,\n",
       "  '0.008*\"птица\" + 0.008*\"цвет\" + 0.007*\"алла_пугачёв\" + 0.007*\"китай\" + 0.006*\"любовь\" + 0.006*\"язык\" + 0.006*\"перевод\" + 0.006*\"мастер\" + 0.005*\"команда\" + 0.005*\"илья\"'),\n",
       " (92,\n",
       "  '0.031*\"монако\" + 0.019*\"хуан\" + 0.010*\"аргентина\" + 0.010*\"мир\" + 0.009*\"антенна\" + 0.009*\"финал\" + 0.009*\"четвертьфинал\" + 0.008*\"театр\" + 0.008*\"буэнос-айрес\" + 0.008*\"четыре\"'),\n",
       " (93,\n",
       "  '0.013*\"епархия\" + 0.011*\"епископ\" + 0.010*\"религиозный\" + 0.010*\"якутский\" + 0.008*\"церковь\" + 0.007*\"память\" + 0.007*\"патриарх\" + 0.007*\"духовный\" + 0.007*\"церковный\" + 0.007*\"русский_православный\"'),\n",
       " (91,\n",
       "  '0.016*\"встречаться\" + 0.015*\"личинка\" + 0.014*\"самка\" + 0.012*\"самец\" + 0.011*\"яйцо\" + 0.010*\"обитать\" + 0.009*\"северный\" + 0.008*\"крыло\" + 0.008*\"чёрный\" + 0.008*\"род\"'),\n",
       " (90,\n",
       "  '0.071*\"игра\" + 0.020*\"игрок\" + 0.017*\"уровень\" + 0.014*\"семейство\" + 0.014*\"враг\" + 0.012*\"ким\" + 0.011*\"мочь\" + 0.009*\"каждый\" + 0.009*\"группа\" + 0.008*\"если\"'),\n",
       " (9,\n",
       "  '0.014*\"произвести\" + 0.011*\"корабль\" + 0.011*\"затем\" + 0.011*\"клиент\" + 0.011*\"командовать\" + 0.010*\"август\" + 0.007*\"капитан\" + 0.007*\"штаб\" + 0.007*\"следующий\" + 0.006*\"октябрь\"'),\n",
       " (8,\n",
       "  '0.010*\"курорт\" + 0.008*\"тыс\" + 0.007*\"хутор\" + 0.007*\"казак\" + 0.007*\"заболевание\" + 0.007*\"армия\" + 0.006*\"больной\" + 0.006*\"период\" + 0.006*\"казачий\" + 0.006*\"суд\"'),\n",
       " (7,\n",
       "  '0.022*\"замок\" + 0.018*\"литовский\" + 0.017*\"башня\" + 0.013*\"князь\" + 0.013*\"брат\" + 0.010*\"княжество\" + 0.009*\"московский\" + 0.009*\"великий_князь\" + 0.008*\"век\" + 0.007*\"великий_княжество\"'),\n",
       " (6,\n",
       "  '0.094*\"хутор\" + 0.043*\"поселение\" + 0.035*\"ростовский_область\" + 0.024*\"сельский_поселение\" + 0.017*\"переулок\" + 0.015*\"культура\" + 0.014*\"на_территория\" + 0.012*\"весёловский_район\" + 0.010*\"объект_культурный\" + 0.010*\"октябрь\"'),\n",
       " (5,\n",
       "  '0.055*\"олимпийский_игра\" + 0.048*\"на_летний\" + 0.045*\"летний_олимпийский\" + 0.033*\"спортсмен\" + 0.033*\"за_свой\" + 0.025*\"женщина\" + 0.023*\"завоевать\" + 0.022*\"медаль_сборная\" + 0.019*\"ни_один\" + 0.018*\"страна_представлять\"'),\n",
       " (4,\n",
       "  '0.119*\"село\" + 0.034*\"на_расстояние\" + 0.029*\"река\" + 0.027*\"посёлок\" + 0.023*\"сельский_совет\" + 0.021*\"харьковский_область\" + 0.020*\"перепись_2001\" + 0.019*\"год_составлять\" + 0.019*\"течение\" + 0.019*\"население_по\"'),\n",
       " (3,\n",
       "  '0.014*\"система\" + 0.007*\"версия\" + 0.006*\"москва\" + 0.005*\"рынок\" + 0.005*\"сеть\" + 0.005*\"л\" + 0.005*\"каждый\" + 0.004*\"испания\" + 0.004*\"стандартный\" + 0.004*\"файл\"'),\n",
       " (2,\n",
       "  '0.057*\"остров\" + 0.013*\"корабль\" + 0.013*\"крейсер\" + 0.013*\"северный\" + 0.012*\"станция\" + 0.009*\"море\" + 0.009*\"южный\" + 0.007*\"высота\" + 0.007*\"север\" + 0.006*\"гора\"'),\n",
       " (1,\n",
       "  '0.047*\"игра\" + 0.022*\"олимпиада\" + 0.019*\"олимпийский\" + 0.018*\"зимний_олимпийский\" + 0.017*\"игра_2002\" + 0.015*\"команда\" + 0.012*\"занять\" + 0.012*\"соревнование\" + 0.012*\"значение\" + 0.011*\"чили\"'),\n",
       " (0,\n",
       "  '0.081*\"зимний_олимпийский\" + 0.050*\"за_свой\" + 0.047*\"ни_один\" + 0.043*\"не_завоевать\" + 0.042*\"история_но\" + 0.032*\"медаль\" + 0.025*\"игра\" + 0.020*\"женщина\" + 0.018*\"страна_представлять\" + 0.017*\"олимпийский_игра\"')]"
      ]
     },
     "execution_count": 143,
     "metadata": {},
     "output_type": "execute_result"
    }
   ],
   "source": [
    "lda2.print_topics()"
   ]
  },
  {
   "cell_type": "code",
   "execution_count": 144,
   "metadata": {
    "colab": {
     "base_uri": "https://localhost:8080/"
    },
    "id": "9o3dhc4noq_t",
    "outputId": "08e2b255-0e7a-460a-9985-4a8e3e820d42"
   },
   "outputs": [
    {
     "data": {
      "text/plain": [
       "[(99,\n",
       "  '0.000*\"поляк\" + 0.000*\"польша\" + 0.000*\"сборная\" + 0.000*\"чемпионат\" + 0.000*\"матч\" + 0.000*\"подавлять\" + 0.000*\"команда\" + 0.000*\"решающий\" + 0.000*\"польский\" + 0.000*\"групповой\"'),\n",
       " (97,\n",
       "  '0.000*\"фронт\" + 0.000*\"авиационный\" + 0.000*\"гвардия\" + 0.000*\"вылет\" + 0.000*\"боевой\" + 0.000*\"полка\" + 0.000*\"1945\" + 0.000*\"армия\" + 0.000*\"младший\" + 0.000*\"сбить\"'),\n",
       " (98,\n",
       "  '0.000*\"48\" + 0.000*\"160\" + 0.000*\"станица\" + 0.000*\"северокавказский\" + 0.000*\"дубовский\" + 0.000*\"донской\" + 0.000*\"динамика\" + 0.000*\"возвышенность\" + 0.000*\"андреевский\" + 0.000*\"хутор\"'),\n",
       " (96,\n",
       "  '0.000*\"партия\" + 0.000*\"ян\" + 0.000*\"иванович\" + 0.000*\"сын\" + 0.000*\"итальянский\" + 0.000*\"р\" + 0.000*\"социальный\" + 0.000*\"жена\" + 0.000*\"правый\" + 0.000*\"движение\"'),\n",
       " (95,\n",
       "  '0.000*\"годовщина\" + 0.000*\"music\" + 0.000*\"держаться\" + 0.000*\"entertainment\" + 0.000*\"агентство\" + 0.000*\"участник\" + 0.000*\"сингл\" + 0.000*\"альбом\" + 0.000*\"выпустить\" + 0.000*\"японский\"'),\n",
       " (94,\n",
       "  '0.000*\"48\" + 0.000*\"160\" + 0.000*\"станица\" + 0.000*\"северокавказский\" + 0.000*\"дубовский\" + 0.000*\"донской\" + 0.000*\"динамика\" + 0.000*\"возвышенность\" + 0.000*\"андреевский\" + 0.000*\"хутор\"'),\n",
       " (93,\n",
       "  '0.000*\"1886\" + 0.000*\"полка\" + 0.000*\"август\" + 0.000*\"1884\" + 0.000*\"франция\" + 0.000*\"апрель\" + 0.000*\"декабрь\" + 0.000*\"пехотный\" + 0.000*\"фон\" + 0.000*\"11\"'),\n",
       " (92,\n",
       "  '0.014*\"террористический\" + 0.002*\"снаряд\" + 0.002*\"боеприпас\" + 0.001*\"прототип\" + 0.001*\"акт\" + 0.001*\"севастополь\" + 0.001*\"столб\" + 0.001*\"забирать\" + 0.000*\"дневник\" + 0.000*\"строгий\"'),\n",
       " (91,\n",
       "  '0.000*\"писательница\" + 0.000*\"подруга\" + 0.000*\"фронт\" + 0.000*\"стрелковый\" + 0.000*\"капитан\" + 0.000*\"эмоция\" + 0.000*\"воронежский\" + 0.000*\"андреевич\" + 0.000*\"1944\" + 0.000*\"отель\"'),\n",
       " (90,\n",
       "  '0.000*\"48\" + 0.000*\"160\" + 0.000*\"станица\" + 0.000*\"северокавказский\" + 0.000*\"дубовский\" + 0.000*\"донской\" + 0.000*\"динамика\" + 0.000*\"возвышенность\" + 0.000*\"андреевский\" + 0.000*\"хутор\"'),\n",
       " (9,\n",
       "  '0.049*\"клуб\" + 0.037*\"футбольный\" + 0.022*\"стадион\" + 0.021*\"лига\" + 0.016*\"ланцетный\" + 0.015*\"ирландия\" + 0.015*\"домашний\" + 0.015*\"танец\" + 0.015*\"зритель\" + 0.013*\"арена\"'),\n",
       " (8,\n",
       "  '0.028*\"литовский\" + 0.028*\"анатолий\" + 0.015*\"праздник\" + 0.014*\"княжество\" + 0.011*\"пресвятой\" + 0.010*\"инстанция\" + 0.009*\"глобальный\" + 0.009*\"акция\" + 0.009*\"джон\" + 0.007*\"дева\"'),\n",
       " (7,\n",
       "  '0.134*\"хутор\" + 0.061*\"ростовский\" + 0.058*\"поселение\" + 0.042*\"станица\" + 0.042*\"сельский\" + 0.024*\"памятник\" + 0.017*\"охрана\" + 0.017*\"курган\" + 0.017*\"объект\" + 0.016*\"n\"'),\n",
       " (6,\n",
       "  '0.109*\"летний\" + 0.059*\"спортсмен\" + 0.052*\"лихтенштейн\" + 0.043*\"соревнование\" + 0.037*\"атлетика\" + 0.033*\"заезд\" + 0.033*\"экипаж\" + 0.031*\"раунд\" + 0.028*\"бронзовый\" + 0.026*\"ни\"'),\n",
       " (5,\n",
       "  '0.273*\"ружинский\" + 0.120*\"4138\" + 0.030*\"раставица\" + 0.015*\"дмитрий\" + 0.012*\"река\" + 0.011*\"октябрьский\" + 0.009*\"смит\" + 0.009*\"ранний\" + 0.007*\"утешительный\" + 0.007*\"городище\"'),\n",
       " (4,\n",
       "  '0.019*\"87\" + 0.018*\"зелёный\" + 0.017*\"хан\" + 0.015*\"городок\" + 0.013*\"месторождение\" + 0.012*\"еврей\" + 0.011*\"com\" + 0.011*\"воевода\" + 0.011*\"ленин\" + 0.010*\"40\"'),\n",
       " (3,\n",
       "  '0.080*\"листоед\" + 0.038*\"жуков\" + 0.029*\"дивизион\" + 0.022*\"семейство\" + 0.021*\"фильм\" + 0.020*\"подсемейство\" + 0.016*\"термин\" + 0.013*\"кинофестиваль\" + 0.012*\"франция\" + 0.011*\"футбол\"'),\n",
       " (2,\n",
       "  '0.024*\"сельсовет\" + 0.012*\"остановочный\" + 0.010*\"авиационный\" + 0.009*\"and\" + 0.009*\"авиакомпания\" + 0.009*\"округ\" + 0.009*\"станция\" + 0.009*\"железнодорожный\" + 0.008*\"самолёт\" + 0.008*\"лётчик\"'),\n",
       " (1,\n",
       "  '0.057*\"романовский\" + 0.052*\"чудновский\" + 0.025*\"cryptocephalus\" + 0.024*\"попельнянский\" + 0.024*\"4146\" + 0.024*\"4139\" + 0.012*\"ленин\" + 0.012*\"значение\" + 0.011*\"олевский\" + 0.011*\"подсемейство\"'),\n",
       " (0,\n",
       "  '0.008*\"радомышльский\" + 0.005*\"черняховский\" + 0.004*\"4132\" + 0.002*\"4134\" + 0.002*\"км\" + 0.002*\"река\" + 0.002*\"уезд\" + 0.002*\"фильм\" + 0.002*\"сборная\" + 0.002*\"остров\"')]"
      ]
     },
     "execution_count": 144,
     "metadata": {},
     "output_type": "execute_result"
    }
   ],
   "source": [
    "lda3.print_topics()"
   ]
  },
  {
   "cell_type": "code",
   "execution_count": 166,
   "metadata": {
    "colab": {
     "base_uri": "https://localhost:8080/"
    },
    "id": "cip4sl-6osGd",
    "outputId": "220ec1ee-8689-4267-863b-cb7a624b13ce"
   },
   "outputs": [
    {
     "data": {
      "text/plain": [
       "[(98,\n",
       "  '0.005*\"неприятель\" + 0.004*\"сражение\" + 0.004*\"генерал\" + 0.004*\"поручение\" + 0.004*\"возвратиться\" + 0.003*\"комендант\" + 0.003*\"1813\" + 0.003*\"наполеон\" + 0.003*\"историк\" + 0.002*\"квартира\"'),\n",
       " (99,\n",
       "  '0.001*\"остров\" + 0.000*\"григорий\" + 0.000*\"нью-йорк\" + 0.000*\"шрифт\" + 0.000*\"мост\" + 0.000*\"спектакль\" + 0.000*\"режиссёр\" + 0.000*\"психологический\" + 0.000*\"голландский\" + 0.000*\"съёмка\"'),\n",
       " (97,\n",
       "  '0.011*\"р\" + 0.006*\"десятина\" + 0.005*\"верста\" + 0.004*\"земский\" + 0.004*\"тыс\" + 0.003*\"картофель\" + 0.002*\"кукуруза\" + 0.002*\"волокно\" + 0.002*\"долг\" + 0.002*\"усиливаться\"'),\n",
       " (95,\n",
       "  '0.013*\"ким\" + 0.010*\"картина\" + 0.008*\"ирина\" + 0.006*\"альбом\" + 0.006*\"злодей\" + 0.005*\"личинка\" + 0.005*\"рыба\" + 0.005*\"изобразить\" + 0.005*\"хозяин\" + 0.004*\"записывать\"'),\n",
       " (96,\n",
       "  '0.001*\"животное\" + 0.000*\"мясо\" + 0.000*\"мочь\" + 0.000*\"смотреть\" + 0.000*\"скот\" + 0.000*\"пища\" + 0.000*\"корова\" + 0.000*\"потребление\" + 0.000*\"хвост\" + 0.000*\"некоторый\"'),\n",
       " (94,\n",
       "  '0.001*\"песня\" + 0.001*\"композиция\" + 0.001*\"войско\" + 0.001*\"социальный\" + 0.001*\"я\" + 0.000*\"1919\" + 0.000*\"клип\" + 0.000*\"t\" + 0.000*\"группа\" + 0.000*\"…\"'),\n",
       " (93,\n",
       "  '0.004*\"больница\" + 0.001*\"койка\" + 0.001*\"медицинский\" + 0.001*\"комплекс\" + 0.000*\"канадский\" + 0.000*\"пациент\" + 0.000*\"израиль\" + 0.000*\"лечение\" + 0.000*\"ребёнок\" + 0.000*\"1300\"'),\n",
       " (92,\n",
       "  '0.000*\"звезда\" + 0.000*\"обсерватория\" + 0.000*\"величина\" + 0.000*\"звёздный\" + 0.000*\"астрономия\" + 0.000*\"r\" + 0.000*\"атлас\" + 0.000*\"обозрение\" + 0.000*\"хельсинки\" + 0.000*\"z\"'),\n",
       " (91,\n",
       "  '0.004*\"ветер\" + 0.001*\"самолёт\" + 0.000*\"град\" + 0.000*\"камень\" + 0.000*\"полёт\" + 0.000*\"музей\" + 0.000*\"1909\" + 0.000*\"миновать\" + 0.000*\"германия\" + 0.000*\"u\"'),\n",
       " (89,\n",
       "  '0.000*\"детектив\" + 0.000*\"муж\" + 0.000*\"зритель\" + 0.000*\"женщина\" + 0.000*\"французский\" + 0.000*\"париж\" + 0.000*\"южный_америка\" + 0.000*\"страх\" + 0.000*\"сон\" + 0.000*\"сцена\"'),\n",
       " (9,\n",
       "  '0.005*\"квинта\" + 0.004*\"модуль\" + 0.004*\"выпускаться\" + 0.004*\"андреевич\" + 0.003*\"1999\" + 0.003*\"альбом\" + 0.003*\"граф\" + 0.003*\"переправа\" + 0.003*\"головка\" + 0.003*\"азербайджанский\"'),\n",
       " (8,\n",
       "  '0.006*\"белок\" + 0.005*\"пуля\" + 0.005*\"клетка\" + 0.005*\"лукаш\" + 0.005*\"графство\" + 0.005*\"виконт\" + 0.004*\"польша\" + 0.004*\"анжи\" + 0.003*\"поляк\" + 0.003*\"гвардейский_стрелковый\"'),\n",
       " (7,\n",
       "  '0.005*\"сельсовет\" + 0.004*\"бен\" + 0.004*\"василиевич\" + 0.004*\"князь\" + 0.004*\"брат\" + 0.003*\"воевода\" + 0.003*\"дэвис\" + 0.003*\"музей\" + 0.003*\"литовский\" + 0.003*\"великий_князь\"'),\n",
       " (6,\n",
       "  '0.007*\"выходить_6\" + 0.007*\"хороший_экипаж\" + 0.007*\"финал_a\" + 0.007*\"сильный_экипаж\" + 0.006*\"перу\" + 0.006*\"каждый_заезд\" + 0.006*\"олимпийский_игра\" + 0.006*\"перу_принимать\" + 0.005*\"дисциплина\" + 0.005*\"следующий_раунд\"'),\n",
       " (5,\n",
       "  '0.003*\"клуб\" + 0.003*\"провинция_жужевать\" + 0.003*\"петров\" + 0.003*\"иванов\" + 0.003*\"шанхай\" + 0.003*\"клиент\" + 0.003*\"хуан\" + 0.003*\"аэроклуб\" + 0.002*\"брюс\" + 0.002*\"письмо\"'),\n",
       " (4,\n",
       "  '0.008*\"уезд\" + 0.004*\"кузнецов\" + 0.004*\"михаил\" + 0.004*\"алексей\" + 0.003*\"гуго\" + 0.003*\"произвести\" + 0.003*\"центр\" + 0.003*\"географический\" + 0.003*\"высота\" + 0.003*\"чел\"'),\n",
       " (3,\n",
       "  '0.003*\"крест\" + 0.003*\"м\" + 0.003*\"1942_год\" + 0.002*\"1-й\" + 0.002*\"святой\" + 0.002*\"храм\" + 0.002*\"собор\" + 0.002*\"пещера\" + 0.002*\"остров\" + 0.002*\"феликс\"'),\n",
       " (2,\n",
       "  '0.003*\"село\" + 0.003*\"станция\" + 0.002*\"язык\" + 0.002*\"сезон\" + 0.002*\"остров\" + 0.002*\"cryptocephalus\" + 0.002*\"название\" + 0.002*\"матч\" + 0.002*\"посёлок\" + 0.002*\"житомирский_область\"'),\n",
       " (1,\n",
       "  '0.008*\"житомирский_область\" + 0.004*\"телефонный_код\" + 0.003*\"человек_почтовый\" + 0.003*\"индекс_—\" + 0.003*\"занимать_площадь\" + 0.003*\"население_по\" + 0.003*\"перепись_2001\" + 0.003*\"год_составлять\" + 0.003*\"на_украина\" + 0.003*\"км²\"'),\n",
       " (0,\n",
       "  '0.004*\"олимпийский_игра\" + 0.004*\"за_свой\" + 0.004*\"летний_олимпийский\" + 0.004*\"на_летний\" + 0.004*\"зимний_олимпийский\" + 0.004*\"история_но\" + 0.004*\"не_завоевать\" + 0.003*\"ни_один\" + 0.003*\"житомирский_область\" + 0.003*\"село\"')]"
      ]
     },
     "execution_count": 166,
     "metadata": {},
     "output_type": "execute_result"
    }
   ],
   "source": [
    "lda4.print_topics()"
   ]
  }
 ],
 "metadata": {
  "colab": {
   "collapsed_sections": [],
   "name": "homework.ipynb",
   "provenance": []
  },
  "kernelspec": {
   "display_name": "Python 3",
   "language": "python",
   "name": "python3"
  },
  "language_info": {
   "codemirror_mode": {
    "name": "ipython",
    "version": 3
   },
   "file_extension": ".py",
   "mimetype": "text/x-python",
   "name": "python",
   "nbconvert_exporter": "python",
   "pygments_lexer": "ipython3",
   "version": "3.8.5"
  }
 },
 "nbformat": 4,
 "nbformat_minor": 5
}
