{
 "cells": [
  {
   "cell_type": "markdown",
   "metadata": {},
   "source": [
    "# Домашнее задание № 2. Мешок слов"
   ]
  },
  {
   "cell_type": "markdown",
   "metadata": {},
   "source": [
    "## Задание 1 (3 балла)"
   ]
  },
  {
   "cell_type": "markdown",
   "metadata": {},
   "source": [
    "У векторайзеров в sklearn есть встроенная токенизация на регулярных выражениях. Найдите способо заменить её на кастомную токенизацию"
   ]
  },
  {
   "cell_type": "markdown",
   "metadata": {},
   "source": [
    "Обучите векторайзер с дефолтной токенизацией и с токенизацией razdel.tokenize. Обучите классификатор с каждым из векторизаторов. Сравните метрики и выберете победителя. \n",
    "\n",
    "(в вашей тетрадке должен быть код обучения и все метрики; если вы сдаете в .py файлах то сохраните полученные метрики в отдельном файле или в комментариях)",
    "\n",
    "\n",
    "Ссылка на датасет: https://www.kaggle.com/blackmoon/russian-language-toxic-comments"
   ]
  },
  {
   "cell_type": "code",
   "execution_count": 51,
   "metadata": {},
   "outputs": [],
   "source": [
    "import pandas as pd\n",
    "import numpy as np\n",
    "import math\n",
    "\n",
    "import re\n",
    "\n",
    "import nltk\n",
    "from nltk.corpus import stopwords\n",
    "\n",
    "from sklearn.feature_extraction.text import CountVectorizer\n",
    "from sklearn.feature_extraction.text import TfidfVectorizer\n",
    "from sklearn.naive_bayes import MultinomialNB\n",
    "\n",
    "from sklearn.linear_model import LogisticRegression\n",
    "from sklearn.neighbors import KNeighborsClassifier\n",
    "\n",
    "from sklearn.model_selection import train_test_split\n",
    "from sklearn.metrics import classification_report\n",
    "\n",
    "from razdel import tokenize"
   ]
  },
  {
   "cell_type": "code",
   "execution_count": 20,
   "metadata": {},
   "outputs": [],
   "source": [
    "data = pd.read_csv('labeled.csv')"
   ]
  },
  {
   "cell_type": "code",
   "execution_count": 21,
   "metadata": {},
   "outputs": [
    {
     "data": {
      "text/html": [
       "<div>\n",
       "<style scoped>\n",
       "    .dataframe tbody tr th:only-of-type {\n",
       "        vertical-align: middle;\n",
       "    }\n",
       "\n",
       "    .dataframe tbody tr th {\n",
       "        vertical-align: top;\n",
       "    }\n",
       "\n",
       "    .dataframe thead th {\n",
       "        text-align: right;\n",
       "    }\n",
       "</style>\n",
       "<table border=\"1\" class=\"dataframe\">\n",
       "  <thead>\n",
       "    <tr style=\"text-align: right;\">\n",
       "      <th></th>\n",
       "      <th>comment</th>\n",
       "      <th>toxic</th>\n",
       "    </tr>\n",
       "  </thead>\n",
       "  <tbody>\n",
       "    <tr>\n",
       "      <th>0</th>\n",
       "      <td>Верблюдов-то за что? Дебилы, бл...\\n</td>\n",
       "      <td>1.0</td>\n",
       "    </tr>\n",
       "    <tr>\n",
       "      <th>1</th>\n",
       "      <td>Хохлы, это отдушина затюканого россиянина, мол...</td>\n",
       "      <td>1.0</td>\n",
       "    </tr>\n",
       "    <tr>\n",
       "      <th>2</th>\n",
       "      <td>Собаке - собачья смерть\\n</td>\n",
       "      <td>1.0</td>\n",
       "    </tr>\n",
       "    <tr>\n",
       "      <th>3</th>\n",
       "      <td>Страницу обнови, дебил. Это тоже не оскорблени...</td>\n",
       "      <td>1.0</td>\n",
       "    </tr>\n",
       "    <tr>\n",
       "      <th>4</th>\n",
       "      <td>тебя не убедил 6-страничный пдф в том, что Скр...</td>\n",
       "      <td>1.0</td>\n",
       "    </tr>\n",
       "  </tbody>\n",
       "</table>\n",
       "</div>"
      ],
      "text/plain": [
       "                                             comment  toxic\n",
       "0               Верблюдов-то за что? Дебилы, бл...\\n    1.0\n",
       "1  Хохлы, это отдушина затюканого россиянина, мол...    1.0\n",
       "2                          Собаке - собачья смерть\\n    1.0\n",
       "3  Страницу обнови, дебил. Это тоже не оскорблени...    1.0\n",
       "4  тебя не убедил 6-страничный пдф в том, что Скр...    1.0"
      ]
     },
     "execution_count": 21,
     "metadata": {},
     "output_type": "execute_result"
    }
   ],
   "source": [
    "data.head()"
   ]
  },
  {
   "cell_type": "markdown",
   "metadata": {},
   "source": [
    "Распределение классов:"
   ]
  },
  {
   "cell_type": "code",
   "execution_count": 22,
   "metadata": {},
   "outputs": [
    {
     "data": {
      "text/plain": [
       "<AxesSubplot:>"
      ]
     },
     "execution_count": 22,
     "metadata": {},
     "output_type": "execute_result"
    },
    {
     "data": {
      "image/png": "[encoded data removed]",
      "text/plain": [
       "<Figure size 432x288 with 1 Axes>"
      ]
     },
     "metadata": {
      "needs_background": "light"
     },
     "output_type": "display_data"
    }
   ],
   "source": [
    "data['toxic'].value_counts().plot(kind=\"bar\")"
   ]
  },
  {
   "cell_type": "markdown",
   "metadata": {},
   "source": [
    "### Векторизация"
   ]
  },
  {
   "cell_type": "code",
   "execution_count": 23,
   "metadata": {},
   "outputs": [],
   "source": [
    "# делим датасет на обучающую и тестовую выборки в отношении 90/10\n",
    "train, test = train_test_split(data, test_size=0.1, shuffle=True)\n",
    "\n",
    "Y_train = train.toxic.values\n",
    "Y_test = test.toxic.values"
   ]
  },
  {
   "cell_type": "code",
   "execution_count": 24,
   "metadata": {},
   "outputs": [],
   "source": [
    "# векторизация с дефолтной токенизацией\n",
    "default_vectorizer = CountVectorizer()\n",
    "X_default_tokens = default_vectorizer.fit_transform(train.comment)\n",
    "X_test_1 = default_vectorizer.transform(test.comment) "
   ]
  },
  {
   "cell_type": "code",
   "execution_count": 25,
   "metadata": {},
   "outputs": [],
   "source": [
    "# токенизация текста с razdel\n",
    "def tokenize_via_razdel(text):\n",
    "    tokens = list(tokenize(text))\n",
    "    tokens = [_.text for _ in tokens]\n",
    "    return(tokens)\n",
    "\n",
    "# векторизация с токенизацией из razdel\n",
    "custom_vectorizer = CountVectorizer(tokenizer=tokenize_via_razdel)\n",
    "X_razdel_tokens = custom_vectorizer.fit_transform(train.comment)\n",
    "X_test_2 = custom_vectorizer.transform(test.comment) "
   ]
  },
  {
   "cell_type": "markdown",
   "metadata": {},
   "source": [
    "Посмотрим на размерности получившихся матриц:"
   ]
  },
  {
   "cell_type": "code",
   "execution_count": 26,
   "metadata": {},
   "outputs": [
    {
     "data": {
      "text/plain": [
       "(12970, 63674)"
      ]
     },
     "execution_count": 26,
     "metadata": {},
     "output_type": "execute_result"
    }
   ],
   "source": [
    "X_default_tokens.shape"
   ]
  },
  {
   "cell_type": "code",
   "execution_count": 27,
   "metadata": {},
   "outputs": [
    {
     "data": {
      "text/plain": [
       "(12970, 64616)"
      ]
     },
     "execution_count": 27,
     "metadata": {},
     "output_type": "execute_result"
    }
   ],
   "source": [
    "X_razdel_tokens.shape"
   ]
  },
  {
   "cell_type": "markdown",
   "metadata": {},
   "source": [
    "### Fit/Predict via LogReg "
   ]
  },
  {
   "cell_type": "code",
   "execution_count": 28,
   "metadata": {},
   "outputs": [],
   "source": [
    "# обучаем классификатор с дефолтным векторайзером\n",
    "clf_1 = LogisticRegression(C=0.1, class_weight='balanced', max_iter=1000)\n",
    "clf_1.fit(X_default_tokens, Y_train)\n",
    "\n",
    "# обучаем классификатор с кастомным векторайзером\n",
    "clf_2 = LogisticRegression(C=0.1, class_weight='balanced', max_iter=1000)\n",
    "clf_2.fit(X_razdel_tokens, Y_train)\n",
    "\n",
    "# получаем предсказания классификаторов для тестовых примеров\n",
    "predictions_1 = clf_1.predict(X_test_1)\n",
    "predictions_2 = clf_2.predict(X_test_2)"
   ]
  },
  {
   "attachments": {
    "image-3.png": {
     "image/png": "[encoded data removed]"
    }
   },
   "cell_type": "markdown",
   "metadata": {},
   "source": [
    "### Сравнение метрик, выбор лучшей модели\n",
    "\n",
    "В таблице представлены метрики для двух классификаторов: accuracy и *взвешенное среднее* для precision, recall, f1. Если округлять до сотых, то различий в качестве не будет. Но если оставить 4 знака, то видно, что классификатор с токенизацией на основе razdel немного лучше, чем модель с дефолтной токенизацией. \n",
    "\n",
    "![image-3.png](attachment:image-3.png)\n",
    "\n",
    "*Note: при повторном запуске кода значения метрик поменяются, так как документы в датасете перемешиваются*\n",
    "\n",
    "**Вывод:** векторизация с razdel-токенизацией позволяет немного повысить качество классификатора. Однако улучшение очень незначительное: разница между f-мерами двух классификаторов составила 0.0034."
   ]
  },
  {
   "cell_type": "code",
   "execution_count": 29,
   "metadata": {},
   "outputs": [
    {
     "name": "stdout",
     "output_type": "stream",
     "text": [
      "              precision    recall  f1-score   support\n",
      "\n",
      "         0.0     0.9122    0.8352    0.8720       983\n",
      "         1.0     0.7011    0.8279    0.7592       459\n",
      "\n",
      "    accuracy                         0.8329      1442\n",
      "   macro avg     0.8067    0.8315    0.8156      1442\n",
      "weighted avg     0.8450    0.8329    0.8361      1442\n",
      "\n"
     ]
    }
   ],
   "source": [
    "# метрики для классификатора с дефолтным векторайзером\n",
    "print(classification_report(Y_test, predictions_1, digits=4))"
   ]
  },
  {
   "cell_type": "code",
   "execution_count": 30,
   "metadata": {},
   "outputs": [
    {
     "name": "stdout",
     "output_type": "stream",
     "text": [
      "              precision    recall  f1-score   support\n",
      "\n",
      "         0.0     0.9155    0.8372    0.8746       983\n",
      "         1.0     0.7053    0.8344    0.7645       459\n",
      "\n",
      "    accuracy                         0.8363      1442\n",
      "   macro avg     0.8104    0.8358    0.8195      1442\n",
      "weighted avg     0.8486    0.8363    0.8395      1442\n",
      "\n"
     ]
    }
   ],
   "source": [
    "# метрики для классификатора с кастомным векторайзером\n",
    "print(classification_report(Y_test, predictions_2, digits=4))"
   ]
  },
  {
   "cell_type": "markdown",
   "metadata": {},
   "source": [
    "## Задание 2 (3 балла)"
   ]
  },
  {
   "cell_type": "markdown",
   "metadata": {},
   "source": [
    "Преобразуйте таблицу с абсолютными частотностями в семинарской тетрадке в таблицу с tfidf значениями. (Таблица - https://i.ibb.co/r5Nc2HC/abs-bow.jpg) Формула tfidf есть в семинаре на картинке с пояснениями на английском. \n",
    "Считать нужно в питоне. Формат итоговой таблицы может быть любым, главное, чтобы был код и можно было воспроизвести вычисления. "
   ]
  },
  {
   "attachments": {
    "image.png": {
     "image/png": "[encoded data removed]"
    }
   },
   "cell_type": "markdown",
   "metadata": {},
   "source": [
    "Преобразованная таблица:\n",
    "\n",
    "![image.png](attachment:image.png)"
   ]
  },
  {
   "cell_type": "code",
   "execution_count": 31,
   "metadata": {},
   "outputs": [
    {
     "name": "stdout",
     "output_type": "stream",
     "text": [
      "[[0.032 0.133 0.074 0.    0.    0.   ]\n",
      " [0.032 0.133 0.074 0.    0.    0.   ]\n",
      " [0.058 0.    0.044 0.08  0.    0.   ]\n",
      " [0.032 0.    0.    0.133 0.233 0.   ]\n",
      " [0.    0.    0.    0.    0.    0.699]]\n"
     ]
    }
   ],
   "source": [
    "# исходные данные\n",
    "data = ['я и ты', 'ты и я', 'я я и только я', 'только не я', 'он']\n",
    "# токенизируем каждое предложение\n",
    "data = [tokenize_via_razdel(d) for d in data]\n",
    "# задаем словарь\n",
    "vocabulary = ['я', 'ты', 'и', 'только', 'не', 'он']\n",
    "\n",
    "def calculate_tf_idf(docs_tokenized, vocab):\n",
    "    N = len(docs_tokenized)\n",
    "    V = len(vocab)\n",
    "    result = np.zeros((N, V))    \n",
    "    for i in range(0, N):\n",
    "        doc = docs_tokenized[i]\n",
    "        for w in doc:\n",
    "            j = vocab.index(w)\n",
    "            # считаем tf\n",
    "            tf = doc.count(w)/len(doc)\n",
    "            df = 0\n",
    "            # считаем df\n",
    "            for d in docs_tokenized:\n",
    "                if w in d:\n",
    "                    df += 1\n",
    "            idf = np.log10(N/df)\n",
    "            tfidf = tf * idf\n",
    "            result[i, j] = round(tfidf, 3)\n",
    "            \n",
    "    return result\n",
    "                \n",
    "print(calculate_tf_idf(data, vocabulary))  "
   ]
  },
  {
   "cell_type": "markdown",
   "metadata": {},
   "source": [
    "## Задание 3 (2 балла) "
   ]
  },
  {
   "cell_type": "markdown",
   "metadata": {},
   "source": [
    "Обучите 2 любых разных классификатора из семинара. Предскажите токсичность для текстов из тестовой выборки (используйте одну и ту же выборку для обоих классификаторов) и найдите 10 самых токсичных для каждого из классификаторов. Сравните получаемые тексты - какие тексты совпадают, какие отличаются, правда ли тексты токсичные?"
   ]
  },
  {
   "cell_type": "markdown",
   "metadata": {},
   "source": [
    "Требования к классификаторам:   \n",
    "а) один должен использовать CountVectorizer, другой TfidfVectorizer  \n",
    "б) у векторазера должны быть вручную заданы как минимум 5 параметров  \n",
    "в) у классификатора должно быть задано вручную как минимум 2 параметра  \n",
    "г)  f1 мера каждого из классификаторов должна быть минимум 0.75  "
   ]
  },
  {
   "cell_type": "markdown",
   "metadata": {},
   "source": [
    "### Model 1. CountVectorizer + Naive Bayes"
   ]
  },
  {
   "cell_type": "markdown",
   "metadata": {},
   "source": [
    "Загрузка списка стоп-слов для русского языка из библиотеки NLTK"
   ]
  },
  {
   "cell_type": "code",
   "execution_count": 32,
   "metadata": {},
   "outputs": [
    {
     "name": "stderr",
     "output_type": "stream",
     "text": [
      "[nltk_data] Downloading package stopwords to /home/lisa/nltk_data...\n",
      "[nltk_data]   Package stopwords is already up-to-date!\n"
     ]
    }
   ],
   "source": [
    "nltk.download(\"stopwords\") # загрузка списка стоп-слов\n",
    "russian_stopwords = stopwords.words(\"russian\") "
   ]
  },
  {
   "cell_type": "code",
   "execution_count": 46,
   "metadata": {},
   "outputs": [],
   "source": [
    "count_vectorizer = CountVectorizer(tokenizer=tokenize_via_razdel, stop_words=russian_stopwords,\n",
    "                            max_features=1000, min_df=5, max_df=0.4)\n",
    "X = count_vectorizer.fit_transform(train.comment)\n",
    "X_test = count_vectorizer.transform(test.comment)"
   ]
  },
  {
   "cell_type": "code",
   "execution_count": 47,
   "metadata": {},
   "outputs": [],
   "source": [
    "nb_classifier = MultinomialNB(alpha=1., fit_prior=True)\n",
    "nb_classifier.fit(X, Y_train)\n",
    "\n",
    "preds = nb_classifier.predict(X_test)"
   ]
  },
  {
   "cell_type": "code",
   "execution_count": 48,
   "metadata": {},
   "outputs": [
    {
     "name": "stdout",
     "output_type": "stream",
     "text": [
      "              precision    recall  f1-score   support\n",
      "\n",
      "         0.0       0.80      0.88      0.84       983\n",
      "         1.0       0.68      0.52      0.59       459\n",
      "\n",
      "    accuracy                           0.77      1442\n",
      "   macro avg       0.74      0.70      0.71      1442\n",
      "weighted avg       0.76      0.77      0.76      1442\n",
      "\n"
     ]
    }
   ],
   "source": [
    "print(classification_report(Y_test, preds, zero_division=0))"
   ]
  },
  {
   "cell_type": "code",
   "execution_count": 126,
   "metadata": {},
   "outputs": [],
   "source": [
    "probs = nb_classifier.predict_proba(X_test)\n",
    "# оставляем только вероятности для токсичного класса (1)\n",
    "toxic_probs = [p[1] for p in probs]\n",
    "\n",
    "comments = test.comment.tolist()\n",
    "\n",
    "res = dict(zip(comments, toxic_probs))\n",
    "res_sorted = {f'{k} : {v}': v for k, v in sorted(res.items(), key=lambda item: item[1])}\n",
    "\n",
    "top_ten_nb = list(res_sorted)[-10:]"
   ]
  },
  {
   "cell_type": "markdown",
   "metadata": {},
   "source": [
    "⚠️ 🤬 TOP 10 toxic comments for NB classifier:"
   ]
  },
  {
   "cell_type": "code",
   "execution_count": 123,
   "metadata": {},
   "outputs": [
    {
     "data": {
      "text/plain": [
       "['Поясните че с ним случилось на ласт стриме хохлы\\n|0.9727785691517121',\n",
       " 'Якуты сила. Моё увожение. Удел пидорахи - уважать расистов-погромщиков. Русские холопы только перед силой преклоняются\\n|0.9729665215500491',\n",
       " 'Эдвард Билл вас в жопу бил? Ыыыыы мазафакка сука\\n|0.9742928512640455',\n",
       " 'Целью встречи стали переговоры о сохранении поставок газа А что, у него есть полномочия вести такие переговоры? Сука блядский цирк. Какие же хохлы дегенераты, пиздец просто\\n|0.9752348488283342',\n",
       " 'а всех русофобствующих по рашников, хохлов, окатышей - забанить и пидорнуть в ньюсач Пидорашка не палится.\\n|0.9771493874756672',\n",
       " 'Чому она хохлов так ненавидит?\\n|0.9831368705111911',\n",
       " 'Пидорашек выселить, а не хохлов Ты сам себе противоречишь, дурачок.\\n|0.9852037272346809',\n",
       " 'НУ ЧО СУКА ПРОСИЛ СКЕТЧИ? ПРОСИЛ? ПОЛУЧАЙ БЛЯДЬ!!\\n|0.9888639011784247',\n",
       " 'ряяяге У, сука ссыкливая, скажи мне это в лицо.\\n|0.9898306875397478',\n",
       " 'Блять какой же жырный сука старый! Сороковник ему небось...\\n|0.9908402193481992']"
      ]
     },
     "execution_count": 123,
     "metadata": {},
     "output_type": "execute_result"
    }
   ],
   "source": [
    "top_ten_nb"
   ]
  },
  {
   "cell_type": "markdown",
   "metadata": {},
   "source": [
    "### Model 2. TF-IDF + LogReg"
   ]
  },
  {
   "cell_type": "code",
   "execution_count": 65,
   "metadata": {},
   "outputs": [],
   "source": [
    "tfidf_vectorizer = TfidfVectorizer(tokenizer=tokenize_via_razdel, stop_words=russian_stopwords,\n",
    "                            max_features=1000, min_df=4, max_df=0.4)\n",
    "\n",
    "X = tfidf_vectorizer.fit_transform(train.comment)\n",
    "X_test = tfidf_vectorizer.transform(test.comment)"
   ]
  },
  {
   "cell_type": "code",
   "execution_count": 66,
   "metadata": {},
   "outputs": [],
   "source": [
    "logreg_classifier = LogisticRegression(C=0.1, class_weight='balanced', max_iter=1000)\n",
    "logreg_classifier.fit(X, Y_train)\n",
    "\n",
    "preds = logreg_classifier.predict(X_test)"
   ]
  },
  {
   "cell_type": "code",
   "execution_count": 67,
   "metadata": {},
   "outputs": [
    {
     "name": "stdout",
     "output_type": "stream",
     "text": [
      "              precision    recall  f1-score   support\n",
      "\n",
      "         0.0       0.86      0.77      0.82       983\n",
      "         1.0       0.60      0.73      0.66       459\n",
      "\n",
      "    accuracy                           0.76      1442\n",
      "   macro avg       0.73      0.75      0.74      1442\n",
      "weighted avg       0.78      0.76      0.77      1442\n",
      "\n"
     ]
    }
   ],
   "source": [
    "print(classification_report(Y_test, preds, zero_division=0))"
   ]
  },
  {
   "cell_type": "code",
   "execution_count": 127,
   "metadata": {},
   "outputs": [],
   "source": [
    "probs = logreg_classifier.predict_proba(X_test)\n",
    "# оставляем только вероятности для токсичного класса (1)\n",
    "toxic_probs = [p[1] for p in probs]\n",
    "\n",
    "comments = test.comment.tolist()\n",
    "\n",
    "res = dict(zip(comments, toxic_probs))\n",
    "res_sorted = {f'{k} :  {v}': v for k, v in sorted(res.items(), key=lambda item: item[1])}\n",
    "\n",
    "top_ten_logreg = list(res_sorted)[-10:]"
   ]
  },
  {
   "cell_type": "markdown",
   "metadata": {},
   "source": [
    "⚠️ 🤬 TOP 10 toxic comments for LogReg classifier:"
   ]
  },
  {
   "cell_type": "code",
   "execution_count": 128,
   "metadata": {},
   "outputs": [
    {
     "data": {
      "text/plain": [
       "['КАКИЕ ХОХЛЫ?! два урода. при чём ту вообще ХОХЛЫ! аноны, смотрите! я двух шлюх проплаченых поймал!\\n :  0.8523192700784018',\n",
       " 'Какие же хохлы незалежные дегенераты, пиздец просто.\\n :  0.853956960214416',\n",
       " 'куколдыш Иди значение выучи, мурло Скоро и тебе пиздарики наступят. Что сделаешь, насрешь под дверью, ЧМО?\\n :  0.8581592282990994',\n",
       " 'Тебе не похуй, пидорас ебучий?\\n :  0.8670507307902792',\n",
       " 'Чому она хохлов так ненавидит?\\n :  0.8680429952106874',\n",
       " 'Свин, иди нахуй. Можно хоть один тред без политоты? Даже тебя хуеосить не хочется, давай лучше про няшек-фигуристок говорить.\\n :  0.8696793433707911',\n",
       " 'Блять какой же жырный сука старый! Сороковник ему небось...\\n :  0.8706349634919428',\n",
       " 'Иди нахуй,бля. Я искал эту хуйню так как дрочу в гостиницах, когда в командировки летаю. Сплю бухой без трусов. Мне нужная эта ебень.\\n :  0.8876528208385862',\n",
       " 'Хохол, тебе разве Петя разрешил в эфир выходить? Иди Томос встречай.\\n :  0.8899308281894605',\n",
       " 'Нахуй иди, я тебе весь тред что ли читать буду? Пидор, бешбармак тебе в хычин!\\n :  0.9423265632021804']"
      ]
     },
     "execution_count": 128,
     "metadata": {},
     "output_type": "execute_result"
    }
   ],
   "source": [
    "top_ten_logreg"
   ]
  },
  {
   "cell_type": "markdown",
   "metadata": {},
   "source": [
    "### Анализ результатов ⚠️ 🤬\n",
    "\n",
    "<br>\n",
    "Среднее взвешенное F-меры для двух классификаторов:\n",
    "\n",
    "| Classifier    | F-score |\n",
    "| ----------- | ----------- |\n",
    "| Naive Bayes      |    0.76    |\n",
    "| Log Reg   | 0.77        |\n",
    "\n",
    "**Сравнение токсичных комментариев** \n",
    "<br>\n",
    "Для каждого классификатора ТОP-10 токсичных комментариев получился разным. Все комментарии в     ТОП-ах действительно токсичны, так как содержат мат и ругательства. \n",
    "<br>\n",
    "Совпали только 2 комментария:\n",
    "<br>\n",
    "1)  Чому она хохлов так ненавидит?\n",
    "<br>\n",
    "2)  Б🤬ь какой же жырный с🤬а старый! Сороковник ему небось...\n",
    "<br>\n",
    "\n",
    "При этом комментарий 1 не настолько токсичен, как комментарии с матом. Тем не менее, обе модели определили данный комментарий как один из самых токсичных. "
   ]
  }
 ],
 "metadata": {
  "kernelspec": {
   "display_name": "Python 3",
   "language": "python",
   "name": "python3"
  },
  "language_info": {
   "codemirror_mode": {
    "name": "ipython",
    "version": 3
   },
   "file_extension": ".py",
   "mimetype": "text/x-python",
   "name": "python",
   "nbconvert_exporter": "python",
   "pygments_lexer": "ipython3",
   "version": "3.8.5"
  }
 },
 "nbformat": 4,
 "nbformat_minor": 5
}
